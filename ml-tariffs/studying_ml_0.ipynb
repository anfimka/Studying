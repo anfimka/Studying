{
 "cells": [
  {
   "cell_type": "code",
   "execution_count": null,
   "metadata": {
    "colab": {
     "base_uri": "https://localhost:8080/"
    },
    "id": "nhmozlY_S1K_",
    "outputId": "2d535ba5-7403-4960-954f-eb5e4232367b"
   },
   "outputs": [
    {
     "name": "stdout",
     "output_type": "stream",
     "text": [
      "Mounted at /content/drive\n"
     ]
    }
   ],
   "source": [
    "from google.colab import drive\n",
    "drive.mount('/content/drive')"
   ]
  },
  {
   "cell_type": "markdown",
   "metadata": {
    "id": "-wka03SgHcrr"
   },
   "source": [
    "## Обзор данных"
   ]
  },
  {
   "cell_type": "code",
   "execution_count": null,
   "metadata": {
    "id": "yFhk-mJ8Hcrr"
   },
   "outputs": [],
   "source": [
    "from sklearn.model_selection import train_test_split\n",
    "import pandas as pd\n",
    "from sklearn.tree import DecisionTreeClassifier\n",
    "from sklearn.ensemble import RandomForestClassifier\n",
    "from sklearn.linear_model import LogisticRegression\n",
    "from sklearn.metrics import accuracy_score\n",
    "from sklearn.metrics import classification_report\n",
    "from sklearn.dummy import DummyClassifier"
   ]
  },
  {
   "cell_type": "code",
   "execution_count": null,
   "metadata": {
    "id": "yhCcaM3dHcrs"
   },
   "outputs": [],
   "source": [
    "df = pd.read_csv('/content/drive/MyDrive/Data/ml-0-users_behavior.csv')"
   ]
  },
  {
   "cell_type": "code",
   "execution_count": null,
   "metadata": {
    "colab": {
     "base_uri": "https://localhost:8080/",
     "height": 204
    },
    "id": "cakEuqcBHcrt",
    "outputId": "ceff59d1-f88a-45bd-e203-e23ed692c461"
   },
   "outputs": [
    {
     "data": {
      "text/html": [
       "<div>\n",
       "<style scoped>\n",
       "    .dataframe tbody tr th:only-of-type {\n",
       "        vertical-align: middle;\n",
       "    }\n",
       "\n",
       "    .dataframe tbody tr th {\n",
       "        vertical-align: top;\n",
       "    }\n",
       "\n",
       "    .dataframe thead th {\n",
       "        text-align: right;\n",
       "    }\n",
       "</style>\n",
       "<table border=\"1\" class=\"dataframe\">\n",
       "  <thead>\n",
       "    <tr style=\"text-align: right;\">\n",
       "      <th></th>\n",
       "      <th>calls</th>\n",
       "      <th>minutes</th>\n",
       "      <th>messages</th>\n",
       "      <th>mb_used</th>\n",
       "      <th>is_ultra</th>\n",
       "    </tr>\n",
       "  </thead>\n",
       "  <tbody>\n",
       "    <tr>\n",
       "      <th>0</th>\n",
       "      <td>40.0</td>\n",
       "      <td>311.90</td>\n",
       "      <td>83.0</td>\n",
       "      <td>19915.42</td>\n",
       "      <td>0</td>\n",
       "    </tr>\n",
       "    <tr>\n",
       "      <th>1</th>\n",
       "      <td>85.0</td>\n",
       "      <td>516.75</td>\n",
       "      <td>56.0</td>\n",
       "      <td>22696.96</td>\n",
       "      <td>0</td>\n",
       "    </tr>\n",
       "    <tr>\n",
       "      <th>2</th>\n",
       "      <td>77.0</td>\n",
       "      <td>467.66</td>\n",
       "      <td>86.0</td>\n",
       "      <td>21060.45</td>\n",
       "      <td>0</td>\n",
       "    </tr>\n",
       "    <tr>\n",
       "      <th>3</th>\n",
       "      <td>106.0</td>\n",
       "      <td>745.53</td>\n",
       "      <td>81.0</td>\n",
       "      <td>8437.39</td>\n",
       "      <td>1</td>\n",
       "    </tr>\n",
       "    <tr>\n",
       "      <th>4</th>\n",
       "      <td>66.0</td>\n",
       "      <td>418.74</td>\n",
       "      <td>1.0</td>\n",
       "      <td>14502.75</td>\n",
       "      <td>0</td>\n",
       "    </tr>\n",
       "  </tbody>\n",
       "</table>\n",
       "</div>"
      ],
      "text/plain": [
       "   calls  minutes  messages   mb_used  is_ultra\n",
       "0   40.0   311.90      83.0  19915.42         0\n",
       "1   85.0   516.75      56.0  22696.96         0\n",
       "2   77.0   467.66      86.0  21060.45         0\n",
       "3  106.0   745.53      81.0   8437.39         1\n",
       "4   66.0   418.74       1.0  14502.75         0"
      ]
     },
     "execution_count": 4,
     "metadata": {
      "tags": []
     },
     "output_type": "execute_result"
    }
   ],
   "source": [
    "df.head()"
   ]
  },
  {
   "cell_type": "code",
   "execution_count": null,
   "metadata": {
    "colab": {
     "base_uri": "https://localhost:8080/"
    },
    "id": "gP_jnD20Hcru",
    "outputId": "fe105281-fd5f-4713-a0a2-c5ba4b01eafc"
   },
   "outputs": [
    {
     "name": "stdout",
     "output_type": "stream",
     "text": [
      "<class 'pandas.core.frame.DataFrame'>\n",
      "RangeIndex: 3214 entries, 0 to 3213\n",
      "Data columns (total 5 columns):\n",
      " #   Column    Non-Null Count  Dtype  \n",
      "---  ------    --------------  -----  \n",
      " 0   calls     3214 non-null   float64\n",
      " 1   minutes   3214 non-null   float64\n",
      " 2   messages  3214 non-null   float64\n",
      " 3   mb_used   3214 non-null   float64\n",
      " 4   is_ultra  3214 non-null   int64  \n",
      "dtypes: float64(4), int64(1)\n",
      "memory usage: 125.7 KB\n"
     ]
    }
   ],
   "source": [
    "df.info()"
   ]
  },
  {
   "cell_type": "code",
   "execution_count": null,
   "metadata": {
    "colab": {
     "base_uri": "https://localhost:8080/"
    },
    "id": "yhzf15R1Hcru",
    "outputId": "9587ef28-e323-4df3-c542-1e2ddbb2b50a"
   },
   "outputs": [
    {
     "data": {
      "text/plain": [
       "calls         244.00\n",
       "minutes      1632.06\n",
       "messages      224.00\n",
       "mb_used     49745.73\n",
       "is_ultra        1.00\n",
       "dtype: float64"
      ]
     },
     "execution_count": 6,
     "metadata": {
      "tags": []
     },
     "output_type": "execute_result"
    }
   ],
   "source": [
    "df.max()"
   ]
  },
  {
   "cell_type": "code",
   "execution_count": null,
   "metadata": {
    "colab": {
     "base_uri": "https://localhost:8080/"
    },
    "id": "eqHsxpfvHcru",
    "outputId": "9d4e53bd-7448-47a5-9a44-291f6763dd5a"
   },
   "outputs": [
    {
     "data": {
      "text/plain": [
       "calls       0.0\n",
       "minutes     0.0\n",
       "messages    0.0\n",
       "mb_used     0.0\n",
       "is_ultra    0.0\n",
       "dtype: float64"
      ]
     },
     "execution_count": 7,
     "metadata": {
      "tags": []
     },
     "output_type": "execute_result"
    }
   ],
   "source": [
    "df.min()"
   ]
  },
  {
   "cell_type": "code",
   "execution_count": null,
   "metadata": {
    "colab": {
     "base_uri": "https://localhost:8080/"
    },
    "id": "Hi2uiZNUHcrv",
    "outputId": "57a0ff01-0ebe-4d79-da98-12459a310b07"
   },
   "outputs": [
    {
     "data": {
      "text/plain": [
       "0.30647168637212197"
      ]
     },
     "execution_count": 8,
     "metadata": {
      "tags": []
     },
     "output_type": "execute_result"
    }
   ],
   "source": [
    "df['is_ultra'].mean()"
   ]
  },
  {
   "cell_type": "markdown",
   "metadata": {
    "id": "DUhHgh9qHcrv"
   },
   "source": [
    "Пропусков нет, аномальных значений нет. Можно работать дальше."
   ]
  },
  {
   "cell_type": "markdown",
   "metadata": {
    "id": "lCuYUBcrHcrv"
   },
   "source": [
    "## Разбивка данных на выборки"
   ]
  },
  {
   "cell_type": "code",
   "execution_count": null,
   "metadata": {
    "id": "_cq68FE-Hcrw"
   },
   "outputs": [],
   "source": [
    "df_train, df_valid = train_test_split(df, test_size = 0.2, random_state = 4)"
   ]
  },
  {
   "cell_type": "code",
   "execution_count": null,
   "metadata": {
    "id": "1sgaWT5DHcrw"
   },
   "outputs": [],
   "source": [
    "df_train, df_test = train_test_split(df_train, test_size = 0.2, random_state = 4)"
   ]
  },
  {
   "cell_type": "code",
   "execution_count": null,
   "metadata": {
    "colab": {
     "base_uri": "https://localhost:8080/"
    },
    "id": "b6a2p27dHcrw",
    "outputId": "27769ce7-c531-405c-ec32-4e6200706936"
   },
   "outputs": [
    {
     "data": {
      "text/plain": [
       "True"
      ]
     },
     "execution_count": 11,
     "metadata": {
      "tags": []
     },
     "output_type": "execute_result"
    }
   ],
   "source": [
    "len(df_train) + len(df_test) + len(df_valid) == len(df)"
   ]
  },
  {
   "cell_type": "code",
   "execution_count": null,
   "metadata": {
    "id": "0Y_NrsObHcrw"
   },
   "outputs": [],
   "source": [
    "features_train = df_train.drop('is_ultra', axis = 1)\n",
    "features_valid = df_valid.drop('is_ultra', axis = 1)\n",
    "features_test = df_test.drop('is_ultra', axis = 1)\n",
    "target_train = df_train['is_ultra']\n",
    "target_valid = df_valid['is_ultra']\n",
    "target_test = df_test['is_ultra']"
   ]
  },
  {
   "cell_type": "markdown",
   "metadata": {
    "id": "6hKlkiQGHcry"
   },
   "source": [
    "Разбиваю на три выборки: 60% тест, 20% тренировочная, 20% валидационная. Проверяю, чтобы количество строк всех выборок сходилась с основным дф."
   ]
  },
  {
   "cell_type": "markdown",
   "metadata": {
    "id": "dKNsKAd1Hcr0"
   },
   "source": [
    "## Исследование моделей"
   ]
  },
  {
   "cell_type": "markdown",
   "metadata": {
    "id": "EI1crWAqHcr0"
   },
   "source": [
    "Задача классификации, поэтому рассматриваю три модели:\n",
    " - Решающее дерево\n",
    " - Случайный лес\n",
    " - Логистическая регрессия"
   ]
  },
  {
   "cell_type": "markdown",
   "metadata": {
    "id": "9MD8jPWJHcr0"
   },
   "source": [
    "### Решающее дерево"
   ]
  },
  {
   "cell_type": "code",
   "execution_count": null,
   "metadata": {
    "colab": {
     "base_uri": "https://localhost:8080/"
    },
    "id": "KKxTGAJDHcr1",
    "outputId": "691ee68c-10d6-484b-95d4-6e38625d38af"
   },
   "outputs": [
    {
     "name": "stdout",
     "output_type": "stream",
     "text": [
      "gini 4 0.807153965785381\n"
     ]
    }
   ],
   "source": [
    "criterion = ['gini', 'entropy']\n",
    "best_accuracy = 0.0\n",
    "best_criterion = ['']\n",
    "best_depth = 0\n",
    "for a in criterion:\n",
    "    for i in range(1,10):\n",
    "        model = DecisionTreeClassifier(random_state = 4, max_depth = i, criterion = a)\n",
    "        model.fit(features_train, target_train)\n",
    "        predictions = model.predict(features_valid)\n",
    "        accuracy = accuracy_score(target_valid, predictions)\n",
    "        if accuracy > best_accuracy:\n",
    "            best_accuracy = accuracy\n",
    "            best_criterion = a\n",
    "            best_depth = i\n",
    "print(best_criterion, best_depth, best_accuracy)"
   ]
  },
  {
   "cell_type": "markdown",
   "metadata": {
    "id": "tBsknMtuHcr1"
   },
   "source": [
    "Решающее дерево имеет точность 0.807. Наилучшие параметры:\n",
    "- criterion = 'gini'\n",
    "- max_depth = 4"
   ]
  },
  {
   "cell_type": "markdown",
   "metadata": {
    "id": "oiHFv20aHcr2"
   },
   "source": [
    "### Случайный лес"
   ]
  },
  {
   "cell_type": "code",
   "execution_count": null,
   "metadata": {
    "colab": {
     "base_uri": "https://localhost:8080/"
    },
    "id": "UIWZG3BKHcr3",
    "outputId": "ed46df30-7fb6-4acf-e935-45beeca747bc"
   },
   "outputs": [
    {
     "name": "stdout",
     "output_type": "stream",
     "text": [
      "entropy 6 19 0.8304821150855366\n"
     ]
    }
   ],
   "source": [
    "criterion = ['gini', 'entropy']\n",
    "best_accuracy = 0.0\n",
    "best_criterion = ['']\n",
    "best_depth = 0\n",
    "best_est = 0\n",
    "for a in criterion:\n",
    "    for n in range(1, 51, 1):\n",
    "        for i in range(1,10):\n",
    "            model = RandomForestClassifier(random_state = 4, criterion = a, max_depth = i, n_estimators = n)\n",
    "            model.fit(features_train, target_train)\n",
    "            predictions = model.predict(features_valid)\n",
    "            accuracy = accuracy_score(target_valid, predictions)\n",
    "            if accuracy > best_accuracy:\n",
    "                best_accuracy = accuracy\n",
    "                best_criterion = a\n",
    "                best_depth = i\n",
    "                best_est = n\n",
    "print(best_criterion, best_depth, best_est, best_accuracy)"
   ]
  },
  {
   "cell_type": "markdown",
   "metadata": {
    "id": "5YovxqxyHcr4"
   },
   "source": [
    "Случайный лес имеет точность 0.83. Наилучшие параметры:\n",
    "- criterion = 'entropy\n",
    "- max_depth = 6\n",
    "- n_estimators = 19"
   ]
  },
  {
   "cell_type": "markdown",
   "metadata": {
    "id": "fwl8z2zlHcr5"
   },
   "source": [
    "### Логистическая регрессия"
   ]
  },
  {
   "cell_type": "code",
   "execution_count": null,
   "metadata": {
    "colab": {
     "base_uri": "https://localhost:8080/"
    },
    "id": "OSr2SNtxHcr6",
    "outputId": "77506777-8f44-4a90-ccbf-1eab89b50ac4"
   },
   "outputs": [
    {
     "data": {
      "text/plain": [
       "0.6967340590979783"
      ]
     },
     "execution_count": 15,
     "metadata": {
      "tags": []
     },
     "output_type": "execute_result"
    }
   ],
   "source": [
    "model = LogisticRegression(random_state = 4, max_iter = 10000)\n",
    "model.fit(features_train, target_train)\n",
    "predictions = model.predict(features_valid)\n",
    "accuracy = accuracy_score(target_valid, predictions)\n",
    "accuracy"
   ]
  },
  {
   "cell_type": "markdown",
   "metadata": {
    "id": "qHnVNYADHcr8"
   },
   "source": [
    "Логистическая регрессия имеет точность 0.69."
   ]
  },
  {
   "cell_type": "markdown",
   "metadata": {
    "id": "LdAgDo8IHcr8"
   },
   "source": [
    "## Проверка модели на тестовой выборке"
   ]
  },
  {
   "cell_type": "code",
   "execution_count": null,
   "metadata": {
    "colab": {
     "base_uri": "https://localhost:8080/"
    },
    "id": "5sTZR01sHcr8",
    "outputId": "dce04ec5-3748-4fd5-e825-b1094871f284"
   },
   "outputs": [
    {
     "data": {
      "text/plain": [
       "0.8"
      ]
     },
     "execution_count": 16,
     "metadata": {
      "tags": []
     },
     "output_type": "execute_result"
    }
   ],
   "source": [
    "model = RandomForestClassifier(random_state = 4, criterion = 'entropy', max_depth = 6, n_estimators = 19)\n",
    "model.fit(features_train, target_train)\n",
    "predictions = model.predict(features_test)\n",
    "accuracy = accuracy_score(target_test, predictions)\n",
    "accuracy"
   ]
  },
  {
   "cell_type": "markdown",
   "metadata": {
    "id": "n27ReqgiHcr-"
   },
   "source": [
    "На тестовой выборке случайный лес получил точность 80%."
   ]
  },
  {
   "cell_type": "markdown",
   "metadata": {
    "id": "XL-698szHcr_"
   },
   "source": [
    "## Проверка модели на адекватность"
   ]
  },
  {
   "cell_type": "code",
   "execution_count": null,
   "metadata": {
    "id": "EkZm5YumJ-f7"
   },
   "outputs": [],
   "source": [
    "model = DummyClassifier()"
   ]
  },
  {
   "cell_type": "code",
   "execution_count": null,
   "metadata": {
    "colab": {
     "base_uri": "https://localhost:8080/"
    },
    "id": "B_jVWmbdJ-s6",
    "outputId": "f09aa23c-3287-45fe-e3fc-028eccd1ce5f"
   },
   "outputs": [
    {
     "name": "stderr",
     "output_type": "stream",
     "text": [
      "/usr/local/lib/python3.7/dist-packages/sklearn/dummy.py:132: FutureWarning: The default value of strategy will change from stratified to prior in 0.24.\n",
      "  \"stratified to prior in 0.24.\", FutureWarning)\n"
     ]
    },
    {
     "data": {
      "text/plain": [
       "DummyClassifier(constant=None, random_state=None, strategy='warn')"
      ]
     },
     "execution_count": 18,
     "metadata": {
      "tags": []
     },
     "output_type": "execute_result"
    }
   ],
   "source": [
    "model.fit(features_train, target_train)"
   ]
  },
  {
   "cell_type": "code",
   "execution_count": null,
   "metadata": {
    "colab": {
     "base_uri": "https://localhost:8080/"
    },
    "id": "OkAN0tatJ-vs",
    "outputId": "0e22ddf5-9310-4291-d9d1-a4c67aedf793"
   },
   "outputs": [
    {
     "data": {
      "text/plain": [
       "0.629126213592233"
      ]
     },
     "execution_count": 19,
     "metadata": {
      "tags": []
     },
     "output_type": "execute_result"
    }
   ],
   "source": [
    "accuracy_score(target_test,model.predict(features_test))"
   ]
  },
  {
   "cell_type": "markdown",
   "metadata": {
    "id": "IBurHVuFHcsG"
   },
   "source": [
    "## Вывод"
   ]
  },
  {
   "cell_type": "markdown",
   "metadata": {
    "id": "W8irTEgIHcsG"
   },
   "source": [
    "В процессе исследования были выполнены следующие работы:"
   ]
  },
  {
   "cell_type": "markdown",
   "metadata": {
    "id": "PzR6zAr5HcsG"
   },
   "source": [
    "- файл с данными изучен, не обнаружено аномально низких или высоких значений, так же не обнаружено пропусков;\n",
    "- данные разбиты на три выборки с соотношениями: \n",
    "    - 60% тренировочная;\n",
    "    - 20% валидационная;\n",
    "    - 20% тестовая;\n",
    "- рассмотрены три модели со следующими результатами точности:\n",
    "    - решающее дерево 80.7%;\n",
    "    - случайный лес 83%;\n",
    "    - логистическая регрессия 74.1%;\n",
    "- для дальнейшей работы выбрана модель случайный лес со следующими параметрами: \n",
    "    - criterion = entropy;\n",
    "    - max_depth = 6;\n",
    "    - n_estimators = 19;\n",
    "- на тестовой выборке случайный лес показал точность 80%;\n",
    "- проведена проверка на адекватность (рассчитана точность модели на тестовой выборке, состоящей только из нулевых значений меток класса), получена точность 92.4%"
   ]
  }
 ],
 "metadata": {
  "colab": {
   "collapsed_sections": [],
   "name": "studying-ml-0.ipynb",
   "provenance": []
  },
  "kernelspec": {
   "display_name": "Python 3",
   "language": "python",
   "name": "python3"
  },
  "language_info": {
   "codemirror_mode": {
    "name": "ipython",
    "version": 3
   },
   "file_extension": ".py",
   "mimetype": "text/x-python",
   "name": "python",
   "nbconvert_exporter": "python",
   "pygments_lexer": "ipython3",
   "version": "3.7.6"
  },
  "toc": {
   "base_numbering": 1,
   "nav_menu": {},
   "number_sections": true,
   "sideBar": true,
   "skip_h1_title": true,
   "title_cell": "Table of Contents",
   "title_sidebar": "Contents",
   "toc_cell": false,
   "toc_position": {},
   "toc_section_display": true,
   "toc_window_display": false
  }
 },
 "nbformat": 4,
 "nbformat_minor": 1
}
