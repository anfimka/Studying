{
 "cells": [
  {
   "cell_type": "code",
   "execution_count": null,
   "metadata": {
    "colab": {
     "base_uri": "https://localhost:8080/"
    },
    "id": "Wu42A9p8VB51",
    "outputId": "a6a2d00b-ae30-4196-e1b9-3f9228a91518"
   },
   "outputs": [
    {
     "name": "stdout",
     "output_type": "stream",
     "text": [
      "Drive already mounted at /content/drive; to attempt to forcibly remount, call drive.mount(\"/content/drive\", force_remount=True).\n"
     ]
    }
   ],
   "source": [
    "from google.colab import drive\n",
    "drive.mount('/content/drive')"
   ]
  },
  {
   "cell_type": "code",
   "execution_count": null,
   "metadata": {
    "id": "lLF1iDRXU9qW"
   },
   "outputs": [],
   "source": [
    "import pandas as pd\n",
    "import numpy as np\n",
    "from sklearn.model_selection import train_test_split\n",
    "from sklearn.linear_model import LinearRegression\n",
    "from sklearn.metrics import mean_squared_error"
   ]
  },
  {
   "cell_type": "markdown",
   "metadata": {
    "id": "Byz6VuqTU9qX"
   },
   "source": [
    "## Загрузка и подготовка данных"
   ]
  },
  {
   "cell_type": "code",
   "execution_count": null,
   "metadata": {
    "id": "ge8bbpa0U9qY"
   },
   "outputs": [],
   "source": [
    "df1 = pd.read_csv('/content/drive/MyDrive/Data/ml-2-geo_data_0.csv')\n",
    "df2 = pd.read_csv('/content/drive/MyDrive/Data/ml-2-geo_data_1.csv')\n",
    "df3 = pd.read_csv('/content/drive/MyDrive/Data/ml-2-geo_data_2.csv')"
   ]
  },
  {
   "cell_type": "code",
   "execution_count": null,
   "metadata": {
    "colab": {
     "base_uri": "https://localhost:8080/"
    },
    "id": "J5UTxXcAU9qY",
    "outputId": "747886b8-456c-4b95-b6ad-41f34fcad432"
   },
   "outputs": [
    {
     "data": {
      "text/plain": [
       "(0, id         0\n",
       " f0         0\n",
       " f1         0\n",
       " f2         0\n",
       " product    0\n",
       " dtype: int64)"
      ]
     },
     "execution_count": 28,
     "metadata": {
      "tags": []
     },
     "output_type": "execute_result"
    }
   ],
   "source": [
    "df1.duplicated().sum(), df1.isna().sum()"
   ]
  },
  {
   "cell_type": "code",
   "execution_count": null,
   "metadata": {
    "colab": {
     "base_uri": "https://localhost:8080/"
    },
    "id": "Dd3JeRj6Vzki",
    "outputId": "25c3d7ff-c5bc-469c-e150-0733a60f2b9b"
   },
   "outputs": [
    {
     "name": "stdout",
     "output_type": "stream",
     "text": [
      "<class 'pandas.core.frame.DataFrame'>\n",
      "RangeIndex: 100000 entries, 0 to 99999\n",
      "Data columns (total 5 columns):\n",
      " #   Column   Non-Null Count   Dtype  \n",
      "---  ------   --------------   -----  \n",
      " 0   id       100000 non-null  object \n",
      " 1   f0       100000 non-null  float64\n",
      " 2   f1       100000 non-null  float64\n",
      " 3   f2       100000 non-null  float64\n",
      " 4   product  100000 non-null  float64\n",
      "dtypes: float64(4), object(1)\n",
      "memory usage: 3.8+ MB\n"
     ]
    }
   ],
   "source": [
    "df1.info()"
   ]
  },
  {
   "cell_type": "code",
   "execution_count": null,
   "metadata": {
    "colab": {
     "base_uri": "https://localhost:8080/",
     "height": 204
    },
    "id": "kDqlD0ypV1hR",
    "outputId": "9bb0a2aa-2c55-4415-f44f-a98bac5bf2cf"
   },
   "outputs": [
    {
     "data": {
      "text/html": [
       "<div>\n",
       "<style scoped>\n",
       "    .dataframe tbody tr th:only-of-type {\n",
       "        vertical-align: middle;\n",
       "    }\n",
       "\n",
       "    .dataframe tbody tr th {\n",
       "        vertical-align: top;\n",
       "    }\n",
       "\n",
       "    .dataframe thead th {\n",
       "        text-align: right;\n",
       "    }\n",
       "</style>\n",
       "<table border=\"1\" class=\"dataframe\">\n",
       "  <thead>\n",
       "    <tr style=\"text-align: right;\">\n",
       "      <th></th>\n",
       "      <th>id</th>\n",
       "      <th>f0</th>\n",
       "      <th>f1</th>\n",
       "      <th>f2</th>\n",
       "      <th>product</th>\n",
       "    </tr>\n",
       "  </thead>\n",
       "  <tbody>\n",
       "    <tr>\n",
       "      <th>0</th>\n",
       "      <td>txEyH</td>\n",
       "      <td>0.705745</td>\n",
       "      <td>-0.497823</td>\n",
       "      <td>1.221170</td>\n",
       "      <td>105.280062</td>\n",
       "    </tr>\n",
       "    <tr>\n",
       "      <th>1</th>\n",
       "      <td>2acmU</td>\n",
       "      <td>1.334711</td>\n",
       "      <td>-0.340164</td>\n",
       "      <td>4.365080</td>\n",
       "      <td>73.037750</td>\n",
       "    </tr>\n",
       "    <tr>\n",
       "      <th>2</th>\n",
       "      <td>409Wp</td>\n",
       "      <td>1.022732</td>\n",
       "      <td>0.151990</td>\n",
       "      <td>1.419926</td>\n",
       "      <td>85.265647</td>\n",
       "    </tr>\n",
       "    <tr>\n",
       "      <th>3</th>\n",
       "      <td>iJLyR</td>\n",
       "      <td>-0.032172</td>\n",
       "      <td>0.139033</td>\n",
       "      <td>2.978566</td>\n",
       "      <td>168.620776</td>\n",
       "    </tr>\n",
       "    <tr>\n",
       "      <th>4</th>\n",
       "      <td>Xdl7t</td>\n",
       "      <td>1.988431</td>\n",
       "      <td>0.155413</td>\n",
       "      <td>4.751769</td>\n",
       "      <td>154.036647</td>\n",
       "    </tr>\n",
       "  </tbody>\n",
       "</table>\n",
       "</div>"
      ],
      "text/plain": [
       "      id        f0        f1        f2     product\n",
       "0  txEyH  0.705745 -0.497823  1.221170  105.280062\n",
       "1  2acmU  1.334711 -0.340164  4.365080   73.037750\n",
       "2  409Wp  1.022732  0.151990  1.419926   85.265647\n",
       "3  iJLyR -0.032172  0.139033  2.978566  168.620776\n",
       "4  Xdl7t  1.988431  0.155413  4.751769  154.036647"
      ]
     },
     "execution_count": 30,
     "metadata": {
      "tags": []
     },
     "output_type": "execute_result"
    }
   ],
   "source": [
    "df1.head()"
   ]
  },
  {
   "cell_type": "code",
   "execution_count": null,
   "metadata": {
    "colab": {
     "base_uri": "https://localhost:8080/"
    },
    "id": "uM1WEH14U9qZ",
    "outputId": "39aa63f0-345b-4630-f063-502828c767d4"
   },
   "outputs": [
    {
     "data": {
      "text/plain": [
       "(0, id         0\n",
       " f0         0\n",
       " f1         0\n",
       " f2         0\n",
       " product    0\n",
       " dtype: int64)"
      ]
     },
     "execution_count": 31,
     "metadata": {
      "tags": []
     },
     "output_type": "execute_result"
    }
   ],
   "source": [
    "df2.duplicated().sum(), df2.isna().sum()"
   ]
  },
  {
   "cell_type": "code",
   "execution_count": null,
   "metadata": {
    "colab": {
     "base_uri": "https://localhost:8080/"
    },
    "id": "fBzfgNS1V48h",
    "outputId": "c998c34f-a25a-49fb-d27b-651fe6538de9"
   },
   "outputs": [
    {
     "name": "stdout",
     "output_type": "stream",
     "text": [
      "<class 'pandas.core.frame.DataFrame'>\n",
      "RangeIndex: 100000 entries, 0 to 99999\n",
      "Data columns (total 5 columns):\n",
      " #   Column   Non-Null Count   Dtype  \n",
      "---  ------   --------------   -----  \n",
      " 0   id       100000 non-null  object \n",
      " 1   f0       100000 non-null  float64\n",
      " 2   f1       100000 non-null  float64\n",
      " 3   f2       100000 non-null  float64\n",
      " 4   product  100000 non-null  float64\n",
      "dtypes: float64(4), object(1)\n",
      "memory usage: 3.8+ MB\n"
     ]
    }
   ],
   "source": [
    "df2.info()"
   ]
  },
  {
   "cell_type": "code",
   "execution_count": null,
   "metadata": {
    "colab": {
     "base_uri": "https://localhost:8080/",
     "height": 204
    },
    "id": "He3-IwdJV6NR",
    "outputId": "fc486dd9-634d-410d-d247-e559bf8f151c"
   },
   "outputs": [
    {
     "data": {
      "text/html": [
       "<div>\n",
       "<style scoped>\n",
       "    .dataframe tbody tr th:only-of-type {\n",
       "        vertical-align: middle;\n",
       "    }\n",
       "\n",
       "    .dataframe tbody tr th {\n",
       "        vertical-align: top;\n",
       "    }\n",
       "\n",
       "    .dataframe thead th {\n",
       "        text-align: right;\n",
       "    }\n",
       "</style>\n",
       "<table border=\"1\" class=\"dataframe\">\n",
       "  <thead>\n",
       "    <tr style=\"text-align: right;\">\n",
       "      <th></th>\n",
       "      <th>id</th>\n",
       "      <th>f0</th>\n",
       "      <th>f1</th>\n",
       "      <th>f2</th>\n",
       "      <th>product</th>\n",
       "    </tr>\n",
       "  </thead>\n",
       "  <tbody>\n",
       "    <tr>\n",
       "      <th>0</th>\n",
       "      <td>kBEdx</td>\n",
       "      <td>-15.001348</td>\n",
       "      <td>-8.276000</td>\n",
       "      <td>-0.005876</td>\n",
       "      <td>3.179103</td>\n",
       "    </tr>\n",
       "    <tr>\n",
       "      <th>1</th>\n",
       "      <td>62mP7</td>\n",
       "      <td>14.272088</td>\n",
       "      <td>-3.475083</td>\n",
       "      <td>0.999183</td>\n",
       "      <td>26.953261</td>\n",
       "    </tr>\n",
       "    <tr>\n",
       "      <th>2</th>\n",
       "      <td>vyE1P</td>\n",
       "      <td>6.263187</td>\n",
       "      <td>-5.948386</td>\n",
       "      <td>5.001160</td>\n",
       "      <td>134.766305</td>\n",
       "    </tr>\n",
       "    <tr>\n",
       "      <th>3</th>\n",
       "      <td>KcrkZ</td>\n",
       "      <td>-13.081196</td>\n",
       "      <td>-11.506057</td>\n",
       "      <td>4.999415</td>\n",
       "      <td>137.945408</td>\n",
       "    </tr>\n",
       "    <tr>\n",
       "      <th>4</th>\n",
       "      <td>AHL4O</td>\n",
       "      <td>12.702195</td>\n",
       "      <td>-8.147433</td>\n",
       "      <td>5.004363</td>\n",
       "      <td>134.766305</td>\n",
       "    </tr>\n",
       "  </tbody>\n",
       "</table>\n",
       "</div>"
      ],
      "text/plain": [
       "      id         f0         f1        f2     product\n",
       "0  kBEdx -15.001348  -8.276000 -0.005876    3.179103\n",
       "1  62mP7  14.272088  -3.475083  0.999183   26.953261\n",
       "2  vyE1P   6.263187  -5.948386  5.001160  134.766305\n",
       "3  KcrkZ -13.081196 -11.506057  4.999415  137.945408\n",
       "4  AHL4O  12.702195  -8.147433  5.004363  134.766305"
      ]
     },
     "execution_count": 33,
     "metadata": {
      "tags": []
     },
     "output_type": "execute_result"
    }
   ],
   "source": [
    "df2.head()"
   ]
  },
  {
   "cell_type": "code",
   "execution_count": null,
   "metadata": {
    "colab": {
     "base_uri": "https://localhost:8080/"
    },
    "id": "6x9Q9m2nU9qa",
    "outputId": "dd127372-f773-46ef-b69e-6973dfcc18b1"
   },
   "outputs": [
    {
     "data": {
      "text/plain": [
       "(0, id         0\n",
       " f0         0\n",
       " f1         0\n",
       " f2         0\n",
       " product    0\n",
       " dtype: int64)"
      ]
     },
     "execution_count": 34,
     "metadata": {
      "tags": []
     },
     "output_type": "execute_result"
    }
   ],
   "source": [
    "df3.duplicated().sum(), df3.isna().sum()"
   ]
  },
  {
   "cell_type": "code",
   "execution_count": null,
   "metadata": {
    "colab": {
     "base_uri": "https://localhost:8080/"
    },
    "id": "CAuVEMzWV77w",
    "outputId": "33f38a4f-3711-4325-ddb2-6f257b8b9a08"
   },
   "outputs": [
    {
     "name": "stdout",
     "output_type": "stream",
     "text": [
      "<class 'pandas.core.frame.DataFrame'>\n",
      "RangeIndex: 100000 entries, 0 to 99999\n",
      "Data columns (total 5 columns):\n",
      " #   Column   Non-Null Count   Dtype  \n",
      "---  ------   --------------   -----  \n",
      " 0   id       100000 non-null  object \n",
      " 1   f0       100000 non-null  float64\n",
      " 2   f1       100000 non-null  float64\n",
      " 3   f2       100000 non-null  float64\n",
      " 4   product  100000 non-null  float64\n",
      "dtypes: float64(4), object(1)\n",
      "memory usage: 3.8+ MB\n"
     ]
    }
   ],
   "source": [
    "df3.info()"
   ]
  },
  {
   "cell_type": "code",
   "execution_count": null,
   "metadata": {
    "colab": {
     "base_uri": "https://localhost:8080/",
     "height": 204
    },
    "id": "Cb4tCG1dV9HB",
    "outputId": "63a29976-0221-467d-b222-42555a0687cd"
   },
   "outputs": [
    {
     "data": {
      "text/html": [
       "<div>\n",
       "<style scoped>\n",
       "    .dataframe tbody tr th:only-of-type {\n",
       "        vertical-align: middle;\n",
       "    }\n",
       "\n",
       "    .dataframe tbody tr th {\n",
       "        vertical-align: top;\n",
       "    }\n",
       "\n",
       "    .dataframe thead th {\n",
       "        text-align: right;\n",
       "    }\n",
       "</style>\n",
       "<table border=\"1\" class=\"dataframe\">\n",
       "  <thead>\n",
       "    <tr style=\"text-align: right;\">\n",
       "      <th></th>\n",
       "      <th>id</th>\n",
       "      <th>f0</th>\n",
       "      <th>f1</th>\n",
       "      <th>f2</th>\n",
       "      <th>product</th>\n",
       "    </tr>\n",
       "  </thead>\n",
       "  <tbody>\n",
       "    <tr>\n",
       "      <th>0</th>\n",
       "      <td>fwXo0</td>\n",
       "      <td>-1.146987</td>\n",
       "      <td>0.963328</td>\n",
       "      <td>-0.828965</td>\n",
       "      <td>27.758673</td>\n",
       "    </tr>\n",
       "    <tr>\n",
       "      <th>1</th>\n",
       "      <td>WJtFt</td>\n",
       "      <td>0.262778</td>\n",
       "      <td>0.269839</td>\n",
       "      <td>-2.530187</td>\n",
       "      <td>56.069697</td>\n",
       "    </tr>\n",
       "    <tr>\n",
       "      <th>2</th>\n",
       "      <td>ovLUW</td>\n",
       "      <td>0.194587</td>\n",
       "      <td>0.289035</td>\n",
       "      <td>-5.586433</td>\n",
       "      <td>62.871910</td>\n",
       "    </tr>\n",
       "    <tr>\n",
       "      <th>3</th>\n",
       "      <td>q6cA6</td>\n",
       "      <td>2.236060</td>\n",
       "      <td>-0.553760</td>\n",
       "      <td>0.930038</td>\n",
       "      <td>114.572842</td>\n",
       "    </tr>\n",
       "    <tr>\n",
       "      <th>4</th>\n",
       "      <td>WPMUX</td>\n",
       "      <td>-0.515993</td>\n",
       "      <td>1.716266</td>\n",
       "      <td>5.899011</td>\n",
       "      <td>149.600746</td>\n",
       "    </tr>\n",
       "  </tbody>\n",
       "</table>\n",
       "</div>"
      ],
      "text/plain": [
       "      id        f0        f1        f2     product\n",
       "0  fwXo0 -1.146987  0.963328 -0.828965   27.758673\n",
       "1  WJtFt  0.262778  0.269839 -2.530187   56.069697\n",
       "2  ovLUW  0.194587  0.289035 -5.586433   62.871910\n",
       "3  q6cA6  2.236060 -0.553760  0.930038  114.572842\n",
       "4  WPMUX -0.515993  1.716266  5.899011  149.600746"
      ]
     },
     "execution_count": 36,
     "metadata": {
      "tags": []
     },
     "output_type": "execute_result"
    }
   ],
   "source": [
    "df3.head()"
   ]
  },
  {
   "cell_type": "markdown",
   "metadata": {
    "id": "nuQjf-0CU9qa"
   },
   "source": [
    "Пропусков и дубликатов нет, можно работать дальше."
   ]
  },
  {
   "cell_type": "markdown",
   "metadata": {
    "id": "l7os8SnCU9qa"
   },
   "source": [
    "## Обучение и проверка модели"
   ]
  },
  {
   "cell_type": "code",
   "execution_count": null,
   "metadata": {
    "id": "gofo608JU9qb"
   },
   "outputs": [],
   "source": [
    "def predict(data):\n",
    "    features = data.drop(['id','product'], axis = 1)\n",
    "    target = data['product']\n",
    "    features_train, features_valid, target_train, target_valid = train_test_split(features,target, test_size = 0.25,\n",
    "                                                                                 random_state = 4)\n",
    "    print('features_train size: {}'.format(len(features_train)),\n",
    "          'features_valid_size: {}'.format(len(features_valid)),\n",
    "          'target_train_size: {}'.format(len(target_train)),\n",
    "          'target_valid_size: {}'.format(len(target_valid)),\n",
    "          sep='\\n')\n",
    "    model = LinearRegression()\n",
    "    model.fit(features_train, target_train)\n",
    "    predictions = pd.Series(model.predict(features_valid), index = features_valid.index)\n",
    "    pred_mean = predictions.mean()\n",
    "    rmse = mean_squared_error(target_valid, predictions)**0.5\n",
    "    print('predictions_mean: {}'.format(pred_mean),\n",
    "          'rmse: {}'.format(rmse),\n",
    "          sep='\\n')\n",
    "    return predictions, target_valid"
   ]
  },
  {
   "cell_type": "markdown",
   "metadata": {
    "id": "Np_JzoS_U9qb"
   },
   "source": [
    "Функция принимает на вход данные, делит на выборки, обучает линейную регрессию, предсказывает и расчитывает среднее предсказанного и рмсе. Возвращает предсказания и целевые признаки валидационной выборки (с одинаковыми индексами)."
   ]
  },
  {
   "cell_type": "code",
   "execution_count": null,
   "metadata": {
    "colab": {
     "base_uri": "https://localhost:8080/"
    },
    "id": "SK2txQ8yU9qc",
    "outputId": "64ace5e6-33b1-489f-fff0-9e69a4509741"
   },
   "outputs": [
    {
     "name": "stdout",
     "output_type": "stream",
     "text": [
      "features_train size: 75000\n",
      "features_valid_size: 25000\n",
      "target_train_size: 75000\n",
      "target_valid_size: 25000\n",
      "predictions_mean: 92.35919406367066\n",
      "rmse: 37.71461896460248\n"
     ]
    }
   ],
   "source": [
    "predictions1, target_valid1 = predict(df1)"
   ]
  },
  {
   "cell_type": "markdown",
   "metadata": {
    "id": "N3TcVVcaU9qc"
   },
   "source": [
    "Для первого региона получаю:\n",
    "- среднее предсказанных значений - 92\n",
    "- рмсе - 37"
   ]
  },
  {
   "cell_type": "code",
   "execution_count": null,
   "metadata": {
    "colab": {
     "base_uri": "https://localhost:8080/"
    },
    "id": "VrKSwVi3U9qc",
    "outputId": "6f5e5040-38c3-4e8f-e61b-e933b943535b"
   },
   "outputs": [
    {
     "name": "stdout",
     "output_type": "stream",
     "text": [
      "features_train size: 75000\n",
      "features_valid_size: 25000\n",
      "target_train_size: 75000\n",
      "target_valid_size: 25000\n",
      "predictions_mean: 69.20955288485028\n",
      "rmse: 0.8896938851513517\n"
     ]
    }
   ],
   "source": [
    "predictions2, target_valid2 = predict(df2)"
   ]
  },
  {
   "cell_type": "markdown",
   "metadata": {
    "id": "fFBnrr8TU9qc"
   },
   "source": [
    "Для второго региона получаю:\n",
    "- среднее предсказанных значений - 69\n",
    "- рмсе - 0.8"
   ]
  },
  {
   "cell_type": "code",
   "execution_count": null,
   "metadata": {
    "colab": {
     "base_uri": "https://localhost:8080/"
    },
    "id": "5EgDaRNtU9qd",
    "outputId": "d01ff1c9-158f-49e5-9818-3762160e56b1"
   },
   "outputs": [
    {
     "name": "stdout",
     "output_type": "stream",
     "text": [
      "features_train size: 75000\n",
      "features_valid_size: 25000\n",
      "target_train_size: 75000\n",
      "target_valid_size: 25000\n",
      "predictions_mean: 95.1384164793143\n",
      "rmse: 40.00747771674605\n"
     ]
    }
   ],
   "source": [
    "predictions3, target_valid3 = predict(df3)"
   ]
  },
  {
   "cell_type": "markdown",
   "metadata": {
    "id": "7KI51NA4U9qd"
   },
   "source": [
    "Для третьего региона получаю:\n",
    "- среднее предсказанных значений - 95\n",
    "- рмсе - 40"
   ]
  },
  {
   "cell_type": "markdown",
   "metadata": {
    "id": "CTcu0U1VU9qd"
   },
   "source": [
    "## Подготовка к расчёту прибыли"
   ]
  },
  {
   "cell_type": "code",
   "execution_count": null,
   "metadata": {
    "id": "ZAq1i6h9U9qe"
   },
   "outputs": [],
   "source": [
    "BUDGET = 10000000000\n",
    "TOP = 200\n",
    "INCOME = 450000\n",
    "SEARCH = 500"
   ]
  },
  {
   "cell_type": "code",
   "execution_count": null,
   "metadata": {
    "colab": {
     "base_uri": "https://localhost:8080/"
    },
    "id": "44w0PUR4U9qe",
    "outputId": "20b52344-704a-437c-ca59-e396a20fb069"
   },
   "outputs": [
    {
     "data": {
      "text/plain": [
       "111.11111111111111"
      ]
     },
     "execution_count": 42,
     "metadata": {
      "tags": []
     },
     "output_type": "execute_result"
    }
   ],
   "source": [
    "BUDGET/TOP/INCOME"
   ]
  },
  {
   "cell_type": "markdown",
   "metadata": {
    "id": "grxlsXgmU9qf"
   },
   "source": [
    "Для безубыточной разработки средней скважины, она должна содержать не менее 111.11 сырья,"
   ]
  },
  {
   "cell_type": "code",
   "execution_count": null,
   "metadata": {
    "colab": {
     "base_uri": "https://localhost:8080/"
    },
    "id": "FNVi6C9NU9qf",
    "outputId": "cf372a0e-b131-4f58-faa1-068e57119b40"
   },
   "outputs": [
    {
     "data": {
      "text/plain": [
       "(92.49999999999976, 68.82500000002561, 95.00000000000041)"
      ]
     },
     "execution_count": 43,
     "metadata": {
      "tags": []
     },
     "output_type": "execute_result"
    }
   ],
   "source": [
    "df1['product'].mean(), df2['product'].mean(), df3['product'].mean()"
   ]
  },
  {
   "cell_type": "markdown",
   "metadata": {
    "id": "2bcTxsr5U9qf"
   },
   "source": [
    "при этом средняя скважина во всех трех регионах не удовлетворяет это требование."
   ]
  },
  {
   "cell_type": "markdown",
   "metadata": {
    "id": "KfKiGI_5U9qf"
   },
   "source": [
    "## Расчёт прибыли и рисков "
   ]
  },
  {
   "cell_type": "code",
   "execution_count": null,
   "metadata": {
    "id": "Jg-YMmc7U9qg"
   },
   "outputs": [],
   "source": [
    "state = np.random.RandomState(4)"
   ]
  },
  {
   "cell_type": "code",
   "execution_count": null,
   "metadata": {
    "id": "U_SJ26HjU9qg"
   },
   "outputs": [],
   "source": [
    "def profit(predictions, target):\n",
    "    probs_sorted = predictions.sort_values(ascending=False)\n",
    "    selected = target[probs_sorted.index][:TOP]\n",
    "    return (selected.sum()*INCOME - BUDGET)"
   ]
  },
  {
   "cell_type": "markdown",
   "metadata": {
    "id": "wKWrwgXGU9qg"
   },
   "source": [
    "Функция принимает на вход предсказания и целевые признаки валидационной выборки, сортирует целевые признаки по убыванию, выбирает соответствующие им по индексу признаки валидационной выборки, из них выбирает топ200 и рассчитывает суммарный доход с 200 скважин."
   ]
  },
  {
   "cell_type": "code",
   "execution_count": null,
   "metadata": {
    "colab": {
     "base_uri": "https://localhost:8080/"
    },
    "id": "uTTXGUlUU9qg",
    "outputId": "d75e5c94-6c72-422e-d48e-94eac6b44803"
   },
   "outputs": [
    {
     "name": "stdout",
     "output_type": "stream",
     "text": [
      "Средний доход для первого региона: 425652495.13236594\n"
     ]
    }
   ],
   "source": [
    "values1 = []\n",
    "for i in range(1000):\n",
    "    target_sample = target_valid1.sample(n = SEARCH, replace = True, random_state = state)\n",
    "    preds = predictions1[target_sample.index]\n",
    "    values1.append(profit(preds, target_sample))\n",
    "values1 = pd.Series(values1)\n",
    "print('Средний доход для первого региона: {}'.format(values1.mean()))"
   ]
  },
  {
   "cell_type": "markdown",
   "metadata": {
    "id": "DTWiiK2sU9qh"
   },
   "source": [
    "Циклом перебираю 1000 раз по 500 семплов, рассчитывая суммарный доход с топ200 скважин."
   ]
  },
  {
   "cell_type": "code",
   "execution_count": null,
   "metadata": {
    "colab": {
     "base_uri": "https://localhost:8080/",
     "height": 295
    },
    "id": "GKLu8b_bU9qh",
    "outputId": "8f047785-0b8f-40b2-f95a-99d29cd56725"
   },
   "outputs": [
    {
     "data": {
      "text/plain": [
       "<matplotlib.axes._subplots.AxesSubplot at 0x7feaeed1a050>"
      ]
     },
     "execution_count": 47,
     "metadata": {
      "tags": []
     },
     "output_type": "execute_result"
    },
    {
     "data": {
      "image/png": "[encoded data removed]",
      "text/plain": [
       "<Figure size 432x288 with 1 Axes>"
      ]
     },
     "metadata": {
      "needs_background": "light",
      "tags": []
     },
     "output_type": "display_data"
    }
   ],
   "source": [
    "values1.hist()"
   ]
  },
  {
   "cell_type": "code",
   "execution_count": null,
   "metadata": {
    "colab": {
     "base_uri": "https://localhost:8080/"
    },
    "id": "G9YZB7hNU9qi",
    "outputId": "05d11c13-86a0-49ef-ba8c-56dff12e55ec"
   },
   "outputs": [
    {
     "name": "stdout",
     "output_type": "stream",
     "text": [
      "Доверительный интервал 95% для первого региона: -110487041.29623346,939237868.1743264\n"
     ]
    }
   ],
   "source": [
    "print('Доверительный интервал 95% для первого региона: {},{}'.format(values1.quantile(0.025), values1.quantile(0.975)))"
   ]
  },
  {
   "cell_type": "code",
   "execution_count": null,
   "metadata": {
    "colab": {
     "base_uri": "https://localhost:8080/"
    },
    "id": "kQngST6SU9qi",
    "outputId": "14ecc935-49dc-4b7b-fea5-d35b8208ce7a"
   },
   "outputs": [
    {
     "name": "stdout",
     "output_type": "stream",
     "text": [
      "Отношение отрицательных значений дохода к общему для первого региона: 0.057\n"
     ]
    }
   ],
   "source": [
    "count = 0\n",
    "for i in values1:\n",
    "    if i < 0:\n",
    "        count += 1\n",
    "print('Отношение отрицательных значений дохода к общему для первого региона: {}'.format(count / len(values1)))"
   ]
  },
  {
   "cell_type": "code",
   "execution_count": null,
   "metadata": {
    "colab": {
     "base_uri": "https://localhost:8080/"
    },
    "id": "xFST-uYeU9qj",
    "outputId": "71b45790-3766-491a-f571-51354fc594b4"
   },
   "outputs": [
    {
     "name": "stdout",
     "output_type": "stream",
     "text": [
      "Средний доход для второго региона: 540022344.5187435\n"
     ]
    }
   ],
   "source": [
    "values2 = []\n",
    "for i in range(1000):\n",
    "    target_sample = target_valid2.sample(n = SEARCH, replace = True, random_state = state)\n",
    "    preds = predictions2[target_sample.index]\n",
    "    values2.append(profit(preds, target_sample))\n",
    "values2 = pd.Series(values2)\n",
    "print('Средний доход для второго региона: {}'.format(values2.mean()))"
   ]
  },
  {
   "cell_type": "code",
   "execution_count": null,
   "metadata": {
    "colab": {
     "base_uri": "https://localhost:8080/",
     "height": 295
    },
    "id": "ZfvsK13iU9qj",
    "outputId": "8f2e6803-08af-4a8a-8fdb-77610f0cb17d"
   },
   "outputs": [
    {
     "data": {
      "text/plain": [
       "<matplotlib.axes._subplots.AxesSubplot at 0x7feaed7d0b10>"
      ]
     },
     "execution_count": 51,
     "metadata": {
      "tags": []
     },
     "output_type": "execute_result"
    },
    {
     "data": {
      "image/png": "[encoded data removed]",
      "text/plain": [
       "<Figure size 432x288 with 1 Axes>"
      ]
     },
     "metadata": {
      "needs_background": "light",
      "tags": []
     },
     "output_type": "display_data"
    }
   ],
   "source": [
    "values2.hist()"
   ]
  },
  {
   "cell_type": "code",
   "execution_count": null,
   "metadata": {
    "colab": {
     "base_uri": "https://localhost:8080/"
    },
    "id": "7jsoWHUyU9qj",
    "outputId": "4e2528c9-db7c-4ed4-cac5-b315bddc0320"
   },
   "outputs": [
    {
     "name": "stdout",
     "output_type": "stream",
     "text": [
      "Доверительный интервал 95% для второго региона: 150950570.1990261,957158372.556443\n"
     ]
    }
   ],
   "source": [
    "print('Доверительный интервал 95% для второго региона: {},{}'.format(values2.quantile(0.025), values2.quantile(0.975)))"
   ]
  },
  {
   "cell_type": "code",
   "execution_count": null,
   "metadata": {
    "colab": {
     "base_uri": "https://localhost:8080/"
    },
    "id": "RIrizRkQU9qk",
    "outputId": "745c2772-e05f-4f5d-b50f-caefa575e1df"
   },
   "outputs": [
    {
     "name": "stdout",
     "output_type": "stream",
     "text": [
      "Отношение отрицательных значений дохода к общему для второго региона: 0.001\n"
     ]
    }
   ],
   "source": [
    "count = 0\n",
    "for i in values2:\n",
    "    if i < 0:\n",
    "        count += 1\n",
    "print('Отношение отрицательных значений дохода к общему для второго региона: {}'.format(count / len(values2)))"
   ]
  },
  {
   "cell_type": "code",
   "execution_count": null,
   "metadata": {
    "colab": {
     "base_uri": "https://localhost:8080/"
    },
    "id": "ISPffOe-U9qk",
    "outputId": "ff696922-c95e-40ff-acd6-917f3a6abc14"
   },
   "outputs": [
    {
     "name": "stdout",
     "output_type": "stream",
     "text": [
      "Средний доход для третьего региона: 384495114.9963092\n"
     ]
    }
   ],
   "source": [
    "values3 = []\n",
    "for i in range(1000):\n",
    "    target_sample = target_valid3.sample(n = SEARCH, replace = True, random_state = state)\n",
    "    preds = predictions3[target_sample.index]\n",
    "    values3.append(profit(preds, target_sample))\n",
    "values3 = pd.Series(values3)\n",
    "print('Средний доход для третьего региона: {}'.format(values3.mean()))"
   ]
  },
  {
   "cell_type": "code",
   "execution_count": null,
   "metadata": {
    "colab": {
     "base_uri": "https://localhost:8080/",
     "height": 295
    },
    "id": "WVL_xecEU9ql",
    "outputId": "be0e78ad-d750-4fe1-c445-1af663bf3375"
   },
   "outputs": [
    {
     "data": {
      "text/plain": [
       "<matplotlib.axes._subplots.AxesSubplot at 0x7feaed7d0b50>"
      ]
     },
     "execution_count": 55,
     "metadata": {
      "tags": []
     },
     "output_type": "execute_result"
    },
    {
     "data": {
      "image/png": "[encoded data removed]",
      "text/plain": [
       "<Figure size 432x288 with 1 Axes>"
      ]
     },
     "metadata": {
      "needs_background": "light",
      "tags": []
     },
     "output_type": "display_data"
    }
   ],
   "source": [
    "values3.hist()"
   ]
  },
  {
   "cell_type": "code",
   "execution_count": null,
   "metadata": {
    "colab": {
     "base_uri": "https://localhost:8080/"
    },
    "id": "WUtvLZM_U9qm",
    "outputId": "f63c6291-ca80-4e52-d0d2-47e904aa5e42"
   },
   "outputs": [
    {
     "name": "stdout",
     "output_type": "stream",
     "text": [
      "Доверительный интервал 95% для третьего региона: -171712657.93684354,948519371.374135\n"
     ]
    }
   ],
   "source": [
    "print('Доверительный интервал 95% для третьего региона: {},{}'.format(values3.quantile(0.025), values3.quantile(0.975)))"
   ]
  },
  {
   "cell_type": "code",
   "execution_count": null,
   "metadata": {
    "colab": {
     "base_uri": "https://localhost:8080/"
    },
    "id": "2bWzakr2U9qm",
    "outputId": "6b51ef2e-6b3d-415e-8f44-f67a4a7d3a40"
   },
   "outputs": [
    {
     "name": "stdout",
     "output_type": "stream",
     "text": [
      "Отношение отрицательных значений дохода к общему для третьего региона: 0.092\n"
     ]
    }
   ],
   "source": [
    "count = 0\n",
    "for i in values3:\n",
    "    if i < 0:\n",
    "        count += 1\n",
    "print('Отношение отрицательных значений дохода к общему для третьего региона: {}'.format(count / len(values3)))"
   ]
  },
  {
   "cell_type": "markdown",
   "metadata": {
    "id": "PjsN50VbU9qm"
   },
   "source": [
    "Для поиска и разработки скважин выбран второй регион, так как он имеет самый большой средний доход, не имеет отрицательных значений в доверительном интервале и имеет самое низкое отношение отрицательных значений дохода к общему количеству."
   ]
  }
 ],
 "metadata": {
  "colab": {
   "collapsed_sections": [],
   "name": "studying-ml-2.ipynb",
   "provenance": []
  },
  "kernelspec": {
   "display_name": "Python 3",
   "language": "python",
   "name": "python3"
  },
  "language_info": {
   "codemirror_mode": {
    "name": "ipython",
    "version": 3
   },
   "file_extension": ".py",
   "mimetype": "text/x-python",
   "name": "python",
   "nbconvert_exporter": "python",
   "pygments_lexer": "ipython3",
   "version": "3.7.6"
  },
  "toc": {
   "base_numbering": 1,
   "nav_menu": {},
   "number_sections": true,
   "sideBar": true,
   "skip_h1_title": true,
   "title_cell": "Table of Contents",
   "title_sidebar": "Contents",
   "toc_cell": false,
   "toc_position": {},
   "toc_section_display": true,
   "toc_window_display": false
  }
 },
 "nbformat": 4,
 "nbformat_minor": 1
}
