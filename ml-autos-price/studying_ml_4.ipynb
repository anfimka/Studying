{
 "cells": [
  {
   "cell_type": "code",
   "execution_count": null,
   "metadata": {
    "colab": {
     "base_uri": "https://localhost:8080/"
    },
    "id": "kIjCRbPhfuYA",
    "outputId": "432e2c49-0cb3-4ca1-bd25-e9882216b348"
   },
   "outputs": [
    {
     "name": "stdout",
     "output_type": "stream",
     "text": [
      "Drive already mounted at /content/drive; to attempt to forcibly remount, call drive.mount(\"/content/drive\", force_remount=True).\n"
     ]
    }
   ],
   "source": [
    "from google.colab import drive\n",
    "drive.mount('/content/drive')"
   ]
  },
  {
   "cell_type": "code",
   "execution_count": null,
   "metadata": {
    "colab": {
     "base_uri": "https://localhost:8080/"
    },
    "id": "OFarbYxCf4U2",
    "outputId": "78204fd3-4fe9-4be5-d72b-07ec0aa16ea0"
   },
   "outputs": [
    {
     "name": "stdout",
     "output_type": "stream",
     "text": [
      "Requirement already satisfied: catboost in /usr/local/lib/python3.7/dist-packages (0.25)\n",
      "Requirement already satisfied: plotly in /usr/local/lib/python3.7/dist-packages (from catboost) (4.4.1)\n",
      "Requirement already satisfied: numpy>=1.16.0 in /usr/local/lib/python3.7/dist-packages (from catboost) (1.19.5)\n",
      "Requirement already satisfied: pandas>=0.24.0 in /usr/local/lib/python3.7/dist-packages (from catboost) (1.1.5)\n",
      "Requirement already satisfied: scipy in /usr/local/lib/python3.7/dist-packages (from catboost) (1.4.1)\n",
      "Requirement already satisfied: matplotlib in /usr/local/lib/python3.7/dist-packages (from catboost) (3.2.2)\n",
      "Requirement already satisfied: graphviz in /usr/local/lib/python3.7/dist-packages (from catboost) (0.10.1)\n",
      "Requirement already satisfied: six in /usr/local/lib/python3.7/dist-packages (from catboost) (1.15.0)\n",
      "Requirement already satisfied: retrying>=1.3.3 in /usr/local/lib/python3.7/dist-packages (from plotly->catboost) (1.3.3)\n",
      "Requirement already satisfied: python-dateutil>=2.7.3 in /usr/local/lib/python3.7/dist-packages (from pandas>=0.24.0->catboost) (2.8.1)\n",
      "Requirement already satisfied: pytz>=2017.2 in /usr/local/lib/python3.7/dist-packages (from pandas>=0.24.0->catboost) (2018.9)\n",
      "Requirement already satisfied: pyparsing!=2.0.4,!=2.1.2,!=2.1.6,>=2.0.1 in /usr/local/lib/python3.7/dist-packages (from matplotlib->catboost) (2.4.7)\n",
      "Requirement already satisfied: kiwisolver>=1.0.1 in /usr/local/lib/python3.7/dist-packages (from matplotlib->catboost) (1.3.1)\n",
      "Requirement already satisfied: cycler>=0.10 in /usr/local/lib/python3.7/dist-packages (from matplotlib->catboost) (0.10.0)\n"
     ]
    }
   ],
   "source": [
    "!pip install catboost"
   ]
  },
  {
   "cell_type": "markdown",
   "metadata": {
    "id": "VJPi4azYfH9u"
   },
   "source": [
    "## Подготовка данных"
   ]
  },
  {
   "cell_type": "code",
   "execution_count": null,
   "metadata": {
    "id": "l26sCjsSfH9u"
   },
   "outputs": [],
   "source": [
    "import pandas as pd\n",
    "import numpy as np\n",
    "import time\n",
    "from sklearn.model_selection import train_test_split, cross_val_score, RandomizedSearchCV\n",
    "from sklearn.linear_model import LinearRegression\n",
    "from sklearn.metrics import mean_squared_error\n",
    "from lightgbm import LGBMRegressor\n",
    "from catboost import CatBoostRegressor\n",
    "from xgboost import XGBRegressor"
   ]
  },
  {
   "cell_type": "code",
   "execution_count": null,
   "metadata": {
    "id": "SvFLlkvafH9v"
   },
   "outputs": [],
   "source": [
    "df = pd.read_csv('/content/drive/MyDrive/Data/ml-3-autos.csv')"
   ]
  },
  {
   "cell_type": "code",
   "execution_count": null,
   "metadata": {
    "colab": {
     "base_uri": "https://localhost:8080/",
     "height": 374
    },
    "id": "m6kAy3OQfH9v",
    "outputId": "0c48791c-1c54-4ef9-fb89-7655ac5658a4"
   },
   "outputs": [
    {
     "data": {
      "text/html": [
       "<div>\n",
       "<style scoped>\n",
       "    .dataframe tbody tr th:only-of-type {\n",
       "        vertical-align: middle;\n",
       "    }\n",
       "\n",
       "    .dataframe tbody tr th {\n",
       "        vertical-align: top;\n",
       "    }\n",
       "\n",
       "    .dataframe thead th {\n",
       "        text-align: right;\n",
       "    }\n",
       "</style>\n",
       "<table border=\"1\" class=\"dataframe\">\n",
       "  <thead>\n",
       "    <tr style=\"text-align: right;\">\n",
       "      <th></th>\n",
       "      <th>DateCrawled</th>\n",
       "      <th>Price</th>\n",
       "      <th>VehicleType</th>\n",
       "      <th>RegistrationYear</th>\n",
       "      <th>Gearbox</th>\n",
       "      <th>Power</th>\n",
       "      <th>Model</th>\n",
       "      <th>Kilometer</th>\n",
       "      <th>RegistrationMonth</th>\n",
       "      <th>FuelType</th>\n",
       "      <th>Brand</th>\n",
       "      <th>NotRepaired</th>\n",
       "      <th>DateCreated</th>\n",
       "      <th>NumberOfPictures</th>\n",
       "      <th>PostalCode</th>\n",
       "      <th>LastSeen</th>\n",
       "    </tr>\n",
       "  </thead>\n",
       "  <tbody>\n",
       "    <tr>\n",
       "      <th>0</th>\n",
       "      <td>2016-03-24 11:52:17</td>\n",
       "      <td>480</td>\n",
       "      <td>NaN</td>\n",
       "      <td>1993</td>\n",
       "      <td>manual</td>\n",
       "      <td>0</td>\n",
       "      <td>golf</td>\n",
       "      <td>150000</td>\n",
       "      <td>0</td>\n",
       "      <td>petrol</td>\n",
       "      <td>volkswagen</td>\n",
       "      <td>NaN</td>\n",
       "      <td>2016-03-24 00:00:00</td>\n",
       "      <td>0</td>\n",
       "      <td>70435</td>\n",
       "      <td>2016-04-07 03:16:57</td>\n",
       "    </tr>\n",
       "    <tr>\n",
       "      <th>1</th>\n",
       "      <td>2016-03-24 10:58:45</td>\n",
       "      <td>18300</td>\n",
       "      <td>coupe</td>\n",
       "      <td>2011</td>\n",
       "      <td>manual</td>\n",
       "      <td>190</td>\n",
       "      <td>NaN</td>\n",
       "      <td>125000</td>\n",
       "      <td>5</td>\n",
       "      <td>gasoline</td>\n",
       "      <td>audi</td>\n",
       "      <td>yes</td>\n",
       "      <td>2016-03-24 00:00:00</td>\n",
       "      <td>0</td>\n",
       "      <td>66954</td>\n",
       "      <td>2016-04-07 01:46:50</td>\n",
       "    </tr>\n",
       "    <tr>\n",
       "      <th>2</th>\n",
       "      <td>2016-03-14 12:52:21</td>\n",
       "      <td>9800</td>\n",
       "      <td>suv</td>\n",
       "      <td>2004</td>\n",
       "      <td>auto</td>\n",
       "      <td>163</td>\n",
       "      <td>grand</td>\n",
       "      <td>125000</td>\n",
       "      <td>8</td>\n",
       "      <td>gasoline</td>\n",
       "      <td>jeep</td>\n",
       "      <td>NaN</td>\n",
       "      <td>2016-03-14 00:00:00</td>\n",
       "      <td>0</td>\n",
       "      <td>90480</td>\n",
       "      <td>2016-04-05 12:47:46</td>\n",
       "    </tr>\n",
       "    <tr>\n",
       "      <th>3</th>\n",
       "      <td>2016-03-17 16:54:04</td>\n",
       "      <td>1500</td>\n",
       "      <td>small</td>\n",
       "      <td>2001</td>\n",
       "      <td>manual</td>\n",
       "      <td>75</td>\n",
       "      <td>golf</td>\n",
       "      <td>150000</td>\n",
       "      <td>6</td>\n",
       "      <td>petrol</td>\n",
       "      <td>volkswagen</td>\n",
       "      <td>no</td>\n",
       "      <td>2016-03-17 00:00:00</td>\n",
       "      <td>0</td>\n",
       "      <td>91074</td>\n",
       "      <td>2016-03-17 17:40:17</td>\n",
       "    </tr>\n",
       "    <tr>\n",
       "      <th>4</th>\n",
       "      <td>2016-03-31 17:25:20</td>\n",
       "      <td>3600</td>\n",
       "      <td>small</td>\n",
       "      <td>2008</td>\n",
       "      <td>manual</td>\n",
       "      <td>69</td>\n",
       "      <td>fabia</td>\n",
       "      <td>90000</td>\n",
       "      <td>7</td>\n",
       "      <td>gasoline</td>\n",
       "      <td>skoda</td>\n",
       "      <td>no</td>\n",
       "      <td>2016-03-31 00:00:00</td>\n",
       "      <td>0</td>\n",
       "      <td>60437</td>\n",
       "      <td>2016-04-06 10:17:21</td>\n",
       "    </tr>\n",
       "  </tbody>\n",
       "</table>\n",
       "</div>"
      ],
      "text/plain": [
       "           DateCrawled  Price  ... PostalCode             LastSeen\n",
       "0  2016-03-24 11:52:17    480  ...      70435  2016-04-07 03:16:57\n",
       "1  2016-03-24 10:58:45  18300  ...      66954  2016-04-07 01:46:50\n",
       "2  2016-03-14 12:52:21   9800  ...      90480  2016-04-05 12:47:46\n",
       "3  2016-03-17 16:54:04   1500  ...      91074  2016-03-17 17:40:17\n",
       "4  2016-03-31 17:25:20   3600  ...      60437  2016-04-06 10:17:21\n",
       "\n",
       "[5 rows x 16 columns]"
      ]
     },
     "execution_count": 5,
     "metadata": {
      "tags": []
     },
     "output_type": "execute_result"
    }
   ],
   "source": [
    "df.head()"
   ]
  },
  {
   "cell_type": "code",
   "execution_count": null,
   "metadata": {
    "colab": {
     "base_uri": "https://localhost:8080/"
    },
    "id": "OIZHnQLBfH9w",
    "outputId": "169d9903-9124-47ac-c26e-abb1aef10c59"
   },
   "outputs": [
    {
     "name": "stdout",
     "output_type": "stream",
     "text": [
      "<class 'pandas.core.frame.DataFrame'>\n",
      "RangeIndex: 354369 entries, 0 to 354368\n",
      "Data columns (total 16 columns):\n",
      " #   Column             Non-Null Count   Dtype \n",
      "---  ------             --------------   ----- \n",
      " 0   DateCrawled        354369 non-null  object\n",
      " 1   Price              354369 non-null  int64 \n",
      " 2   VehicleType        316879 non-null  object\n",
      " 3   RegistrationYear   354369 non-null  int64 \n",
      " 4   Gearbox            334536 non-null  object\n",
      " 5   Power              354369 non-null  int64 \n",
      " 6   Model              334664 non-null  object\n",
      " 7   Kilometer          354369 non-null  int64 \n",
      " 8   RegistrationMonth  354369 non-null  int64 \n",
      " 9   FuelType           321474 non-null  object\n",
      " 10  Brand              354369 non-null  object\n",
      " 11  NotRepaired        283215 non-null  object\n",
      " 12  DateCreated        354369 non-null  object\n",
      " 13  NumberOfPictures   354369 non-null  int64 \n",
      " 14  PostalCode         354369 non-null  int64 \n",
      " 15  LastSeen           354369 non-null  object\n",
      "dtypes: int64(7), object(9)\n",
      "memory usage: 43.3+ MB\n"
     ]
    }
   ],
   "source": [
    "df.info()"
   ]
  },
  {
   "cell_type": "code",
   "execution_count": null,
   "metadata": {
    "id": "wYipvDgafH9x"
   },
   "outputs": [],
   "source": [
    "df.drop(['DateCrawled','DateCreated','PostalCode','LastSeen', 'RegistrationMonth','NumberOfPictures'], axis = 1\n",
    "        , inplace = True)"
   ]
  },
  {
   "cell_type": "markdown",
   "metadata": {
    "id": "TdhGz3NVfH9x"
   },
   "source": [
    "Дропаю бесполезные столбцы."
   ]
  },
  {
   "cell_type": "code",
   "execution_count": null,
   "metadata": {
    "colab": {
     "base_uri": "https://localhost:8080/"
    },
    "id": "MMUgpo5wfH9y",
    "outputId": "ec555862-eed8-4e7b-b591-5369c8b30d2c"
   },
   "outputs": [
    {
     "data": {
      "text/plain": [
       "Price               0.000000\n",
       "VehicleType         0.105794\n",
       "RegistrationYear    0.000000\n",
       "Gearbox             0.055967\n",
       "Power               0.000000\n",
       "Model               0.055606\n",
       "Kilometer           0.000000\n",
       "FuelType            0.092827\n",
       "Brand               0.000000\n",
       "NotRepaired         0.200791\n",
       "dtype: float64"
      ]
     },
     "execution_count": 8,
     "metadata": {
      "tags": []
     },
     "output_type": "execute_result"
    }
   ],
   "source": [
    "df.isna().mean()"
   ]
  },
  {
   "cell_type": "code",
   "execution_count": null,
   "metadata": {
    "id": "-3dLMaL1fH9y"
   },
   "outputs": [],
   "source": [
    "df.columns = df.columns.str.lower()"
   ]
  },
  {
   "cell_type": "code",
   "execution_count": null,
   "metadata": {
    "colab": {
     "base_uri": "https://localhost:8080/",
     "height": 282
    },
    "id": "DVtRjkxifH9z",
    "outputId": "d7f04a51-e290-4dd4-e4da-7947cba60362"
   },
   "outputs": [
    {
     "data": {
      "text/plain": [
       "<matplotlib.axes._subplots.AxesSubplot at 0x7fbf88a9fb50>"
      ]
     },
     "execution_count": 10,
     "metadata": {
      "tags": []
     },
     "output_type": "execute_result"
    },
    {
     "data": {
      "image/png": "[encoded data removed]",
      "text/plain": [
       "<Figure size 432x288 with 1 Axes>"
      ]
     },
     "metadata": {
      "needs_background": "light",
      "tags": []
     },
     "output_type": "display_data"
    }
   ],
   "source": [
    "df['price'].hist()"
   ]
  },
  {
   "cell_type": "code",
   "execution_count": null,
   "metadata": {
    "colab": {
     "base_uri": "https://localhost:8080/",
     "height": 282
    },
    "id": "eC_7-2WcfH9z",
    "outputId": "b01db817-9323-4f73-989f-927e3e2fdad1"
   },
   "outputs": [
    {
     "data": {
      "text/plain": [
       "<matplotlib.axes._subplots.AxesSubplot at 0x7fbf88517a90>"
      ]
     },
     "execution_count": 11,
     "metadata": {
      "tags": []
     },
     "output_type": "execute_result"
    },
    {
     "data": {
      "image/png": "[encoded data removed]",
      "text/plain": [
       "<Figure size 432x288 with 1 Axes>"
      ]
     },
     "metadata": {
      "needs_background": "light",
      "tags": []
     },
     "output_type": "display_data"
    }
   ],
   "source": [
    "df[df['price'] < 100]['price'].hist()"
   ]
  },
  {
   "cell_type": "markdown",
   "metadata": {
    "id": "19ka7g-4fH90"
   },
   "source": [
    "Много значений с низкой ценой, скорее всего какая-то аномалия. Удаляю."
   ]
  },
  {
   "cell_type": "code",
   "execution_count": null,
   "metadata": {
    "id": "C9vfM6lafH90"
   },
   "outputs": [],
   "source": [
    "df = df[df['price'] > 100].copy()"
   ]
  },
  {
   "cell_type": "code",
   "execution_count": null,
   "metadata": {
    "colab": {
     "base_uri": "https://localhost:8080/",
     "height": 282
    },
    "id": "5JyiINhNfH90",
    "outputId": "399ef713-503e-4135-bf7d-b5ba1b91a9c6"
   },
   "outputs": [
    {
     "data": {
      "text/plain": [
       "<matplotlib.axes._subplots.AxesSubplot at 0x7fbf87a5c510>"
      ]
     },
     "execution_count": 13,
     "metadata": {
      "tags": []
     },
     "output_type": "execute_result"
    },
    {
     "data": {
      "image/png": "[encoded data removed]",
      "text/plain": [
       "<Figure size 432x288 with 1 Axes>"
      ]
     },
     "metadata": {
      "needs_background": "light",
      "tags": []
     },
     "output_type": "display_data"
    }
   ],
   "source": [
    "df['price'].hist(bins = 50)"
   ]
  },
  {
   "cell_type": "code",
   "execution_count": null,
   "metadata": {
    "colab": {
     "base_uri": "https://localhost:8080/",
     "height": 204
    },
    "id": "5bzhPnK0fH91",
    "outputId": "d5f05414-8dcb-447c-9f7b-3eb3be24133d"
   },
   "outputs": [
    {
     "data": {
      "text/html": [
       "<div>\n",
       "<style scoped>\n",
       "    .dataframe tbody tr th:only-of-type {\n",
       "        vertical-align: middle;\n",
       "    }\n",
       "\n",
       "    .dataframe tbody tr th {\n",
       "        vertical-align: top;\n",
       "    }\n",
       "\n",
       "    .dataframe thead th {\n",
       "        text-align: right;\n",
       "    }\n",
       "</style>\n",
       "<table border=\"1\" class=\"dataframe\">\n",
       "  <thead>\n",
       "    <tr style=\"text-align: right;\">\n",
       "      <th></th>\n",
       "      <th>price</th>\n",
       "      <th>vehicletype</th>\n",
       "      <th>registrationyear</th>\n",
       "      <th>gearbox</th>\n",
       "      <th>power</th>\n",
       "      <th>model</th>\n",
       "      <th>kilometer</th>\n",
       "      <th>fueltype</th>\n",
       "      <th>brand</th>\n",
       "      <th>notrepaired</th>\n",
       "    </tr>\n",
       "  </thead>\n",
       "  <tbody>\n",
       "    <tr>\n",
       "      <th>0</th>\n",
       "      <td>480</td>\n",
       "      <td>NaN</td>\n",
       "      <td>1993</td>\n",
       "      <td>manual</td>\n",
       "      <td>0</td>\n",
       "      <td>golf</td>\n",
       "      <td>150000</td>\n",
       "      <td>petrol</td>\n",
       "      <td>volkswagen</td>\n",
       "      <td>NaN</td>\n",
       "    </tr>\n",
       "    <tr>\n",
       "      <th>1</th>\n",
       "      <td>18300</td>\n",
       "      <td>coupe</td>\n",
       "      <td>2011</td>\n",
       "      <td>manual</td>\n",
       "      <td>190</td>\n",
       "      <td>NaN</td>\n",
       "      <td>125000</td>\n",
       "      <td>gasoline</td>\n",
       "      <td>audi</td>\n",
       "      <td>yes</td>\n",
       "    </tr>\n",
       "    <tr>\n",
       "      <th>2</th>\n",
       "      <td>9800</td>\n",
       "      <td>suv</td>\n",
       "      <td>2004</td>\n",
       "      <td>auto</td>\n",
       "      <td>163</td>\n",
       "      <td>grand</td>\n",
       "      <td>125000</td>\n",
       "      <td>gasoline</td>\n",
       "      <td>jeep</td>\n",
       "      <td>NaN</td>\n",
       "    </tr>\n",
       "    <tr>\n",
       "      <th>3</th>\n",
       "      <td>1500</td>\n",
       "      <td>small</td>\n",
       "      <td>2001</td>\n",
       "      <td>manual</td>\n",
       "      <td>75</td>\n",
       "      <td>golf</td>\n",
       "      <td>150000</td>\n",
       "      <td>petrol</td>\n",
       "      <td>volkswagen</td>\n",
       "      <td>no</td>\n",
       "    </tr>\n",
       "    <tr>\n",
       "      <th>4</th>\n",
       "      <td>3600</td>\n",
       "      <td>small</td>\n",
       "      <td>2008</td>\n",
       "      <td>manual</td>\n",
       "      <td>69</td>\n",
       "      <td>fabia</td>\n",
       "      <td>90000</td>\n",
       "      <td>gasoline</td>\n",
       "      <td>skoda</td>\n",
       "      <td>no</td>\n",
       "    </tr>\n",
       "  </tbody>\n",
       "</table>\n",
       "</div>"
      ],
      "text/plain": [
       "   price vehicletype  registrationyear  ...  fueltype       brand notrepaired\n",
       "0    480         NaN              1993  ...    petrol  volkswagen         NaN\n",
       "1  18300       coupe              2011  ...  gasoline        audi         yes\n",
       "2   9800         suv              2004  ...  gasoline        jeep         NaN\n",
       "3   1500       small              2001  ...    petrol  volkswagen          no\n",
       "4   3600       small              2008  ...  gasoline       skoda          no\n",
       "\n",
       "[5 rows x 10 columns]"
      ]
     },
     "execution_count": 14,
     "metadata": {
      "tags": []
     },
     "output_type": "execute_result"
    }
   ],
   "source": [
    "df.head()"
   ]
  },
  {
   "cell_type": "code",
   "execution_count": null,
   "metadata": {
    "colab": {
     "base_uri": "https://localhost:8080/"
    },
    "id": "E9S-M0ZqfH91",
    "outputId": "7302a88a-432d-4e36-a633-fcca72b842b8"
   },
   "outputs": [
    {
     "name": "stdout",
     "output_type": "stream",
     "text": [
      "price\n",
      "[  480 18300  9800 ... 12395 18429 10985]\n",
      "\n",
      "vehicletype\n",
      "[nan 'coupe' 'suv' 'small' 'sedan' 'convertible' 'bus' 'wagon' 'other']\n",
      "\n",
      "registrationyear\n",
      "[1993 2011 2004 2001 2008 1995 2014 1998 2005 1910 2016 2007 2009 2002\n",
      " 2018 1997 1990 2017 1981 2003 1994 1991 1984 2006 1999 2012 2010 2000\n",
      " 1992 2013 1996 1985 1989 2015 1982 1976 1983 1973 1969 1971 1987 1986\n",
      " 1988 1980 1970 1965 1945 1925 1974 1979 1955 1978 1972 1968 1977 1961\n",
      " 1966 1975 1963 1964 1960 1958 1967 1956 3200 1000 1941 9999 8888 1500\n",
      " 2200 4100 1962 1929 1957 1940 3000 2066 1949 2019 1937 1951 1800 1959\n",
      " 1953 1954 1234 5300 9000 2900 6000 5900 5911 1400 5000 1950 4000 1948\n",
      " 1952 8500 1932 3700 3800 4800 1942 7000 1935 1933 1936 1923 2290 1930\n",
      " 1001 9450 1944 2500 1943 1938 1934 1928 5555 5600 1600 1111 1039 1300\n",
      " 2800 1931 4500 1602 7800 1947 1927 7100 8200 1946]\n",
      "\n",
      "gearbox\n",
      "['manual' 'auto' nan]\n",
      "\n",
      "power\n",
      "[    0   190   163    75    69   102   109   125   101   105   140   115\n",
      "   131    60   136   160   231    90    50   118   193    99   113   218\n",
      "   122   129    70   306    95    61   177    80   170    55   143    64\n",
      "   232   150   156    82   155    54   185    87   180    86    84   224\n",
      "   235   200   178   265    77   110   144   120   286   116   184   126\n",
      "   204    88   194   305   197   179   250    45   313    41   165    98\n",
      "   130   114   211    56   201   213    58   107    83   174   100   220\n",
      "    85    73   192    68    66   299    74    52   147    65   310    71\n",
      "    97   239   203     5   300   103   258   320    63    81   148    44\n",
      "   145   280   260   104   188   333   186   117   141    59   132   234\n",
      "   158    39    92    51   135   230   209    43   146    67   106   166\n",
      "   276   344    72   249   237   245   111   326   279    23   138   175\n",
      "    96   226    26    37   301   334   128   133   124    33   219   241\n",
      "   167    94   182   196   238  1398   228   112    48   272   139    40\n",
      "    79   256   360   243   252   396   340   108   121   345   187   289\n",
      "   222   198   284   450   233   387   347   172    57   137   212   476\n",
      "   314    30     7    47   173   290   207   205   171    78    91    89\n",
      "   349   325    76   151   350   953    93   142   343   199   119   164\n",
      "    16   264   152   367   240   208   210    46    53   435  1001   225\n",
      "   127   176   161   603   307   354    35   206   771   355   273   223\n",
      "   255   123   154   149  7515  1400   268   620   169   400   275    34\n",
      "     2   242  1779   285   162   328  1753   329   134   420   247   168\n",
      "   215    18   330   283   500    62    10   183   254    15   321   322\n",
      "   315   952   600   181   426   599   379    22   157    42   195     4\n",
      "   309   507   381   271   440   189   401  2729    21   236  1240  1704\n",
      "   521     1  1900   270    24   159   292   808   515  1200   303    29\n",
      "    38  1993    14   216   610   504    49   267   331   363   261   385\n",
      "  1011   253   696 10520   376   227   311    27   217    20  1999    11\n",
      "  1056    25   394    12   298   296  1659   294   551  6920   246    17\n",
      "  1800  1625   390   221  1367   259   606   327  2017  1597   266   374\n",
      "   392     9   405    13   262   601   430   295     8   411   900   541\n",
      "  7512   382 10218  7544   287    19   214   751   297  1090   457   282\n",
      "   602   388     6  1000  5411   335  1360   202   805  1062   750  1024\n",
      " 11530   364  1796   269   460  1002   288  1780 12012 17932   316  2005\n",
      "  1399   191   278  1300   380   257   449  1256   153  1653   520   560\n",
      "   281 12510     3  1500   386  1202  2016  1436  1405   671   274  1288\n",
      "  1055 10912  6226  1115   277  1105   341  1223  2340  8404  1968   338\n",
      "   445  1920   370   517  4400 10710 10522  9010   431  1164 11509    32\n",
      "   371  1501   428 11635   304   348  1703  1995   579 10000   580   408\n",
      "    31  1005   358  1403   489  5575 19211   585   365   353   490   352\n",
      "  1801   346   550  3199   800  7508  1312   357  1937   950  4700  1600\n",
      "  3454 19208   251   850   337   700  2331  2789   487    36   519  2461\n",
      "  6006  3500  5815  6018  1781  1503   612  1596   229  1506  5809 15020\n",
      "  5867  2172  1598 17410  1363   584  1054   851  1339   318   510   525\n",
      "    28  1151   685  6011   317   703  1771 15001   514   362   332   324\n",
      "  6045   425   308  6010   475   903   640  2000   248   651  2799   368\n",
      " 17011   505  1103  1521   351 16051   398  9000  1998 10311   409  1230\n",
      " 17019 12684  8259  1895   901  1317   871   909  1595   776 17700 11011\n",
      "  1199   459  1162  1120 15033  1896   339   361  6512   454   650 13616\n",
      "   604   999   607 16312  1082   336 20000   416   678  6012  1401  1021\n",
      "  1870   375 13636  1250   323  1158  2009   902  6062  1275   572   244\n",
      "   399  1016   743  1221  2402 16011  1362   544   645   907   702 12512\n",
      "  1986  1003  1432  9013  9011   442  1017  1394 15017 10910  1992   540\n",
      "  2018 11025  1433  1701  2792  1502  1239  1390 14009  1160  1351 11111\n",
      "  1783  9007   923  1149   754  1988   402  2004  5420  1793  1324   356\n",
      "  7511  1299   293 19312  1079  1689   998  1100  9012  1933   508 16311\n",
      "   682  1252  1922  7529   732  2389  1707  1416  1700  8500  1012 10110\n",
      "   421  4507  1631  7518   377  1004  1799  2007  2598  1548  1241]\n",
      "\n",
      "model\n",
      "['golf' nan 'grand' 'fabia' '3er' '2_reihe' 'c_max' '3_reihe' 'passat'\n",
      " 'navara' 'ka' 'polo' 'twingo' 'a_klasse' 'scirocco' '5er' 'meriva'\n",
      " 'arosa' 'other' 'c4' 'civic' 'transporter' 'punto' 'e_klasse' 'clio'\n",
      " 'kadett' 'kangoo' 'one' 'fortwo' '1er' 'b_klasse' 'signum' 'astra' 'a8'\n",
      " 'jetta' 'fiesta' 'c_klasse' 'micra' 'vito' 'sprinter' '156' 'escort'\n",
      " 'forester' 'xc_reihe' 'scenic' 'a4' 'a1' 'insignia' 'combo' 'focus' 'tt'\n",
      " 'corsa' 'a6' 'jazz' 'omega' 'slk' '7er' '80' '147' '100' 'z_reihe'\n",
      " 'sportage' 'sorento' 'v40' 'ibiza' 'mustang' 'eos' 'touran' 'getz' 'a3'\n",
      " 'almera' 'megane' 'lupo' 'r19' 'zafira' 'caddy' 'mondeo' 'cordoba' 'colt'\n",
      " 'impreza' 'vectra' 'berlingo' 'tiguan' 'i_reihe' 'espace' 'sharan'\n",
      " '6_reihe' 'panda' 'up' 'seicento' 'ceed' '5_reihe' 'yeti' 'octavia' 'mii'\n",
      " 'rx_reihe' '6er' 'modus' 'fox' 'matiz' 'beetle' 'c1' 'rio' 'touareg'\n",
      " 'logan' 'spider' 'cuore' 's_max' 'a2' 'galaxy' 'c3' 'viano' 's_klasse'\n",
      " '1_reihe' 'avensis' 'roomster' 'sl' 'kaefer' 'santa' 'cooper' 'leon'\n",
      " '4_reihe' 'a5' '500' 'laguna' 'ptcruiser' 'clk' 'primera' 'x_reihe'\n",
      " 'exeo' '159' 'transit' 'juke' 'qashqai' 'carisma' 'accord' 'corolla'\n",
      " 'lanos' 'phaeton' 'verso' 'swift' 'rav' 'picanto' 'boxster' 'kalos'\n",
      " 'superb' 'stilo' 'alhambra' 'roadster' 'ypsilon' 'cayenne' 'galant'\n",
      " 'justy' '90' 'sirion' 'crossfire' 'agila' 'duster' 'cr_reihe' 'v50'\n",
      " 'mx_reihe' 'c_reihe' 'v_klasse' 'm_klasse' 'yaris' 'c5' 'aygo' 'cc'\n",
      " 'carnival' 'fusion' '911' 'bora' 'forfour' 'cl' 'tigra' '300c' 'spark'\n",
      " 'v70' 'kuga' 'x_type' 'ducato' 's_type' 'x_trail' 'toledo' 'altea'\n",
      " 'voyager' 'calibra' 'bravo' 'antara' 'tucson' 'citigo' 'jimny' 'wrangler'\n",
      " 'lybra' 'q7' 'lancer' 'captiva' 'c2' 'discovery' 'freelander' 'sandero'\n",
      " 'note' '900' 'cherokee' 'clubman' 'samara' 'defender' '601' 'cx_reihe'\n",
      " 'legacy' 'pajero' 'auris' 'niva' 's60' 'm_reihe' 'nubira' 'vivaro'\n",
      " 'g_klasse' 'lodgy' '850' 'range_rover' 'q3' 'serie_2' 'glk' 'charade'\n",
      " 'croma' 'outlander' 'doblo' 'musa' 'move' '9000' 'v60' 'aveo' '200' '145'\n",
      " 'b_max' 'range_rover_sport' 'terios' 'rangerover' 'q5'\n",
      " 'range_rover_evoque' 'materia' 'delta' 'gl' 'kalina' 'amarok'\n",
      " 'elefantino' 'i3' 'kappa' 'serie_3' 'serie_1']\n",
      "\n",
      "kilometer\n",
      "[150000 125000  90000  30000  70000   5000 100000  60000  20000  80000\n",
      "  50000  40000  10000]\n",
      "\n",
      "fueltype\n",
      "['petrol' 'gasoline' nan 'lpg' 'other' 'hybrid' 'cng' 'electric']\n",
      "\n",
      "brand\n",
      "['volkswagen' 'audi' 'jeep' 'skoda' 'bmw' 'peugeot' 'ford' 'mazda'\n",
      " 'nissan' 'renault' 'mercedes_benz' 'opel' 'seat' 'citroen' 'honda' 'fiat'\n",
      " 'mini' 'smart' 'hyundai' 'alfa_romeo' 'subaru' 'volvo' 'mitsubishi' 'kia'\n",
      " 'suzuki' 'lancia' 'sonstige_autos' 'toyota' 'chevrolet' 'dacia'\n",
      " 'daihatsu' 'chrysler' 'jaguar' 'daewoo' 'rover' 'porsche' 'saab'\n",
      " 'trabant' 'land_rover' 'lada']\n",
      "\n",
      "notrepaired\n",
      "[nan 'yes' 'no']\n",
      "\n"
     ]
    }
   ],
   "source": [
    "for col in df:\n",
    "    print(col)\n",
    "    print(df[col].unique())\n",
    "    print()"
   ]
  },
  {
   "cell_type": "code",
   "execution_count": null,
   "metadata": {
    "colab": {
     "base_uri": "https://localhost:8080/",
     "height": 282
    },
    "id": "CgaV57iTfH92",
    "outputId": "37b445e3-6880-4775-a10b-71d2ca266f5c"
   },
   "outputs": [
    {
     "data": {
      "text/plain": [
       "<matplotlib.axes._subplots.AxesSubplot at 0x7fbf8791fc10>"
      ]
     },
     "execution_count": 16,
     "metadata": {
      "tags": []
     },
     "output_type": "execute_result"
    },
    {
     "data": {
      "image/png": "[encoded data removed]",
      "text/plain": [
       "<Figure size 432x288 with 1 Axes>"
      ]
     },
     "metadata": {
      "needs_background": "light",
      "tags": []
     },
     "output_type": "display_data"
    }
   ],
   "source": [
    "df['power'].hist()"
   ]
  },
  {
   "cell_type": "code",
   "execution_count": null,
   "metadata": {
    "colab": {
     "base_uri": "https://localhost:8080/",
     "height": 282
    },
    "id": "roB_B3ipfH92",
    "outputId": "d1f6cc26-7b7f-42a4-9cd9-58ec4f32962e"
   },
   "outputs": [
    {
     "data": {
      "text/plain": [
       "<matplotlib.axes._subplots.AxesSubplot at 0x7fbf878a66d0>"
      ]
     },
     "execution_count": 17,
     "metadata": {
      "tags": []
     },
     "output_type": "execute_result"
    },
    {
     "data": {
      "image/png": "[encoded data removed]",
      "text/plain": [
       "<Figure size 432x288 with 1 Axes>"
      ]
     },
     "metadata": {
      "needs_background": "light",
      "tags": []
     },
     "output_type": "display_data"
    }
   ],
   "source": [
    "df[df['power']< 1000]['power'].hist()"
   ]
  },
  {
   "cell_type": "code",
   "execution_count": null,
   "metadata": {
    "colab": {
     "base_uri": "https://localhost:8080/",
     "height": 282
    },
    "id": "_FRCCY5nfH92",
    "outputId": "51523b4b-553e-4f50-83ce-f8b9fed7727f"
   },
   "outputs": [
    {
     "data": {
      "text/plain": [
       "<matplotlib.axes._subplots.AxesSubplot at 0x7fbf87927710>"
      ]
     },
     "execution_count": 18,
     "metadata": {
      "tags": []
     },
     "output_type": "execute_result"
    },
    {
     "data": {
      "image/png": "[encoded data removed]",
      "text/plain": [
       "<Figure size 432x288 with 1 Axes>"
      ]
     },
     "metadata": {
      "needs_background": "light",
      "tags": []
     },
     "output_type": "display_data"
    }
   ],
   "source": [
    "df[df['power'] < 50]['power'].hist()"
   ]
  },
  {
   "cell_type": "markdown",
   "metadata": {
    "id": "NlTu_zadfH93"
   },
   "source": [
    "Так как автомобили со значением лошадиной силы более 800 и менее 40 встретить довольно сложно, удаляю аномалии."
   ]
  },
  {
   "cell_type": "code",
   "execution_count": null,
   "metadata": {
    "id": "aeQRD9XkfH93"
   },
   "outputs": [],
   "source": [
    "df = df[df['power'] < 800].copy()"
   ]
  },
  {
   "cell_type": "code",
   "execution_count": null,
   "metadata": {
    "id": "LKkbGG71fH93"
   },
   "outputs": [],
   "source": [
    "df = df[df['power'] > 40].copy()"
   ]
  },
  {
   "cell_type": "code",
   "execution_count": null,
   "metadata": {
    "id": "kUuLmSZpfH93"
   },
   "outputs": [],
   "source": [
    "df['vehicletype'].fillna('other', inplace = True)"
   ]
  },
  {
   "cell_type": "code",
   "execution_count": null,
   "metadata": {
    "id": "cmnOtJGlfH94"
   },
   "outputs": [],
   "source": [
    "df['fueltype'].fillna('other', inplace = True)"
   ]
  },
  {
   "cell_type": "code",
   "execution_count": null,
   "metadata": {
    "id": "UdvwArF_fH94"
   },
   "outputs": [],
   "source": [
    "df['brand'].fillna('other', inplace = True)"
   ]
  },
  {
   "cell_type": "markdown",
   "metadata": {
    "id": "5XpAAMVCfH94"
   },
   "source": [
    "Отправляю пропуски, где это возможно, в категорию 'другие'."
   ]
  },
  {
   "cell_type": "code",
   "execution_count": null,
   "metadata": {
    "colab": {
     "base_uri": "https://localhost:8080/"
    },
    "id": "LWX40B4SfH94",
    "outputId": "8b4eb2a2-89a0-444f-bb52-72d7bba34619"
   },
   "outputs": [
    {
     "name": "stdout",
     "output_type": "stream",
     "text": [
      "<class 'pandas.core.frame.DataFrame'>\n",
      "Int64Index: 303434 entries, 1 to 354368\n",
      "Data columns (total 10 columns):\n",
      " #   Column            Non-Null Count   Dtype \n",
      "---  ------            --------------   ----- \n",
      " 0   price             303434 non-null  int64 \n",
      " 1   vehicletype       303434 non-null  object\n",
      " 2   registrationyear  303434 non-null  int64 \n",
      " 3   gearbox           297638 non-null  object\n",
      " 4   power             303434 non-null  int64 \n",
      " 5   model             291500 non-null  object\n",
      " 6   kilometer         303434 non-null  int64 \n",
      " 7   fueltype          303434 non-null  object\n",
      " 8   brand             303434 non-null  object\n",
      " 9   notrepaired       257483 non-null  object\n",
      "dtypes: int64(4), object(6)\n",
      "memory usage: 25.5+ MB\n"
     ]
    }
   ],
   "source": [
    "df.info()"
   ]
  },
  {
   "cell_type": "code",
   "execution_count": null,
   "metadata": {
    "colab": {
     "base_uri": "https://localhost:8080/"
    },
    "id": "8emWzrHSfH94",
    "outputId": "f94bef12-a980-4a01-e612-0be9ebc5f892",
    "scrolled": true
   },
   "outputs": [
    {
     "name": "stdout",
     "output_type": "stream",
     "text": [
      "price\n",
      "[18300  9800  1500 ... 12395 18429 10985]\n",
      "\n",
      "vehicletype\n",
      "['coupe' 'suv' 'small' 'sedan' 'convertible' 'bus' 'wagon' 'other']\n",
      "\n",
      "registrationyear\n",
      "[2011 2004 2001 2008 1995 2014 1998 2005 2016 2007 2009 2002 2018 1997\n",
      " 1990 2017 1981 2003 1991 1984 2006 1999 2012 2010 2000 1992 2013 1994\n",
      " 1996 1989 2015 1993 1985 1982 1983 1973 1969 1971 1987 1988 1980 1986\n",
      " 1976 1965 1945 1974 1978 1979 1972 1977 1961 1975 1970 1968 1963 1966\n",
      " 1958 1941 1500 1960 1910 1967 1949 1959 1953 1964 2019 1962 2900 6000\n",
      " 5911 4000 1955 1956 1951 1950 5000 1942 1957 9999 1954 1952 1943 1800\n",
      " 2800 1000 1948 4500 1937 8200 1947]\n",
      "\n",
      "gearbox\n",
      "['manual' 'auto' nan]\n",
      "\n",
      "power\n",
      "[190 163  75  69 102 109 125 101 105 140 115 131  60 136 160 231  90  50\n",
      " 118 193  99 113 218 122 129  70 306  95  61 177  80 170  55 143  64 232\n",
      " 150 156  82 155  54 185  87 180  86  84 224 235 200 178 265  77 110 144\n",
      " 120 286 116 184 126 204  88 194 305 197 179 250  45 313  41 165  98 130\n",
      " 114 211  56 201 213  58 107  83 174 100 220  85  73 192  68  66 299  74\n",
      "  52 147  65 310  71  97 239 203 300 103 258 320  63  81 148  44 145 280\n",
      " 260 104 188 333 186 117 141  59 132 234 158  92  51 135 230 209  43 146\n",
      "  67 106 166 276 344  72 249 237 245 111 326 279 138 175  96 226 301 334\n",
      " 128 133 124 219 241 167  94 182 196 238 228 112  48 272 139  79 256 360\n",
      " 243 252 396 340 108 121 345 187 289 222 198 284 450 233 387 347 172  57\n",
      " 137 212 476 314  47 173 290 207 205 171  78  91  89 349 325  76 151 350\n",
      "  93 142 343 199 119 164 264 152 367 240 208 210  46  53 435 225 127 176\n",
      " 161 603 307 354 206 771 355 273 223 255 123 154 149 268 620 169 400 275\n",
      " 242 285 162 328 329 134 420 247 168 215 330 283 500  62 183 254 321 322\n",
      " 315 600 181 426 599 379 157  42 195 309 507 381 271 440 189 401 236 521\n",
      " 270 159 292 515 303 216 610 504  49 267 331 363 261 385 253 696 376 227\n",
      " 311 217 394 298 296 294 551 246 390 221 259 606 327 266 374 392 405 262\n",
      " 601 430 295 411 541 382 287 214 751 297 457 282 602 388 335 202 750 364\n",
      " 269 460 288 316 191 278 380 257 449 153 520 560 281 386 671 274 277 341\n",
      " 338 445 370 517 431 371 428 304 348 579 580 408 358 489 585 365 353 490\n",
      " 352 346 550 357 251 337 700 487 519 612 229 584 318 510 525 685 317 703\n",
      " 514 362 332 324 425 308 475 640 248 651 368 505 351 398 409 776 459 339\n",
      " 361 454 650 604 607 336 416 678 375 323 572 244 399 743 544 645 702 442\n",
      " 540 754 402 356 293 508 682 732 421 377]\n",
      "\n",
      "model\n",
      "[nan 'grand' 'golf' 'fabia' '3er' '2_reihe' 'c_max' '3_reihe' 'passat'\n",
      " 'navara' 'polo' 'twingo' 'a_klasse' 'scirocco' '5er' 'meriva' 'arosa'\n",
      " 'other' 'c4' 'civic' 'transporter' 'punto' 'e_klasse' 'clio' 'kadett'\n",
      " 'one' 'fortwo' '1er' 'b_klasse' 'a8' 'jetta' 'astra' 'fiesta' 'c_klasse'\n",
      " 'micra' 'vito' 'sprinter' '156' 'escort' 'forester' 'xc_reihe' 'scenic'\n",
      " 'ka' 'a1' 'focus' 'a4' 'tt' 'a6' 'jazz' 'omega' 'slk' '7er' 'combo'\n",
      " 'corsa' '80' '147' 'z_reihe' 'sportage' 'sorento' 'ibiza' 'mustang' 'eos'\n",
      " 'touran' 'getz' 'insignia' 'almera' 'megane' 'a3' 'lupo' 'r19' 'caddy'\n",
      " 'mondeo' 'cordoba' 'colt' 'impreza' 'vectra' 'berlingo' 'tiguan'\n",
      " 'i_reihe' '6_reihe' 'panda' 'up' 'ceed' 'kangoo' '5_reihe' 'yeti'\n",
      " 'octavia' 'zafira' 'mii' 'rx_reihe' '6er' 'modus' 'fox' 'matiz' 'beetle'\n",
      " 'rio' 'touareg' 'logan' 'spider' 'cuore' 's_max' 'a2' 'galaxy' 'c3'\n",
      " 'viano' 's_klasse' '1_reihe' 'sharan' 'avensis' 'roomster' 'sl' 'kaefer'\n",
      " 'santa' 'leon' 'cooper' '4_reihe' 'a5' 'laguna' 'ptcruiser' 'clk'\n",
      " 'primera' 'espace' 'exeo' '159' 'transit' 'juke' 'x_reihe' 'v40'\n",
      " 'carisma' 'accord' 'corolla' 'lanos' 'phaeton' 'verso' 'swift' 'rav'\n",
      " 'qashqai' 'picanto' 'boxster' 'superb' 'stilo' 'alhambra' 'roadster'\n",
      " 'ypsilon' 'galant' 'justy' '90' 'sirion' 'signum' 'crossfire' 'agila'\n",
      " 'duster' 'v50' 'mx_reihe' 'c_reihe' 'v_klasse' 'm_klasse' 'yaris' 'c5'\n",
      " 'aygo' 'seicento' 'cc' 'carnival' 'fusion' '911' 'bora' 'forfour' 'cl'\n",
      " 'tigra' '300c' '500' '100' 'cr_reihe' 'spark' 'kuga' 'x_type' 'ducato'\n",
      " 's_type' 'x_trail' 'toledo' 'altea' 'voyager' 'calibra' 'v70' 'bravo'\n",
      " 'tucson' 'c1' 'citigo' 'jimny' 'cayenne' 'wrangler' 'lybra' 'lancer'\n",
      " 'captiva' 'c2' 'discovery' 'freelander' 'sandero' 'q7' 'note' 'antara'\n",
      " '900' 'cherokee' 'clubman' 'defender' 'cx_reihe' 'legacy' 'pajero'\n",
      " 'auris' 'niva' 's60' 'm_reihe' 'nubira' 'vivaro' 'g_klasse' 'lodgy'\n",
      " 'range_rover' '850' 'q3' 'serie_2' 'glk' 'charade' 'croma' 'outlander'\n",
      " 'doblo' 'musa' '9000' 'kalos' 'v60' 'aveo' '200' '145' 'b_max'\n",
      " 'range_rover_sport' 'move' 'rangerover' 'q5' 'range_rover_evoque'\n",
      " 'materia' 'delta' 'terios' 'gl' 'kalina' 'elefantino' 'i3' 'samara'\n",
      " 'amarok' '601' 'kappa' 'serie_3']\n",
      "\n",
      "kilometer\n",
      "[125000 150000  90000  30000  70000 100000  60000   5000  20000  80000\n",
      "  50000  40000  10000]\n",
      "\n",
      "fueltype\n",
      "['gasoline' 'petrol' 'other' 'lpg' 'hybrid' 'cng' 'electric']\n",
      "\n",
      "brand\n",
      "['audi' 'jeep' 'volkswagen' 'skoda' 'bmw' 'peugeot' 'ford' 'mazda'\n",
      " 'nissan' 'renault' 'mercedes_benz' 'opel' 'seat' 'citroen' 'honda' 'fiat'\n",
      " 'mini' 'smart' 'hyundai' 'alfa_romeo' 'subaru' 'volvo' 'mitsubishi' 'kia'\n",
      " 'suzuki' 'lancia' 'toyota' 'chevrolet' 'dacia' 'daihatsu' 'chrysler'\n",
      " 'sonstige_autos' 'jaguar' 'daewoo' 'rover' 'porsche' 'saab' 'land_rover'\n",
      " 'trabant' 'lada']\n",
      "\n",
      "notrepaired\n",
      "['yes' nan 'no']\n",
      "\n"
     ]
    }
   ],
   "source": [
    "for col in df:\n",
    "    print(col)\n",
    "    print(df[col].unique())\n",
    "    print()"
   ]
  },
  {
   "cell_type": "code",
   "execution_count": null,
   "metadata": {
    "colab": {
     "base_uri": "https://localhost:8080/"
    },
    "id": "10wp9PBufH95",
    "outputId": "76bf9039-0493-4e6e-9d7d-394b8b01437b"
   },
   "outputs": [
    {
     "data": {
      "text/plain": [
       "price               0.000000\n",
       "vehicletype         0.000000\n",
       "registrationyear    0.000000\n",
       "gearbox             0.019101\n",
       "power               0.000000\n",
       "model               0.039330\n",
       "kilometer           0.000000\n",
       "fueltype            0.000000\n",
       "brand               0.000000\n",
       "notrepaired         0.151437\n",
       "dtype: float64"
      ]
     },
     "execution_count": 26,
     "metadata": {
      "tags": []
     },
     "output_type": "execute_result"
    }
   ],
   "source": [
    "df.isna().mean()"
   ]
  },
  {
   "cell_type": "code",
   "execution_count": null,
   "metadata": {
    "id": "Gqfs5-YofH95"
   },
   "outputs": [],
   "source": [
    "df.dropna(inplace = True)"
   ]
  },
  {
   "cell_type": "code",
   "execution_count": null,
   "metadata": {
    "colab": {
     "base_uri": "https://localhost:8080/"
    },
    "id": "yGpU_RBSfH96",
    "outputId": "1c2ef271-0536-4b34-e3ed-4af5c3aeb8c7"
   },
   "outputs": [
    {
     "name": "stdout",
     "output_type": "stream",
     "text": [
      "<class 'pandas.core.frame.DataFrame'>\n",
      "Int64Index: 246823 entries, 3 to 354367\n",
      "Data columns (total 10 columns):\n",
      " #   Column            Non-Null Count   Dtype \n",
      "---  ------            --------------   ----- \n",
      " 0   price             246823 non-null  int64 \n",
      " 1   vehicletype       246823 non-null  object\n",
      " 2   registrationyear  246823 non-null  int64 \n",
      " 3   gearbox           246823 non-null  object\n",
      " 4   power             246823 non-null  int64 \n",
      " 5   model             246823 non-null  object\n",
      " 6   kilometer         246823 non-null  int64 \n",
      " 7   fueltype          246823 non-null  object\n",
      " 8   brand             246823 non-null  object\n",
      " 9   notrepaired       246823 non-null  object\n",
      "dtypes: int64(4), object(6)\n",
      "memory usage: 20.7+ MB\n"
     ]
    }
   ],
   "source": [
    "df.info()"
   ]
  },
  {
   "cell_type": "markdown",
   "metadata": {
    "id": "F7wBwJDSfH96"
   },
   "source": [
    "Дропаю пропуски, которые невозможно заполнить."
   ]
  },
  {
   "cell_type": "code",
   "execution_count": null,
   "metadata": {
    "id": "-nibzSKzfH97"
   },
   "outputs": [],
   "source": [
    "base_df = df.copy()"
   ]
  },
  {
   "cell_type": "code",
   "execution_count": null,
   "metadata": {
    "id": "IB3OBRArfH97"
   },
   "outputs": [],
   "source": [
    "df = pd.get_dummies(df, drop_first = True)"
   ]
  },
  {
   "cell_type": "code",
   "execution_count": null,
   "metadata": {
    "colab": {
     "base_uri": "https://localhost:8080/",
     "height": 253
    },
    "id": "owhsRCx3fH97",
    "outputId": "84078390-7bd0-445f-fb2a-705a8197e8fc"
   },
   "outputs": [
    {
     "data": {
      "text/html": [
       "<div>\n",
       "<style scoped>\n",
       "    .dataframe tbody tr th:only-of-type {\n",
       "        vertical-align: middle;\n",
       "    }\n",
       "\n",
       "    .dataframe tbody tr th {\n",
       "        vertical-align: top;\n",
       "    }\n",
       "\n",
       "    .dataframe thead th {\n",
       "        text-align: right;\n",
       "    }\n",
       "</style>\n",
       "<table border=\"1\" class=\"dataframe\">\n",
       "  <thead>\n",
       "    <tr style=\"text-align: right;\">\n",
       "      <th></th>\n",
       "      <th>price</th>\n",
       "      <th>registrationyear</th>\n",
       "      <th>power</th>\n",
       "      <th>kilometer</th>\n",
       "      <th>vehicletype_convertible</th>\n",
       "      <th>vehicletype_coupe</th>\n",
       "      <th>vehicletype_other</th>\n",
       "      <th>vehicletype_sedan</th>\n",
       "      <th>vehicletype_small</th>\n",
       "      <th>vehicletype_suv</th>\n",
       "      <th>vehicletype_wagon</th>\n",
       "      <th>gearbox_manual</th>\n",
       "      <th>model_145</th>\n",
       "      <th>model_147</th>\n",
       "      <th>model_156</th>\n",
       "      <th>model_159</th>\n",
       "      <th>model_1_reihe</th>\n",
       "      <th>model_1er</th>\n",
       "      <th>model_200</th>\n",
       "      <th>model_2_reihe</th>\n",
       "      <th>model_300c</th>\n",
       "      <th>model_3_reihe</th>\n",
       "      <th>model_3er</th>\n",
       "      <th>model_4_reihe</th>\n",
       "      <th>model_500</th>\n",
       "      <th>model_5_reihe</th>\n",
       "      <th>model_5er</th>\n",
       "      <th>model_601</th>\n",
       "      <th>model_6_reihe</th>\n",
       "      <th>model_6er</th>\n",
       "      <th>model_7er</th>\n",
       "      <th>model_80</th>\n",
       "      <th>model_850</th>\n",
       "      <th>model_90</th>\n",
       "      <th>model_900</th>\n",
       "      <th>model_9000</th>\n",
       "      <th>model_911</th>\n",
       "      <th>model_a1</th>\n",
       "      <th>model_a2</th>\n",
       "      <th>model_a3</th>\n",
       "      <th>...</th>\n",
       "      <th>fueltype_petrol</th>\n",
       "      <th>brand_audi</th>\n",
       "      <th>brand_bmw</th>\n",
       "      <th>brand_chevrolet</th>\n",
       "      <th>brand_chrysler</th>\n",
       "      <th>brand_citroen</th>\n",
       "      <th>brand_dacia</th>\n",
       "      <th>brand_daewoo</th>\n",
       "      <th>brand_daihatsu</th>\n",
       "      <th>brand_fiat</th>\n",
       "      <th>brand_ford</th>\n",
       "      <th>brand_honda</th>\n",
       "      <th>brand_hyundai</th>\n",
       "      <th>brand_jaguar</th>\n",
       "      <th>brand_jeep</th>\n",
       "      <th>brand_kia</th>\n",
       "      <th>brand_lada</th>\n",
       "      <th>brand_lancia</th>\n",
       "      <th>brand_land_rover</th>\n",
       "      <th>brand_mazda</th>\n",
       "      <th>brand_mercedes_benz</th>\n",
       "      <th>brand_mini</th>\n",
       "      <th>brand_mitsubishi</th>\n",
       "      <th>brand_nissan</th>\n",
       "      <th>brand_opel</th>\n",
       "      <th>brand_peugeot</th>\n",
       "      <th>brand_porsche</th>\n",
       "      <th>brand_renault</th>\n",
       "      <th>brand_rover</th>\n",
       "      <th>brand_saab</th>\n",
       "      <th>brand_seat</th>\n",
       "      <th>brand_skoda</th>\n",
       "      <th>brand_smart</th>\n",
       "      <th>brand_subaru</th>\n",
       "      <th>brand_suzuki</th>\n",
       "      <th>brand_toyota</th>\n",
       "      <th>brand_trabant</th>\n",
       "      <th>brand_volkswagen</th>\n",
       "      <th>brand_volvo</th>\n",
       "      <th>notrepaired_yes</th>\n",
       "    </tr>\n",
       "  </thead>\n",
       "  <tbody>\n",
       "    <tr>\n",
       "      <th>3</th>\n",
       "      <td>1500</td>\n",
       "      <td>2001</td>\n",
       "      <td>75</td>\n",
       "      <td>150000</td>\n",
       "      <td>0</td>\n",
       "      <td>0</td>\n",
       "      <td>0</td>\n",
       "      <td>0</td>\n",
       "      <td>1</td>\n",
       "      <td>0</td>\n",
       "      <td>0</td>\n",
       "      <td>1</td>\n",
       "      <td>0</td>\n",
       "      <td>0</td>\n",
       "      <td>0</td>\n",
       "      <td>0</td>\n",
       "      <td>0</td>\n",
       "      <td>0</td>\n",
       "      <td>0</td>\n",
       "      <td>0</td>\n",
       "      <td>0</td>\n",
       "      <td>0</td>\n",
       "      <td>0</td>\n",
       "      <td>0</td>\n",
       "      <td>0</td>\n",
       "      <td>0</td>\n",
       "      <td>0</td>\n",
       "      <td>0</td>\n",
       "      <td>0</td>\n",
       "      <td>0</td>\n",
       "      <td>0</td>\n",
       "      <td>0</td>\n",
       "      <td>0</td>\n",
       "      <td>0</td>\n",
       "      <td>0</td>\n",
       "      <td>0</td>\n",
       "      <td>0</td>\n",
       "      <td>0</td>\n",
       "      <td>0</td>\n",
       "      <td>0</td>\n",
       "      <td>...</td>\n",
       "      <td>1</td>\n",
       "      <td>0</td>\n",
       "      <td>0</td>\n",
       "      <td>0</td>\n",
       "      <td>0</td>\n",
       "      <td>0</td>\n",
       "      <td>0</td>\n",
       "      <td>0</td>\n",
       "      <td>0</td>\n",
       "      <td>0</td>\n",
       "      <td>0</td>\n",
       "      <td>0</td>\n",
       "      <td>0</td>\n",
       "      <td>0</td>\n",
       "      <td>0</td>\n",
       "      <td>0</td>\n",
       "      <td>0</td>\n",
       "      <td>0</td>\n",
       "      <td>0</td>\n",
       "      <td>0</td>\n",
       "      <td>0</td>\n",
       "      <td>0</td>\n",
       "      <td>0</td>\n",
       "      <td>0</td>\n",
       "      <td>0</td>\n",
       "      <td>0</td>\n",
       "      <td>0</td>\n",
       "      <td>0</td>\n",
       "      <td>0</td>\n",
       "      <td>0</td>\n",
       "      <td>0</td>\n",
       "      <td>0</td>\n",
       "      <td>0</td>\n",
       "      <td>0</td>\n",
       "      <td>0</td>\n",
       "      <td>0</td>\n",
       "      <td>0</td>\n",
       "      <td>1</td>\n",
       "      <td>0</td>\n",
       "      <td>0</td>\n",
       "    </tr>\n",
       "    <tr>\n",
       "      <th>4</th>\n",
       "      <td>3600</td>\n",
       "      <td>2008</td>\n",
       "      <td>69</td>\n",
       "      <td>90000</td>\n",
       "      <td>0</td>\n",
       "      <td>0</td>\n",
       "      <td>0</td>\n",
       "      <td>0</td>\n",
       "      <td>1</td>\n",
       "      <td>0</td>\n",
       "      <td>0</td>\n",
       "      <td>1</td>\n",
       "      <td>0</td>\n",
       "      <td>0</td>\n",
       "      <td>0</td>\n",
       "      <td>0</td>\n",
       "      <td>0</td>\n",
       "      <td>0</td>\n",
       "      <td>0</td>\n",
       "      <td>0</td>\n",
       "      <td>0</td>\n",
       "      <td>0</td>\n",
       "      <td>0</td>\n",
       "      <td>0</td>\n",
       "      <td>0</td>\n",
       "      <td>0</td>\n",
       "      <td>0</td>\n",
       "      <td>0</td>\n",
       "      <td>0</td>\n",
       "      <td>0</td>\n",
       "      <td>0</td>\n",
       "      <td>0</td>\n",
       "      <td>0</td>\n",
       "      <td>0</td>\n",
       "      <td>0</td>\n",
       "      <td>0</td>\n",
       "      <td>0</td>\n",
       "      <td>0</td>\n",
       "      <td>0</td>\n",
       "      <td>0</td>\n",
       "      <td>...</td>\n",
       "      <td>0</td>\n",
       "      <td>0</td>\n",
       "      <td>0</td>\n",
       "      <td>0</td>\n",
       "      <td>0</td>\n",
       "      <td>0</td>\n",
       "      <td>0</td>\n",
       "      <td>0</td>\n",
       "      <td>0</td>\n",
       "      <td>0</td>\n",
       "      <td>0</td>\n",
       "      <td>0</td>\n",
       "      <td>0</td>\n",
       "      <td>0</td>\n",
       "      <td>0</td>\n",
       "      <td>0</td>\n",
       "      <td>0</td>\n",
       "      <td>0</td>\n",
       "      <td>0</td>\n",
       "      <td>0</td>\n",
       "      <td>0</td>\n",
       "      <td>0</td>\n",
       "      <td>0</td>\n",
       "      <td>0</td>\n",
       "      <td>0</td>\n",
       "      <td>0</td>\n",
       "      <td>0</td>\n",
       "      <td>0</td>\n",
       "      <td>0</td>\n",
       "      <td>0</td>\n",
       "      <td>0</td>\n",
       "      <td>1</td>\n",
       "      <td>0</td>\n",
       "      <td>0</td>\n",
       "      <td>0</td>\n",
       "      <td>0</td>\n",
       "      <td>0</td>\n",
       "      <td>0</td>\n",
       "      <td>0</td>\n",
       "      <td>0</td>\n",
       "    </tr>\n",
       "    <tr>\n",
       "      <th>5</th>\n",
       "      <td>650</td>\n",
       "      <td>1995</td>\n",
       "      <td>102</td>\n",
       "      <td>150000</td>\n",
       "      <td>0</td>\n",
       "      <td>0</td>\n",
       "      <td>0</td>\n",
       "      <td>1</td>\n",
       "      <td>0</td>\n",
       "      <td>0</td>\n",
       "      <td>0</td>\n",
       "      <td>1</td>\n",
       "      <td>0</td>\n",
       "      <td>0</td>\n",
       "      <td>0</td>\n",
       "      <td>0</td>\n",
       "      <td>0</td>\n",
       "      <td>0</td>\n",
       "      <td>0</td>\n",
       "      <td>0</td>\n",
       "      <td>0</td>\n",
       "      <td>0</td>\n",
       "      <td>1</td>\n",
       "      <td>0</td>\n",
       "      <td>0</td>\n",
       "      <td>0</td>\n",
       "      <td>0</td>\n",
       "      <td>0</td>\n",
       "      <td>0</td>\n",
       "      <td>0</td>\n",
       "      <td>0</td>\n",
       "      <td>0</td>\n",
       "      <td>0</td>\n",
       "      <td>0</td>\n",
       "      <td>0</td>\n",
       "      <td>0</td>\n",
       "      <td>0</td>\n",
       "      <td>0</td>\n",
       "      <td>0</td>\n",
       "      <td>0</td>\n",
       "      <td>...</td>\n",
       "      <td>1</td>\n",
       "      <td>0</td>\n",
       "      <td>1</td>\n",
       "      <td>0</td>\n",
       "      <td>0</td>\n",
       "      <td>0</td>\n",
       "      <td>0</td>\n",
       "      <td>0</td>\n",
       "      <td>0</td>\n",
       "      <td>0</td>\n",
       "      <td>0</td>\n",
       "      <td>0</td>\n",
       "      <td>0</td>\n",
       "      <td>0</td>\n",
       "      <td>0</td>\n",
       "      <td>0</td>\n",
       "      <td>0</td>\n",
       "      <td>0</td>\n",
       "      <td>0</td>\n",
       "      <td>0</td>\n",
       "      <td>0</td>\n",
       "      <td>0</td>\n",
       "      <td>0</td>\n",
       "      <td>0</td>\n",
       "      <td>0</td>\n",
       "      <td>0</td>\n",
       "      <td>0</td>\n",
       "      <td>0</td>\n",
       "      <td>0</td>\n",
       "      <td>0</td>\n",
       "      <td>0</td>\n",
       "      <td>0</td>\n",
       "      <td>0</td>\n",
       "      <td>0</td>\n",
       "      <td>0</td>\n",
       "      <td>0</td>\n",
       "      <td>0</td>\n",
       "      <td>0</td>\n",
       "      <td>0</td>\n",
       "      <td>1</td>\n",
       "    </tr>\n",
       "    <tr>\n",
       "      <th>6</th>\n",
       "      <td>2200</td>\n",
       "      <td>2004</td>\n",
       "      <td>109</td>\n",
       "      <td>150000</td>\n",
       "      <td>1</td>\n",
       "      <td>0</td>\n",
       "      <td>0</td>\n",
       "      <td>0</td>\n",
       "      <td>0</td>\n",
       "      <td>0</td>\n",
       "      <td>0</td>\n",
       "      <td>1</td>\n",
       "      <td>0</td>\n",
       "      <td>0</td>\n",
       "      <td>0</td>\n",
       "      <td>0</td>\n",
       "      <td>0</td>\n",
       "      <td>0</td>\n",
       "      <td>0</td>\n",
       "      <td>1</td>\n",
       "      <td>0</td>\n",
       "      <td>0</td>\n",
       "      <td>0</td>\n",
       "      <td>0</td>\n",
       "      <td>0</td>\n",
       "      <td>0</td>\n",
       "      <td>0</td>\n",
       "      <td>0</td>\n",
       "      <td>0</td>\n",
       "      <td>0</td>\n",
       "      <td>0</td>\n",
       "      <td>0</td>\n",
       "      <td>0</td>\n",
       "      <td>0</td>\n",
       "      <td>0</td>\n",
       "      <td>0</td>\n",
       "      <td>0</td>\n",
       "      <td>0</td>\n",
       "      <td>0</td>\n",
       "      <td>0</td>\n",
       "      <td>...</td>\n",
       "      <td>1</td>\n",
       "      <td>0</td>\n",
       "      <td>0</td>\n",
       "      <td>0</td>\n",
       "      <td>0</td>\n",
       "      <td>0</td>\n",
       "      <td>0</td>\n",
       "      <td>0</td>\n",
       "      <td>0</td>\n",
       "      <td>0</td>\n",
       "      <td>0</td>\n",
       "      <td>0</td>\n",
       "      <td>0</td>\n",
       "      <td>0</td>\n",
       "      <td>0</td>\n",
       "      <td>0</td>\n",
       "      <td>0</td>\n",
       "      <td>0</td>\n",
       "      <td>0</td>\n",
       "      <td>0</td>\n",
       "      <td>0</td>\n",
       "      <td>0</td>\n",
       "      <td>0</td>\n",
       "      <td>0</td>\n",
       "      <td>0</td>\n",
       "      <td>1</td>\n",
       "      <td>0</td>\n",
       "      <td>0</td>\n",
       "      <td>0</td>\n",
       "      <td>0</td>\n",
       "      <td>0</td>\n",
       "      <td>0</td>\n",
       "      <td>0</td>\n",
       "      <td>0</td>\n",
       "      <td>0</td>\n",
       "      <td>0</td>\n",
       "      <td>0</td>\n",
       "      <td>0</td>\n",
       "      <td>0</td>\n",
       "      <td>0</td>\n",
       "    </tr>\n",
       "    <tr>\n",
       "      <th>10</th>\n",
       "      <td>2000</td>\n",
       "      <td>2004</td>\n",
       "      <td>105</td>\n",
       "      <td>150000</td>\n",
       "      <td>0</td>\n",
       "      <td>0</td>\n",
       "      <td>0</td>\n",
       "      <td>1</td>\n",
       "      <td>0</td>\n",
       "      <td>0</td>\n",
       "      <td>0</td>\n",
       "      <td>1</td>\n",
       "      <td>0</td>\n",
       "      <td>0</td>\n",
       "      <td>0</td>\n",
       "      <td>0</td>\n",
       "      <td>0</td>\n",
       "      <td>0</td>\n",
       "      <td>0</td>\n",
       "      <td>0</td>\n",
       "      <td>0</td>\n",
       "      <td>1</td>\n",
       "      <td>0</td>\n",
       "      <td>0</td>\n",
       "      <td>0</td>\n",
       "      <td>0</td>\n",
       "      <td>0</td>\n",
       "      <td>0</td>\n",
       "      <td>0</td>\n",
       "      <td>0</td>\n",
       "      <td>0</td>\n",
       "      <td>0</td>\n",
       "      <td>0</td>\n",
       "      <td>0</td>\n",
       "      <td>0</td>\n",
       "      <td>0</td>\n",
       "      <td>0</td>\n",
       "      <td>0</td>\n",
       "      <td>0</td>\n",
       "      <td>0</td>\n",
       "      <td>...</td>\n",
       "      <td>1</td>\n",
       "      <td>0</td>\n",
       "      <td>0</td>\n",
       "      <td>0</td>\n",
       "      <td>0</td>\n",
       "      <td>0</td>\n",
       "      <td>0</td>\n",
       "      <td>0</td>\n",
       "      <td>0</td>\n",
       "      <td>0</td>\n",
       "      <td>0</td>\n",
       "      <td>0</td>\n",
       "      <td>0</td>\n",
       "      <td>0</td>\n",
       "      <td>0</td>\n",
       "      <td>0</td>\n",
       "      <td>0</td>\n",
       "      <td>0</td>\n",
       "      <td>0</td>\n",
       "      <td>1</td>\n",
       "      <td>0</td>\n",
       "      <td>0</td>\n",
       "      <td>0</td>\n",
       "      <td>0</td>\n",
       "      <td>0</td>\n",
       "      <td>0</td>\n",
       "      <td>0</td>\n",
       "      <td>0</td>\n",
       "      <td>0</td>\n",
       "      <td>0</td>\n",
       "      <td>0</td>\n",
       "      <td>0</td>\n",
       "      <td>0</td>\n",
       "      <td>0</td>\n",
       "      <td>0</td>\n",
       "      <td>0</td>\n",
       "      <td>0</td>\n",
       "      <td>0</td>\n",
       "      <td>0</td>\n",
       "      <td>0</td>\n",
       "    </tr>\n",
       "  </tbody>\n",
       "</table>\n",
       "<p>5 rows × 305 columns</p>\n",
       "</div>"
      ],
      "text/plain": [
       "    price  registrationyear  ...  brand_volvo  notrepaired_yes\n",
       "3    1500              2001  ...            0                0\n",
       "4    3600              2008  ...            0                0\n",
       "5     650              1995  ...            0                1\n",
       "6    2200              2004  ...            0                0\n",
       "10   2000              2004  ...            0                0\n",
       "\n",
       "[5 rows x 305 columns]"
      ]
     },
     "execution_count": 31,
     "metadata": {
      "tags": []
     },
     "output_type": "execute_result"
    }
   ],
   "source": [
    "df.head()"
   ]
  },
  {
   "cell_type": "code",
   "execution_count": null,
   "metadata": {
    "id": "xTXwkg85fH97"
   },
   "outputs": [],
   "source": [
    "features = df.drop(['price'], axis = 1).copy()\n",
    "target = df['price'].copy()"
   ]
  },
  {
   "cell_type": "code",
   "execution_count": null,
   "metadata": {
    "id": "66_qAj-PfH97"
   },
   "outputs": [],
   "source": [
    "features_train, features_test, target_train, target_test = train_test_split(\n",
    "features, target, test_size = 0.25, random_state = 4)"
   ]
  },
  {
   "cell_type": "markdown",
   "metadata": {
    "id": "QVygiRKifH98"
   },
   "source": [
    "Разбиваю на 3 выборки: 75% треин, 25% тест."
   ]
  },
  {
   "cell_type": "markdown",
   "metadata": {
    "id": "dxTGzX0hfH98"
   },
   "source": [
    "Отобрал из необработанного дф фичи по индексам, совпадающим с битыми треин тест сплитом, чтобы все модели учились на одинаковых признаках."
   ]
  },
  {
   "cell_type": "code",
   "execution_count": null,
   "metadata": {
    "colab": {
     "base_uri": "https://localhost:8080/",
     "height": 419
    },
    "id": "fN0p6zZKfH98",
    "outputId": "82c5b3a0-766e-4f3d-8ceb-1619179b3a32"
   },
   "outputs": [
    {
     "data": {
      "text/html": [
       "<div>\n",
       "<style scoped>\n",
       "    .dataframe tbody tr th:only-of-type {\n",
       "        vertical-align: middle;\n",
       "    }\n",
       "\n",
       "    .dataframe tbody tr th {\n",
       "        vertical-align: top;\n",
       "    }\n",
       "\n",
       "    .dataframe thead th {\n",
       "        text-align: right;\n",
       "    }\n",
       "</style>\n",
       "<table border=\"1\" class=\"dataframe\">\n",
       "  <thead>\n",
       "    <tr style=\"text-align: right;\">\n",
       "      <th></th>\n",
       "      <th>price</th>\n",
       "      <th>vehicletype</th>\n",
       "      <th>registrationyear</th>\n",
       "      <th>gearbox</th>\n",
       "      <th>power</th>\n",
       "      <th>model</th>\n",
       "      <th>kilometer</th>\n",
       "      <th>fueltype</th>\n",
       "      <th>brand</th>\n",
       "      <th>notrepaired</th>\n",
       "    </tr>\n",
       "  </thead>\n",
       "  <tbody>\n",
       "    <tr>\n",
       "      <th>3</th>\n",
       "      <td>1500</td>\n",
       "      <td>small</td>\n",
       "      <td>2001</td>\n",
       "      <td>manual</td>\n",
       "      <td>75</td>\n",
       "      <td>golf</td>\n",
       "      <td>150000</td>\n",
       "      <td>petrol</td>\n",
       "      <td>volkswagen</td>\n",
       "      <td>no</td>\n",
       "    </tr>\n",
       "    <tr>\n",
       "      <th>4</th>\n",
       "      <td>3600</td>\n",
       "      <td>small</td>\n",
       "      <td>2008</td>\n",
       "      <td>manual</td>\n",
       "      <td>69</td>\n",
       "      <td>fabia</td>\n",
       "      <td>90000</td>\n",
       "      <td>gasoline</td>\n",
       "      <td>skoda</td>\n",
       "      <td>no</td>\n",
       "    </tr>\n",
       "    <tr>\n",
       "      <th>5</th>\n",
       "      <td>650</td>\n",
       "      <td>sedan</td>\n",
       "      <td>1995</td>\n",
       "      <td>manual</td>\n",
       "      <td>102</td>\n",
       "      <td>3er</td>\n",
       "      <td>150000</td>\n",
       "      <td>petrol</td>\n",
       "      <td>bmw</td>\n",
       "      <td>yes</td>\n",
       "    </tr>\n",
       "    <tr>\n",
       "      <th>6</th>\n",
       "      <td>2200</td>\n",
       "      <td>convertible</td>\n",
       "      <td>2004</td>\n",
       "      <td>manual</td>\n",
       "      <td>109</td>\n",
       "      <td>2_reihe</td>\n",
       "      <td>150000</td>\n",
       "      <td>petrol</td>\n",
       "      <td>peugeot</td>\n",
       "      <td>no</td>\n",
       "    </tr>\n",
       "    <tr>\n",
       "      <th>10</th>\n",
       "      <td>2000</td>\n",
       "      <td>sedan</td>\n",
       "      <td>2004</td>\n",
       "      <td>manual</td>\n",
       "      <td>105</td>\n",
       "      <td>3_reihe</td>\n",
       "      <td>150000</td>\n",
       "      <td>petrol</td>\n",
       "      <td>mazda</td>\n",
       "      <td>no</td>\n",
       "    </tr>\n",
       "    <tr>\n",
       "      <th>...</th>\n",
       "      <td>...</td>\n",
       "      <td>...</td>\n",
       "      <td>...</td>\n",
       "      <td>...</td>\n",
       "      <td>...</td>\n",
       "      <td>...</td>\n",
       "      <td>...</td>\n",
       "      <td>...</td>\n",
       "      <td>...</td>\n",
       "      <td>...</td>\n",
       "    </tr>\n",
       "    <tr>\n",
       "      <th>354359</th>\n",
       "      <td>7900</td>\n",
       "      <td>sedan</td>\n",
       "      <td>2010</td>\n",
       "      <td>manual</td>\n",
       "      <td>140</td>\n",
       "      <td>golf</td>\n",
       "      <td>150000</td>\n",
       "      <td>gasoline</td>\n",
       "      <td>volkswagen</td>\n",
       "      <td>no</td>\n",
       "    </tr>\n",
       "    <tr>\n",
       "      <th>354361</th>\n",
       "      <td>5250</td>\n",
       "      <td>other</td>\n",
       "      <td>2016</td>\n",
       "      <td>auto</td>\n",
       "      <td>150</td>\n",
       "      <td>159</td>\n",
       "      <td>150000</td>\n",
       "      <td>other</td>\n",
       "      <td>alfa_romeo</td>\n",
       "      <td>no</td>\n",
       "    </tr>\n",
       "    <tr>\n",
       "      <th>354362</th>\n",
       "      <td>3200</td>\n",
       "      <td>sedan</td>\n",
       "      <td>2004</td>\n",
       "      <td>manual</td>\n",
       "      <td>225</td>\n",
       "      <td>leon</td>\n",
       "      <td>150000</td>\n",
       "      <td>petrol</td>\n",
       "      <td>seat</td>\n",
       "      <td>yes</td>\n",
       "    </tr>\n",
       "    <tr>\n",
       "      <th>354366</th>\n",
       "      <td>1199</td>\n",
       "      <td>convertible</td>\n",
       "      <td>2000</td>\n",
       "      <td>auto</td>\n",
       "      <td>101</td>\n",
       "      <td>fortwo</td>\n",
       "      <td>125000</td>\n",
       "      <td>petrol</td>\n",
       "      <td>smart</td>\n",
       "      <td>no</td>\n",
       "    </tr>\n",
       "    <tr>\n",
       "      <th>354367</th>\n",
       "      <td>9200</td>\n",
       "      <td>bus</td>\n",
       "      <td>1996</td>\n",
       "      <td>manual</td>\n",
       "      <td>102</td>\n",
       "      <td>transporter</td>\n",
       "      <td>150000</td>\n",
       "      <td>gasoline</td>\n",
       "      <td>volkswagen</td>\n",
       "      <td>no</td>\n",
       "    </tr>\n",
       "  </tbody>\n",
       "</table>\n",
       "<p>246823 rows × 10 columns</p>\n",
       "</div>"
      ],
      "text/plain": [
       "        price  vehicletype  registrationyear  ...  fueltype       brand notrepaired\n",
       "3        1500        small              2001  ...    petrol  volkswagen          no\n",
       "4        3600        small              2008  ...  gasoline       skoda          no\n",
       "5         650        sedan              1995  ...    petrol         bmw         yes\n",
       "6        2200  convertible              2004  ...    petrol     peugeot          no\n",
       "10       2000        sedan              2004  ...    petrol       mazda          no\n",
       "...       ...          ...               ...  ...       ...         ...         ...\n",
       "354359   7900        sedan              2010  ...  gasoline  volkswagen          no\n",
       "354361   5250        other              2016  ...     other  alfa_romeo          no\n",
       "354362   3200        sedan              2004  ...    petrol        seat         yes\n",
       "354366   1199  convertible              2000  ...    petrol       smart          no\n",
       "354367   9200          bus              1996  ...  gasoline  volkswagen          no\n",
       "\n",
       "[246823 rows x 10 columns]"
      ]
     },
     "execution_count": 34,
     "metadata": {
      "tags": []
     },
     "output_type": "execute_result"
    }
   ],
   "source": [
    "base_df"
   ]
  },
  {
   "cell_type": "code",
   "execution_count": null,
   "metadata": {
    "id": "cBAk8MtgfH99"
   },
   "outputs": [],
   "source": [
    "base_features = base_df.drop(['price'], axis = 1).copy()"
   ]
  },
  {
   "cell_type": "code",
   "execution_count": null,
   "metadata": {
    "id": "bP445ZugfH99"
   },
   "outputs": [],
   "source": [
    "base_target = base_df['price'].copy()"
   ]
  },
  {
   "cell_type": "code",
   "execution_count": null,
   "metadata": {
    "id": "pJjBbHiTfH99"
   },
   "outputs": [],
   "source": [
    "features_train2 = base_features[base_features.index.isin(features_train.index)]"
   ]
  },
  {
   "cell_type": "code",
   "execution_count": null,
   "metadata": {
    "id": "nDmreV3JfH99"
   },
   "outputs": [],
   "source": [
    "features_test2 = base_features[base_features.index.isin(features_test.index)]"
   ]
  },
  {
   "cell_type": "code",
   "execution_count": null,
   "metadata": {
    "id": "7Vtzjy6kfH9-"
   },
   "outputs": [],
   "source": [
    "target_train2 = base_target[base_target.index.isin(target_train.index)]"
   ]
  },
  {
   "cell_type": "code",
   "execution_count": null,
   "metadata": {
    "id": "gN6OrguufH9-"
   },
   "outputs": [],
   "source": [
    "target_test2 = base_target[base_target.index.isin(target_test.index)]"
   ]
  },
  {
   "cell_type": "code",
   "execution_count": null,
   "metadata": {
    "colab": {
     "base_uri": "https://localhost:8080/"
    },
    "id": "iCbfZVijfH9-",
    "outputId": "d866c955-022f-4073-a8f3-a9f3aa2c4db7"
   },
   "outputs": [
    {
     "data": {
      "text/plain": [
       "Index(['vehicletype', 'registrationyear', 'gearbox', 'power', 'model',\n",
       "       'kilometer', 'fueltype', 'brand', 'notrepaired'],\n",
       "      dtype='object')"
      ]
     },
     "execution_count": 41,
     "metadata": {
      "tags": []
     },
     "output_type": "execute_result"
    }
   ],
   "source": [
    "features_train2.columns"
   ]
  },
  {
   "cell_type": "code",
   "execution_count": null,
   "metadata": {
    "id": "R6WQZ_HxfH9-"
   },
   "outputs": [],
   "source": [
    "cat_features = ['vehicletype', 'gearbox', 'model',\n",
    "       'fueltype', 'brand', 'notrepaired']"
   ]
  },
  {
   "cell_type": "markdown",
   "metadata": {
    "id": "VD4tOCO-fH9_"
   },
   "source": [
    "## Обучение моделей"
   ]
  },
  {
   "cell_type": "code",
   "execution_count": null,
   "metadata": {
    "id": "ObQYDZ9QfH9_"
   },
   "outputs": [],
   "source": [
    "model = LinearRegression()"
   ]
  },
  {
   "cell_type": "code",
   "execution_count": null,
   "metadata": {
    "id": "R82aTGDIfH9_"
   },
   "outputs": [],
   "source": [
    "time1 = time.time()\n",
    "model.fit(features_train, target_train)\n",
    "time2 = time.time()\n",
    "LRfit = time2 - time1"
   ]
  },
  {
   "cell_type": "code",
   "execution_count": null,
   "metadata": {
    "id": "yI-m-0gyfH9_"
   },
   "outputs": [],
   "source": [
    "time1 = time.time()\n",
    "predictions = model.predict(features_test)\n",
    "time2 = time.time()\n",
    "LRpred = time2 - time1"
   ]
  },
  {
   "cell_type": "code",
   "execution_count": null,
   "metadata": {
    "id": "_MR25DLpfH9_"
   },
   "outputs": [],
   "source": [
    "LRscore = (mean_squared_error(target_test, predictions))**0.5"
   ]
  },
  {
   "cell_type": "code",
   "execution_count": null,
   "metadata": {
    "colab": {
     "base_uri": "https://localhost:8080/"
    },
    "id": "GL9Nf0atfH-A",
    "outputId": "35bb1cb3-18f1-4b5e-f15e-044781b2d90b"
   },
   "outputs": [
    {
     "data": {
      "text/plain": [
       "(5.622779846191406, 0.12848687171936035)"
      ]
     },
     "execution_count": 47,
     "metadata": {
      "tags": []
     },
     "output_type": "execute_result"
    }
   ],
   "source": [
    "LRfit, LRpred"
   ]
  },
  {
   "cell_type": "code",
   "execution_count": null,
   "metadata": {
    "id": "95pYSFHAfH-A"
   },
   "outputs": [],
   "source": [
    "features_train3 = features_train2[cat_features].astype('category').copy()\n",
    "features_test3 = features_test2[cat_features].astype('category').copy()"
   ]
  },
  {
   "cell_type": "code",
   "execution_count": null,
   "metadata": {
    "colab": {
     "base_uri": "https://localhost:8080/"
    },
    "id": "VBfzehnYfH-A",
    "outputId": "0b93e1ed-501c-459e-d84b-717225222fee"
   },
   "outputs": [
    {
     "name": "stdout",
     "output_type": "stream",
     "text": [
      "<class 'pandas.core.frame.DataFrame'>\n",
      "Int64Index: 185117 entries, 3 to 354367\n",
      "Data columns (total 6 columns):\n",
      " #   Column       Non-Null Count   Dtype   \n",
      "---  ------       --------------   -----   \n",
      " 0   vehicletype  185117 non-null  category\n",
      " 1   gearbox      185117 non-null  category\n",
      " 2   model        185117 non-null  category\n",
      " 3   fueltype     185117 non-null  category\n",
      " 4   brand        185117 non-null  category\n",
      " 5   notrepaired  185117 non-null  category\n",
      "dtypes: category(6)\n",
      "memory usage: 2.7 MB\n",
      "<class 'pandas.core.frame.DataFrame'>\n",
      "Int64Index: 61706 entries, 19 to 354358\n",
      "Data columns (total 6 columns):\n",
      " #   Column       Non-Null Count  Dtype   \n",
      "---  ------       --------------  -----   \n",
      " 0   vehicletype  61706 non-null  category\n",
      " 1   gearbox      61706 non-null  category\n",
      " 2   model        61706 non-null  category\n",
      " 3   fueltype     61706 non-null  category\n",
      " 4   brand        61706 non-null  category\n",
      " 5   notrepaired  61706 non-null  category\n",
      "dtypes: category(6)\n",
      "memory usage: 918.3 KB\n"
     ]
    },
    {
     "data": {
      "text/plain": [
       "(None, None)"
      ]
     },
     "execution_count": 49,
     "metadata": {
      "tags": []
     },
     "output_type": "execute_result"
    }
   ],
   "source": [
    "features_train3.info(), features_test3.info()"
   ]
  },
  {
   "cell_type": "code",
   "execution_count": null,
   "metadata": {
    "colab": {
     "base_uri": "https://localhost:8080/"
    },
    "id": "iNGvdPqbgw3n",
    "outputId": "3d3a7f77-faf1-4414-ddca-af7b3c48194e"
   },
   "outputs": [
    {
     "name": "stdout",
     "output_type": "stream",
     "text": [
      "Fitting 5 folds for each of 10 candidates, totalling 50 fits\n",
      "[Parallel(n_jobs=-1)]: Using backend LokyBackend with 2 concurrent workers.\n",
      "[Parallel(n_jobs=-1)]: Done   1 tasks      | elapsed:    4.0s\n",
      "[Parallel(n_jobs=-1)]: Done   2 tasks      | elapsed:    4.0s\n",
      "[Parallel(n_jobs=-1)]: Done   3 tasks      | elapsed:    6.6s\n",
      "[Parallel(n_jobs=-1)]: Done   4 tasks      | elapsed:    6.6s\n",
      "[Parallel(n_jobs=-1)]: Done   5 tasks      | elapsed:    7.3s\n",
      "[Parallel(n_jobs=-1)]: Done   6 tasks      | elapsed:    7.9s\n",
      "[Parallel(n_jobs=-1)]: Done   7 tasks      | elapsed:    8.7s\n",
      "[Parallel(n_jobs=-1)]: Done   8 tasks      | elapsed:    9.8s\n",
      "[Parallel(n_jobs=-1)]: Done   9 tasks      | elapsed:    9.9s\n",
      "[Parallel(n_jobs=-1)]: Done  10 tasks      | elapsed:   10.6s\n",
      "[Parallel(n_jobs=-1)]: Done  11 tasks      | elapsed:   12.0s\n",
      "[Parallel(n_jobs=-1)]: Done  12 tasks      | elapsed:   12.6s\n",
      "[Parallel(n_jobs=-1)]: Done  13 tasks      | elapsed:   13.9s\n",
      "[Parallel(n_jobs=-1)]: Done  14 tasks      | elapsed:   14.6s\n",
      "[Parallel(n_jobs=-1)]: Done  15 tasks      | elapsed:   15.7s\n",
      "[Parallel(n_jobs=-1)]: Done  16 tasks      | elapsed:   15.9s\n",
      "[Parallel(n_jobs=-1)]: Done  17 tasks      | elapsed:   16.8s\n",
      "[Parallel(n_jobs=-1)]: Done  18 tasks      | elapsed:   17.1s\n",
      "[Parallel(n_jobs=-1)]: Done  19 tasks      | elapsed:   18.0s\n",
      "[Parallel(n_jobs=-1)]: Done  20 tasks      | elapsed:   18.2s\n",
      "[Parallel(n_jobs=-1)]: Done  21 tasks      | elapsed:   19.2s\n",
      "[Parallel(n_jobs=-1)]: Done  22 tasks      | elapsed:   19.4s\n",
      "[Parallel(n_jobs=-1)]: Done  23 tasks      | elapsed:   20.4s\n",
      "[Parallel(n_jobs=-1)]: Done  24 tasks      | elapsed:   20.6s\n",
      "[Parallel(n_jobs=-1)]: Done  25 tasks      | elapsed:   21.6s\n",
      "[Parallel(n_jobs=-1)]: Done  26 tasks      | elapsed:   21.7s\n",
      "[Parallel(n_jobs=-1)]: Done  27 tasks      | elapsed:   22.7s\n",
      "[Parallel(n_jobs=-1)]: Done  28 tasks      | elapsed:   22.8s\n",
      "[Parallel(n_jobs=-1)]: Done  29 tasks      | elapsed:   23.9s\n",
      "[Parallel(n_jobs=-1)]: Done  30 tasks      | elapsed:   23.9s\n",
      "[Parallel(n_jobs=-1)]: Done  31 tasks      | elapsed:   26.0s\n",
      "[Parallel(n_jobs=-1)]: Done  32 tasks      | elapsed:   26.1s\n",
      "[Parallel(n_jobs=-1)]: Done  33 tasks      | elapsed:   28.2s\n",
      "[Parallel(n_jobs=-1)]: Done  34 tasks      | elapsed:   28.3s\n",
      "[Parallel(n_jobs=-1)]: Done  35 tasks      | elapsed:   30.3s\n",
      "[Parallel(n_jobs=-1)]: Done  36 tasks      | elapsed:   31.3s\n",
      "[Parallel(n_jobs=-1)]: Done  37 tasks      | elapsed:   33.4s\n",
      "[Parallel(n_jobs=-1)]: Done  38 tasks      | elapsed:   34.3s\n",
      "[Parallel(n_jobs=-1)]: Done  39 tasks      | elapsed:   36.4s\n",
      "[Parallel(n_jobs=-1)]: Done  40 tasks      | elapsed:   36.8s\n",
      "[Parallel(n_jobs=-1)]: Done  41 tasks      | elapsed:   37.2s\n",
      "[Parallel(n_jobs=-1)]: Done  42 tasks      | elapsed:   37.4s\n",
      "[Parallel(n_jobs=-1)]: Done  43 tasks      | elapsed:   37.6s\n",
      "[Parallel(n_jobs=-1)]: Done  44 tasks      | elapsed:   37.7s\n",
      "[Parallel(n_jobs=-1)]: Done  45 tasks      | elapsed:   38.0s\n",
      "[Parallel(n_jobs=-1)]: Done  46 tasks      | elapsed:   38.9s\n",
      "[Parallel(n_jobs=-1)]: Done  47 tasks      | elapsed:   39.1s\n",
      "[Parallel(n_jobs=-1)]: Done  48 out of  50 | elapsed:   40.0s remaining:    1.7s\n",
      "[Parallel(n_jobs=-1)]: Done  50 out of  50 | elapsed:   40.9s remaining:    0.0s\n",
      "[Parallel(n_jobs=-1)]: Done  50 out of  50 | elapsed:   40.9s finished\n"
     ]
    },
    {
     "data": {
      "text/plain": [
       "RandomizedSearchCV(cv=5, error_score=nan,\n",
       "                   estimator=LGBMRegressor(boosting_type='gbdt',\n",
       "                                           class_weight=None,\n",
       "                                           colsample_bytree=1.0,\n",
       "                                           importance_type='split',\n",
       "                                           learning_rate=0.1, max_depth=-1,\n",
       "                                           min_child_samples=20,\n",
       "                                           min_child_weight=0.001,\n",
       "                                           min_split_gain=0.0, n_estimators=100,\n",
       "                                           n_jobs=-1, num_leaves=31,\n",
       "                                           objective=None, random_state=4,\n",
       "                                           reg_alpha=0.0, reg_lambda=0.0,\n",
       "                                           silent=True, subsample=1.0,\n",
       "                                           subsample_for_bin=200000,\n",
       "                                           subsample_freq=0),\n",
       "                   iid='deprecated', n_iter=10, n_jobs=-1,\n",
       "                   param_distributions={'max_depth': range(1, 100),\n",
       "                                        'n_estimators': range(10, 150),\n",
       "                                        'num_leaves': range(1, 50)},\n",
       "                   pre_dispatch='2*n_jobs', random_state=4, refit=True,\n",
       "                   return_train_score=False, scoring='neg_mean_squared_error',\n",
       "                   verbose=1000)"
      ]
     },
     "execution_count": 50,
     "metadata": {
      "tags": []
     },
     "output_type": "execute_result"
    }
   ],
   "source": [
    "model = LGBMRegressor(random_state = 4)\n",
    "grid = {'num_leaves': range(1,50),\n",
    "        'n_estimators': range(10,150),\n",
    "        'max_depth': range(1,100)}\n",
    "random_search = RandomizedSearchCV(model, param_distributions = grid, n_iter = 10, random_state = 4\n",
    "                                   , scoring = 'neg_mean_squared_error', n_jobs = - 1, cv = 5, verbose = 1000)\n",
    "random_search.fit(features_train3, target_train2)"
   ]
  },
  {
   "cell_type": "code",
   "execution_count": null,
   "metadata": {
    "colab": {
     "base_uri": "https://localhost:8080/"
    },
    "id": "4Xnut_-3gxBH",
    "outputId": "d2c00676-f323-4091-ffcd-cdadeecb63d6"
   },
   "outputs": [
    {
     "data": {
      "text/plain": [
       "{'max_depth': 67, 'n_estimators': 126, 'num_leaves': 49}"
      ]
     },
     "execution_count": 51,
     "metadata": {
      "tags": []
     },
     "output_type": "execute_result"
    }
   ],
   "source": [
    "random_search.best_params_"
   ]
  },
  {
   "cell_type": "code",
   "execution_count": null,
   "metadata": {
    "colab": {
     "base_uri": "https://localhost:8080/"
    },
    "id": "5KTtADpIgxKP",
    "outputId": "625e3f31-0a1b-4ea2-8129-0ba4df39c6b8"
   },
   "outputs": [
    {
     "data": {
      "text/plain": [
       "3508.3249043741725"
      ]
     },
     "execution_count": 52,
     "metadata": {
      "tags": []
     },
     "output_type": "execute_result"
    }
   ],
   "source": [
    "(abs(random_search.best_score_))**0.5"
   ]
  },
  {
   "cell_type": "code",
   "execution_count": null,
   "metadata": {
    "id": "2gfqGIBKfH-B"
   },
   "outputs": [],
   "source": [
    "model = LGBMRegressor(random_state = 4, num_leaves = 49, n_estimators = 126, max_depth = 67)"
   ]
  },
  {
   "cell_type": "code",
   "execution_count": null,
   "metadata": {
    "id": "TmgAZEOpfH-B"
   },
   "outputs": [],
   "source": [
    "time1 = time.time()\n",
    "model.fit(features_train3, target_train2)\n",
    "time2 = time.time()\n",
    "LGBfit = time2 - time1"
   ]
  },
  {
   "cell_type": "code",
   "execution_count": null,
   "metadata": {
    "id": "qWxyy_vpfH-C"
   },
   "outputs": [],
   "source": [
    "time1 = time.time()\n",
    "predictions = model.predict(features_test3)\n",
    "time2 = time.time()\n",
    "LGBpred = time2 - time1"
   ]
  },
  {
   "cell_type": "code",
   "execution_count": null,
   "metadata": {
    "id": "E6HFfqwbfH-C"
   },
   "outputs": [],
   "source": [
    "LGBscore = (mean_squared_error(target_test2, predictions))**0.5"
   ]
  },
  {
   "cell_type": "code",
   "execution_count": null,
   "metadata": {
    "colab": {
     "base_uri": "https://localhost:8080/"
    },
    "id": "2sPWIMdTfH-C",
    "outputId": "f7b9b211-72e3-44eb-fe58-9dbc3e56d6ba"
   },
   "outputs": [
    {
     "data": {
      "text/plain": [
       "3522.4645747252803"
      ]
     },
     "execution_count": 57,
     "metadata": {
      "tags": []
     },
     "output_type": "execute_result"
    }
   ],
   "source": [
    "LGBscore"
   ]
  },
  {
   "cell_type": "code",
   "execution_count": null,
   "metadata": {
    "colab": {
     "base_uri": "https://localhost:8080/"
    },
    "id": "2dhuIgNYfH-C",
    "outputId": "7f7d776a-cbfc-4eed-ae35-498de082b3cc"
   },
   "outputs": [
    {
     "data": {
      "text/plain": [
       "1.787524700164795"
      ]
     },
     "execution_count": 58,
     "metadata": {
      "tags": []
     },
     "output_type": "execute_result"
    }
   ],
   "source": [
    "LGBfit"
   ]
  },
  {
   "cell_type": "code",
   "execution_count": null,
   "metadata": {
    "colab": {
     "base_uri": "https://localhost:8080/"
    },
    "id": "-j1ZfJNJfH-D",
    "outputId": "b7f6340b-0b8e-4e7e-ff0f-412e38568fd6"
   },
   "outputs": [
    {
     "data": {
      "text/plain": [
       "0.5348153114318848"
      ]
     },
     "execution_count": 59,
     "metadata": {
      "tags": []
     },
     "output_type": "execute_result"
    }
   ],
   "source": [
    "LGBpred"
   ]
  },
  {
   "cell_type": "code",
   "execution_count": null,
   "metadata": {
    "id": "YahON7zTg4iQ"
   },
   "outputs": [],
   "source": [
    "model = CatBoostRegressor(random_state = 4, cat_features = cat_features)\n",
    "time1 = time.time()\n",
    "CBscore_ = cross_val_score(model, features_train2, target_train2, cv = 5, scoring = 'neg_mean_squared_error', n_jobs = - 1)\n",
    "time2 = time.time()\n",
    "CBtime = time2 - time1"
   ]
  },
  {
   "cell_type": "code",
   "execution_count": null,
   "metadata": {
    "id": "HID0LVemfH-D"
   },
   "outputs": [],
   "source": [
    "model = CatBoostRegressor(random_state = 4, cat_features = cat_features)"
   ]
  },
  {
   "cell_type": "code",
   "execution_count": null,
   "metadata": {
    "colab": {
     "base_uri": "https://localhost:8080/"
    },
    "id": "9bb71axsfH-E",
    "outputId": "495d6b49-e75e-45df-e570-2052ca706fbc",
    "scrolled": true
   },
   "outputs": [
    {
     "name": "stdout",
     "output_type": "stream",
     "text": [
      "Learning rate set to 0.098857\n",
      "0:\tlearn: 4383.2174565\ttotal: 266ms\tremaining: 4m 26s\n",
      "1:\tlearn: 4118.3210127\ttotal: 451ms\tremaining: 3m 45s\n",
      "2:\tlearn: 3883.6076287\ttotal: 656ms\tremaining: 3m 37s\n",
      "3:\tlearn: 3670.5226787\ttotal: 864ms\tremaining: 3m 35s\n",
      "4:\tlearn: 3485.5715743\ttotal: 1.04s\tremaining: 3m 27s\n",
      "5:\tlearn: 3310.4335060\ttotal: 1.21s\tremaining: 3m 20s\n",
      "6:\tlearn: 3158.8023832\ttotal: 1.38s\tremaining: 3m 16s\n",
      "7:\tlearn: 3029.7965274\ttotal: 1.55s\tremaining: 3m 12s\n",
      "8:\tlearn: 2909.5482384\ttotal: 1.73s\tremaining: 3m 10s\n",
      "9:\tlearn: 2802.6166084\ttotal: 1.87s\tremaining: 3m 4s\n",
      "10:\tlearn: 2705.4938941\ttotal: 2.05s\tremaining: 3m 4s\n",
      "11:\tlearn: 2622.9407726\ttotal: 2.26s\tremaining: 3m 6s\n",
      "12:\tlearn: 2551.3106584\ttotal: 2.4s\tremaining: 3m 2s\n",
      "13:\tlearn: 2483.4170433\ttotal: 2.58s\tremaining: 3m 1s\n",
      "14:\tlearn: 2423.8732779\ttotal: 2.73s\tremaining: 2m 59s\n",
      "15:\tlearn: 2363.5961688\ttotal: 2.89s\tremaining: 2m 57s\n",
      "16:\tlearn: 2318.9437148\ttotal: 3.05s\tremaining: 2m 56s\n",
      "17:\tlearn: 2270.5261846\ttotal: 3.21s\tremaining: 2m 54s\n",
      "18:\tlearn: 2228.2145736\ttotal: 3.33s\tremaining: 2m 52s\n",
      "19:\tlearn: 2194.2548636\ttotal: 3.52s\tremaining: 2m 52s\n",
      "20:\tlearn: 2163.2404431\ttotal: 3.67s\tremaining: 2m 51s\n",
      "21:\tlearn: 2136.1798567\ttotal: 3.83s\tremaining: 2m 50s\n",
      "22:\tlearn: 2110.5364651\ttotal: 3.99s\tremaining: 2m 49s\n",
      "23:\tlearn: 2089.0275634\ttotal: 4.16s\tremaining: 2m 49s\n",
      "24:\tlearn: 2066.9495173\ttotal: 4.3s\tremaining: 2m 47s\n",
      "25:\tlearn: 2048.6014265\ttotal: 4.43s\tremaining: 2m 46s\n",
      "26:\tlearn: 2030.9332328\ttotal: 4.58s\tremaining: 2m 44s\n",
      "27:\tlearn: 2015.3667757\ttotal: 4.71s\tremaining: 2m 43s\n",
      "28:\tlearn: 2002.3699677\ttotal: 4.86s\tremaining: 2m 42s\n",
      "29:\tlearn: 1989.5094178\ttotal: 5.01s\tremaining: 2m 42s\n",
      "30:\tlearn: 1978.0797250\ttotal: 5.17s\tremaining: 2m 41s\n",
      "31:\tlearn: 1964.9415955\ttotal: 5.29s\tremaining: 2m 40s\n",
      "32:\tlearn: 1953.0810940\ttotal: 5.4s\tremaining: 2m 38s\n",
      "33:\tlearn: 1943.9481069\ttotal: 5.49s\tremaining: 2m 36s\n",
      "34:\tlearn: 1934.8697654\ttotal: 5.61s\tremaining: 2m 34s\n",
      "35:\tlearn: 1927.7971825\ttotal: 5.76s\tremaining: 2m 34s\n",
      "36:\tlearn: 1920.5971315\ttotal: 5.92s\tremaining: 2m 34s\n",
      "37:\tlearn: 1914.8261120\ttotal: 6.05s\tremaining: 2m 33s\n",
      "38:\tlearn: 1906.8768044\ttotal: 6.18s\tremaining: 2m 32s\n",
      "39:\tlearn: 1901.0283051\ttotal: 6.35s\tremaining: 2m 32s\n",
      "40:\tlearn: 1896.0992321\ttotal: 6.48s\tremaining: 2m 31s\n",
      "41:\tlearn: 1891.8477514\ttotal: 6.63s\tremaining: 2m 31s\n",
      "42:\tlearn: 1885.8639949\ttotal: 6.77s\tremaining: 2m 30s\n",
      "43:\tlearn: 1880.6458666\ttotal: 6.89s\tremaining: 2m 29s\n",
      "44:\tlearn: 1874.6887891\ttotal: 7.04s\tremaining: 2m 29s\n",
      "45:\tlearn: 1870.5540827\ttotal: 7.15s\tremaining: 2m 28s\n",
      "46:\tlearn: 1864.4098539\ttotal: 7.27s\tremaining: 2m 27s\n",
      "47:\tlearn: 1861.1040128\ttotal: 7.41s\tremaining: 2m 26s\n",
      "48:\tlearn: 1856.5916869\ttotal: 7.58s\tremaining: 2m 27s\n",
      "49:\tlearn: 1852.8722959\ttotal: 7.71s\tremaining: 2m 26s\n",
      "50:\tlearn: 1848.4750015\ttotal: 7.88s\tremaining: 2m 26s\n",
      "51:\tlearn: 1844.5550366\ttotal: 7.99s\tremaining: 2m 25s\n",
      "52:\tlearn: 1842.1807501\ttotal: 8.14s\tremaining: 2m 25s\n",
      "53:\tlearn: 1839.4726739\ttotal: 8.3s\tremaining: 2m 25s\n",
      "54:\tlearn: 1836.4511373\ttotal: 8.46s\tremaining: 2m 25s\n",
      "55:\tlearn: 1834.4130073\ttotal: 8.59s\tremaining: 2m 24s\n",
      "56:\tlearn: 1831.1257830\ttotal: 8.75s\tremaining: 2m 24s\n",
      "57:\tlearn: 1828.1391018\ttotal: 8.89s\tremaining: 2m 24s\n",
      "58:\tlearn: 1826.5346538\ttotal: 9.05s\tremaining: 2m 24s\n",
      "59:\tlearn: 1822.9184062\ttotal: 9.2s\tremaining: 2m 24s\n",
      "60:\tlearn: 1820.5134999\ttotal: 9.34s\tremaining: 2m 23s\n",
      "61:\tlearn: 1817.9139785\ttotal: 9.49s\tremaining: 2m 23s\n",
      "62:\tlearn: 1815.6430684\ttotal: 9.6s\tremaining: 2m 22s\n",
      "63:\tlearn: 1813.3570059\ttotal: 9.74s\tremaining: 2m 22s\n",
      "64:\tlearn: 1810.1890860\ttotal: 9.86s\tremaining: 2m 21s\n",
      "65:\tlearn: 1807.2732944\ttotal: 10.1s\tremaining: 2m 22s\n",
      "66:\tlearn: 1804.8916676\ttotal: 10.2s\tremaining: 2m 22s\n",
      "67:\tlearn: 1802.5097541\ttotal: 10.3s\tremaining: 2m 21s\n",
      "68:\tlearn: 1800.2473973\ttotal: 10.5s\tremaining: 2m 21s\n",
      "69:\tlearn: 1798.8690304\ttotal: 10.7s\tremaining: 2m 21s\n",
      "70:\tlearn: 1797.4181065\ttotal: 10.8s\tremaining: 2m 21s\n",
      "71:\tlearn: 1795.2509113\ttotal: 11s\tremaining: 2m 21s\n",
      "72:\tlearn: 1793.2273852\ttotal: 11.1s\tremaining: 2m 20s\n",
      "73:\tlearn: 1791.0946442\ttotal: 11.2s\tremaining: 2m 20s\n",
      "74:\tlearn: 1789.6216535\ttotal: 11.4s\tremaining: 2m 20s\n",
      "75:\tlearn: 1787.8679673\ttotal: 11.5s\tremaining: 2m 19s\n",
      "76:\tlearn: 1786.2247526\ttotal: 11.7s\tremaining: 2m 19s\n",
      "77:\tlearn: 1783.8112956\ttotal: 11.8s\tremaining: 2m 19s\n",
      "78:\tlearn: 1782.0556617\ttotal: 12s\tremaining: 2m 19s\n",
      "79:\tlearn: 1779.6157242\ttotal: 12.1s\tremaining: 2m 19s\n",
      "80:\tlearn: 1778.4613545\ttotal: 12.2s\tremaining: 2m 18s\n",
      "81:\tlearn: 1776.8472793\ttotal: 12.4s\tremaining: 2m 18s\n",
      "82:\tlearn: 1775.3221438\ttotal: 12.5s\tremaining: 2m 18s\n",
      "83:\tlearn: 1773.9439776\ttotal: 12.7s\tremaining: 2m 17s\n",
      "84:\tlearn: 1772.1213418\ttotal: 12.8s\tremaining: 2m 17s\n",
      "85:\tlearn: 1769.8330521\ttotal: 12.9s\tremaining: 2m 17s\n",
      "86:\tlearn: 1768.5934618\ttotal: 13.1s\tremaining: 2m 16s\n",
      "87:\tlearn: 1766.4020470\ttotal: 13.2s\tremaining: 2m 16s\n",
      "88:\tlearn: 1765.1900344\ttotal: 13.3s\tremaining: 2m 16s\n",
      "89:\tlearn: 1764.2263707\ttotal: 13.5s\tremaining: 2m 16s\n",
      "90:\tlearn: 1762.7108507\ttotal: 13.6s\tremaining: 2m 16s\n",
      "91:\tlearn: 1761.0243475\ttotal: 13.8s\tremaining: 2m 16s\n",
      "92:\tlearn: 1759.6431938\ttotal: 13.9s\tremaining: 2m 15s\n",
      "93:\tlearn: 1757.7720439\ttotal: 14.1s\tremaining: 2m 15s\n",
      "94:\tlearn: 1756.6754052\ttotal: 14.2s\tremaining: 2m 15s\n",
      "95:\tlearn: 1755.1038370\ttotal: 14.4s\tremaining: 2m 15s\n",
      "96:\tlearn: 1754.1846278\ttotal: 14.5s\tremaining: 2m 15s\n",
      "97:\tlearn: 1752.7042232\ttotal: 14.7s\tremaining: 2m 14s\n",
      "98:\tlearn: 1751.4284817\ttotal: 14.8s\tremaining: 2m 14s\n",
      "99:\tlearn: 1750.5190929\ttotal: 15s\tremaining: 2m 14s\n",
      "100:\tlearn: 1749.3761279\ttotal: 15.1s\tremaining: 2m 14s\n",
      "101:\tlearn: 1748.3176787\ttotal: 15.3s\tremaining: 2m 14s\n",
      "102:\tlearn: 1746.7125405\ttotal: 15.4s\tremaining: 2m 14s\n",
      "103:\tlearn: 1744.4622283\ttotal: 15.5s\tremaining: 2m 13s\n",
      "104:\tlearn: 1743.6124039\ttotal: 15.7s\tremaining: 2m 13s\n",
      "105:\tlearn: 1742.1381651\ttotal: 15.8s\tremaining: 2m 13s\n",
      "106:\tlearn: 1741.4058518\ttotal: 16s\tremaining: 2m 13s\n",
      "107:\tlearn: 1740.5833437\ttotal: 16.1s\tremaining: 2m 12s\n",
      "108:\tlearn: 1739.3461389\ttotal: 16.2s\tremaining: 2m 12s\n",
      "109:\tlearn: 1738.0373606\ttotal: 16.4s\tremaining: 2m 12s\n",
      "110:\tlearn: 1737.0945327\ttotal: 16.5s\tremaining: 2m 12s\n",
      "111:\tlearn: 1734.9403773\ttotal: 16.7s\tremaining: 2m 12s\n",
      "112:\tlearn: 1733.8470700\ttotal: 16.8s\tremaining: 2m 12s\n",
      "113:\tlearn: 1732.5023730\ttotal: 17s\tremaining: 2m 11s\n",
      "114:\tlearn: 1731.8498958\ttotal: 17.1s\tremaining: 2m 11s\n",
      "115:\tlearn: 1730.6140662\ttotal: 17.3s\tremaining: 2m 11s\n",
      "116:\tlearn: 1729.2499355\ttotal: 17.4s\tremaining: 2m 11s\n",
      "117:\tlearn: 1728.0509223\ttotal: 17.5s\tremaining: 2m 10s\n",
      "118:\tlearn: 1727.5054164\ttotal: 17.7s\tremaining: 2m 10s\n",
      "119:\tlearn: 1726.2034594\ttotal: 17.8s\tremaining: 2m 10s\n",
      "120:\tlearn: 1725.3366408\ttotal: 18s\tremaining: 2m 10s\n",
      "121:\tlearn: 1724.3981790\ttotal: 18.1s\tremaining: 2m 10s\n",
      "122:\tlearn: 1722.9956050\ttotal: 18.3s\tremaining: 2m 10s\n",
      "123:\tlearn: 1722.6499011\ttotal: 18.4s\tremaining: 2m 10s\n",
      "124:\tlearn: 1721.8941859\ttotal: 18.6s\tremaining: 2m 9s\n",
      "125:\tlearn: 1720.5909820\ttotal: 18.7s\tremaining: 2m 9s\n",
      "126:\tlearn: 1720.0340973\ttotal: 18.8s\tremaining: 2m 9s\n",
      "127:\tlearn: 1718.5920291\ttotal: 19s\tremaining: 2m 9s\n",
      "128:\tlearn: 1717.7679978\ttotal: 19.2s\tremaining: 2m 9s\n",
      "129:\tlearn: 1717.0795265\ttotal: 19.3s\tremaining: 2m 9s\n",
      "130:\tlearn: 1715.5432322\ttotal: 19.4s\tremaining: 2m 8s\n",
      "131:\tlearn: 1714.8521238\ttotal: 19.5s\tremaining: 2m 8s\n",
      "132:\tlearn: 1713.8623785\ttotal: 19.7s\tremaining: 2m 8s\n",
      "133:\tlearn: 1713.2651726\ttotal: 19.7s\tremaining: 2m 7s\n",
      "134:\tlearn: 1712.4417514\ttotal: 19.9s\tremaining: 2m 7s\n",
      "135:\tlearn: 1711.2745815\ttotal: 20.1s\tremaining: 2m 7s\n",
      "136:\tlearn: 1710.1591933\ttotal: 20.2s\tremaining: 2m 7s\n",
      "137:\tlearn: 1708.7585295\ttotal: 20.3s\tremaining: 2m 7s\n",
      "138:\tlearn: 1707.4192843\ttotal: 20.5s\tremaining: 2m 6s\n",
      "139:\tlearn: 1706.3950090\ttotal: 20.6s\tremaining: 2m 6s\n",
      "140:\tlearn: 1705.0697431\ttotal: 20.7s\tremaining: 2m 6s\n",
      "141:\tlearn: 1704.1239747\ttotal: 20.9s\tremaining: 2m 6s\n",
      "142:\tlearn: 1702.9373574\ttotal: 21s\tremaining: 2m 6s\n",
      "143:\tlearn: 1701.8856735\ttotal: 21.2s\tremaining: 2m 6s\n",
      "144:\tlearn: 1700.9580212\ttotal: 21.3s\tremaining: 2m 5s\n",
      "145:\tlearn: 1700.4701013\ttotal: 21.5s\tremaining: 2m 5s\n",
      "146:\tlearn: 1699.4952201\ttotal: 21.6s\tremaining: 2m 5s\n",
      "147:\tlearn: 1698.2450065\ttotal: 21.7s\tremaining: 2m 5s\n",
      "148:\tlearn: 1697.4897822\ttotal: 21.8s\tremaining: 2m 4s\n",
      "149:\tlearn: 1696.3360023\ttotal: 22s\tremaining: 2m 4s\n",
      "150:\tlearn: 1695.6373537\ttotal: 22.1s\tremaining: 2m 4s\n",
      "151:\tlearn: 1695.0993820\ttotal: 22.2s\tremaining: 2m 4s\n",
      "152:\tlearn: 1694.6770081\ttotal: 22.4s\tremaining: 2m 4s\n",
      "153:\tlearn: 1693.9557358\ttotal: 22.6s\tremaining: 2m 3s\n",
      "154:\tlearn: 1693.1366308\ttotal: 22.7s\tremaining: 2m 3s\n",
      "155:\tlearn: 1692.2866766\ttotal: 22.8s\tremaining: 2m 3s\n",
      "156:\tlearn: 1691.8516516\ttotal: 23s\tremaining: 2m 3s\n",
      "157:\tlearn: 1691.3328553\ttotal: 23.1s\tremaining: 2m 3s\n",
      "158:\tlearn: 1690.5532538\ttotal: 23.3s\tremaining: 2m 3s\n",
      "159:\tlearn: 1690.0553210\ttotal: 23.4s\tremaining: 2m 3s\n",
      "160:\tlearn: 1689.7295830\ttotal: 23.6s\tremaining: 2m 2s\n",
      "161:\tlearn: 1688.5469898\ttotal: 23.7s\tremaining: 2m 2s\n",
      "162:\tlearn: 1687.7355669\ttotal: 23.9s\tremaining: 2m 2s\n",
      "163:\tlearn: 1687.0388930\ttotal: 24s\tremaining: 2m 2s\n",
      "164:\tlearn: 1686.4816552\ttotal: 24.2s\tremaining: 2m 2s\n",
      "165:\tlearn: 1685.6094983\ttotal: 24.4s\tremaining: 2m 2s\n",
      "166:\tlearn: 1685.2649284\ttotal: 24.5s\tremaining: 2m 2s\n",
      "167:\tlearn: 1684.9074816\ttotal: 24.7s\tremaining: 2m 2s\n",
      "168:\tlearn: 1683.8396009\ttotal: 24.8s\tremaining: 2m 2s\n",
      "169:\tlearn: 1682.8585480\ttotal: 25s\tremaining: 2m 1s\n",
      "170:\tlearn: 1681.9301932\ttotal: 25.1s\tremaining: 2m 1s\n",
      "171:\tlearn: 1681.0564184\ttotal: 25.3s\tremaining: 2m 1s\n",
      "172:\tlearn: 1680.4608283\ttotal: 25.4s\tremaining: 2m 1s\n",
      "173:\tlearn: 1679.8337833\ttotal: 25.6s\tremaining: 2m 1s\n",
      "174:\tlearn: 1679.1769018\ttotal: 25.8s\tremaining: 2m 1s\n",
      "175:\tlearn: 1678.4797500\ttotal: 25.9s\tremaining: 2m 1s\n",
      "176:\tlearn: 1678.0266728\ttotal: 26.1s\tremaining: 2m 1s\n",
      "177:\tlearn: 1677.4662351\ttotal: 26.2s\tremaining: 2m 1s\n",
      "178:\tlearn: 1677.0231970\ttotal: 26.4s\tremaining: 2m\n",
      "179:\tlearn: 1676.7154925\ttotal: 26.5s\tremaining: 2m\n",
      "180:\tlearn: 1675.9814641\ttotal: 26.6s\tremaining: 2m\n",
      "181:\tlearn: 1675.4121587\ttotal: 26.8s\tremaining: 2m\n",
      "182:\tlearn: 1674.7502960\ttotal: 27s\tremaining: 2m\n",
      "183:\tlearn: 1673.9004478\ttotal: 27.1s\tremaining: 2m\n",
      "184:\tlearn: 1673.4928580\ttotal: 27.3s\tremaining: 2m\n",
      "185:\tlearn: 1672.7941842\ttotal: 27.4s\tremaining: 2m\n",
      "186:\tlearn: 1672.1766276\ttotal: 27.6s\tremaining: 1m 59s\n",
      "187:\tlearn: 1671.5957615\ttotal: 27.7s\tremaining: 1m 59s\n",
      "188:\tlearn: 1671.0998150\ttotal: 27.8s\tremaining: 1m 59s\n",
      "189:\tlearn: 1670.2336006\ttotal: 28s\tremaining: 1m 59s\n",
      "190:\tlearn: 1669.7467982\ttotal: 28.1s\tremaining: 1m 59s\n",
      "191:\tlearn: 1669.0659139\ttotal: 28.3s\tremaining: 1m 59s\n",
      "192:\tlearn: 1668.9244186\ttotal: 28.4s\tremaining: 1m 58s\n",
      "193:\tlearn: 1668.4464174\ttotal: 28.6s\tremaining: 1m 58s\n",
      "194:\tlearn: 1667.8522612\ttotal: 28.7s\tremaining: 1m 58s\n",
      "195:\tlearn: 1667.7899513\ttotal: 28.9s\tremaining: 1m 58s\n",
      "196:\tlearn: 1667.3684716\ttotal: 29s\tremaining: 1m 58s\n",
      "197:\tlearn: 1666.6980890\ttotal: 29.2s\tremaining: 1m 58s\n",
      "198:\tlearn: 1665.9123615\ttotal: 29.3s\tremaining: 1m 58s\n",
      "199:\tlearn: 1665.5299320\ttotal: 29.4s\tremaining: 1m 57s\n",
      "200:\tlearn: 1664.9351624\ttotal: 29.6s\tremaining: 1m 57s\n",
      "201:\tlearn: 1664.1044467\ttotal: 29.7s\tremaining: 1m 57s\n",
      "202:\tlearn: 1664.0824786\ttotal: 29.8s\tremaining: 1m 57s\n",
      "203:\tlearn: 1663.7766939\ttotal: 30s\tremaining: 1m 57s\n",
      "204:\tlearn: 1663.1536052\ttotal: 30.2s\tremaining: 1m 56s\n",
      "205:\tlearn: 1662.5880913\ttotal: 30.3s\tremaining: 1m 56s\n",
      "206:\tlearn: 1662.1663653\ttotal: 30.4s\tremaining: 1m 56s\n",
      "207:\tlearn: 1661.4551224\ttotal: 30.6s\tremaining: 1m 56s\n",
      "208:\tlearn: 1660.9565959\ttotal: 30.7s\tremaining: 1m 56s\n",
      "209:\tlearn: 1660.6459568\ttotal: 30.8s\tremaining: 1m 56s\n",
      "210:\tlearn: 1660.0601417\ttotal: 31s\tremaining: 1m 55s\n",
      "211:\tlearn: 1659.1673563\ttotal: 31.1s\tremaining: 1m 55s\n",
      "212:\tlearn: 1659.0246673\ttotal: 31.3s\tremaining: 1m 55s\n",
      "213:\tlearn: 1658.6700473\ttotal: 31.4s\tremaining: 1m 55s\n",
      "214:\tlearn: 1658.6223601\ttotal: 31.5s\tremaining: 1m 55s\n",
      "215:\tlearn: 1658.5390011\ttotal: 31.7s\tremaining: 1m 54s\n",
      "216:\tlearn: 1658.0384841\ttotal: 31.8s\tremaining: 1m 54s\n",
      "217:\tlearn: 1657.0759334\ttotal: 32s\tremaining: 1m 54s\n",
      "218:\tlearn: 1656.3990562\ttotal: 32.1s\tremaining: 1m 54s\n",
      "219:\tlearn: 1655.6731924\ttotal: 32.2s\tremaining: 1m 54s\n",
      "220:\tlearn: 1655.1498644\ttotal: 32.4s\tremaining: 1m 54s\n",
      "221:\tlearn: 1654.5902178\ttotal: 32.5s\tremaining: 1m 53s\n",
      "222:\tlearn: 1654.4083778\ttotal: 32.6s\tremaining: 1m 53s\n",
      "223:\tlearn: 1653.8248801\ttotal: 32.7s\tremaining: 1m 53s\n",
      "224:\tlearn: 1653.2527812\ttotal: 32.9s\tremaining: 1m 53s\n",
      "225:\tlearn: 1652.7622044\ttotal: 33s\tremaining: 1m 52s\n",
      "226:\tlearn: 1652.3370043\ttotal: 33.1s\tremaining: 1m 52s\n",
      "227:\tlearn: 1651.9076918\ttotal: 33.2s\tremaining: 1m 52s\n",
      "228:\tlearn: 1651.3212862\ttotal: 33.4s\tremaining: 1m 52s\n",
      "229:\tlearn: 1650.5861413\ttotal: 33.6s\tremaining: 1m 52s\n",
      "230:\tlearn: 1650.1669904\ttotal: 33.7s\tremaining: 1m 52s\n",
      "231:\tlearn: 1649.8044911\ttotal: 33.8s\tremaining: 1m 52s\n",
      "232:\tlearn: 1649.4845240\ttotal: 34s\tremaining: 1m 52s\n",
      "233:\tlearn: 1649.3397485\ttotal: 34.2s\tremaining: 1m 52s\n",
      "234:\tlearn: 1648.9481972\ttotal: 34.3s\tremaining: 1m 51s\n",
      "235:\tlearn: 1648.1870688\ttotal: 34.5s\tremaining: 1m 51s\n",
      "236:\tlearn: 1647.8337261\ttotal: 34.7s\tremaining: 1m 51s\n",
      "237:\tlearn: 1647.4173988\ttotal: 34.8s\tremaining: 1m 51s\n",
      "238:\tlearn: 1647.1055359\ttotal: 34.9s\tremaining: 1m 51s\n",
      "239:\tlearn: 1646.8365265\ttotal: 35.1s\tremaining: 1m 51s\n",
      "240:\tlearn: 1646.3938852\ttotal: 35.2s\tremaining: 1m 50s\n",
      "241:\tlearn: 1646.1157639\ttotal: 35.3s\tremaining: 1m 50s\n",
      "242:\tlearn: 1645.2902069\ttotal: 35.5s\tremaining: 1m 50s\n",
      "243:\tlearn: 1645.0630314\ttotal: 35.6s\tremaining: 1m 50s\n",
      "244:\tlearn: 1644.5977645\ttotal: 35.8s\tremaining: 1m 50s\n",
      "245:\tlearn: 1644.1608302\ttotal: 35.9s\tremaining: 1m 50s\n",
      "246:\tlearn: 1643.7862496\ttotal: 36.1s\tremaining: 1m 49s\n",
      "247:\tlearn: 1643.1674127\ttotal: 36.2s\tremaining: 1m 49s\n",
      "248:\tlearn: 1642.7242148\ttotal: 36.4s\tremaining: 1m 49s\n",
      "249:\tlearn: 1642.1612484\ttotal: 36.5s\tremaining: 1m 49s\n",
      "250:\tlearn: 1641.7308855\ttotal: 36.7s\tremaining: 1m 49s\n",
      "251:\tlearn: 1641.1706495\ttotal: 36.8s\tremaining: 1m 49s\n",
      "252:\tlearn: 1640.5819316\ttotal: 36.9s\tremaining: 1m 48s\n",
      "253:\tlearn: 1640.1138037\ttotal: 37s\tremaining: 1m 48s\n",
      "254:\tlearn: 1639.4130427\ttotal: 37.2s\tremaining: 1m 48s\n",
      "255:\tlearn: 1639.2445572\ttotal: 37.3s\tremaining: 1m 48s\n",
      "256:\tlearn: 1638.9209961\ttotal: 37.5s\tremaining: 1m 48s\n",
      "257:\tlearn: 1638.5711741\ttotal: 37.6s\tremaining: 1m 48s\n",
      "258:\tlearn: 1638.0994833\ttotal: 37.8s\tremaining: 1m 48s\n",
      "259:\tlearn: 1637.6298726\ttotal: 37.9s\tremaining: 1m 47s\n",
      "260:\tlearn: 1637.0376891\ttotal: 38.1s\tremaining: 1m 47s\n",
      "261:\tlearn: 1636.4325773\ttotal: 38.2s\tremaining: 1m 47s\n",
      "262:\tlearn: 1635.9257379\ttotal: 38.4s\tremaining: 1m 47s\n",
      "263:\tlearn: 1635.2617603\ttotal: 38.5s\tremaining: 1m 47s\n",
      "264:\tlearn: 1634.8433749\ttotal: 38.6s\tremaining: 1m 47s\n",
      "265:\tlearn: 1634.3466445\ttotal: 38.8s\tremaining: 1m 46s\n",
      "266:\tlearn: 1634.0976386\ttotal: 38.9s\tremaining: 1m 46s\n",
      "267:\tlearn: 1633.6810190\ttotal: 39s\tremaining: 1m 46s\n",
      "268:\tlearn: 1633.2644541\ttotal: 39.2s\tremaining: 1m 46s\n",
      "269:\tlearn: 1632.8558001\ttotal: 39.3s\tremaining: 1m 46s\n",
      "270:\tlearn: 1632.6094047\ttotal: 39.5s\tremaining: 1m 46s\n",
      "271:\tlearn: 1632.3851975\ttotal: 39.6s\tremaining: 1m 46s\n",
      "272:\tlearn: 1632.2098625\ttotal: 39.8s\tremaining: 1m 45s\n",
      "273:\tlearn: 1632.1027897\ttotal: 39.9s\tremaining: 1m 45s\n",
      "274:\tlearn: 1631.5023318\ttotal: 40s\tremaining: 1m 45s\n",
      "275:\tlearn: 1631.4146077\ttotal: 40.2s\tremaining: 1m 45s\n",
      "276:\tlearn: 1631.0069069\ttotal: 40.3s\tremaining: 1m 45s\n",
      "277:\tlearn: 1630.5548945\ttotal: 40.5s\tremaining: 1m 45s\n",
      "278:\tlearn: 1630.2465230\ttotal: 40.6s\tremaining: 1m 44s\n",
      "279:\tlearn: 1629.6559617\ttotal: 40.8s\tremaining: 1m 44s\n",
      "280:\tlearn: 1628.9864100\ttotal: 40.9s\tremaining: 1m 44s\n",
      "281:\tlearn: 1628.4637979\ttotal: 41.1s\tremaining: 1m 44s\n",
      "282:\tlearn: 1628.1628365\ttotal: 41.2s\tremaining: 1m 44s\n",
      "283:\tlearn: 1627.6398762\ttotal: 41.4s\tremaining: 1m 44s\n",
      "284:\tlearn: 1627.2073423\ttotal: 41.5s\tremaining: 1m 44s\n",
      "285:\tlearn: 1626.9932530\ttotal: 41.6s\tremaining: 1m 43s\n",
      "286:\tlearn: 1626.8647759\ttotal: 41.8s\tremaining: 1m 43s\n",
      "287:\tlearn: 1626.4910053\ttotal: 41.9s\tremaining: 1m 43s\n",
      "288:\tlearn: 1626.3826523\ttotal: 42.1s\tremaining: 1m 43s\n",
      "289:\tlearn: 1626.2171000\ttotal: 42.2s\tremaining: 1m 43s\n",
      "290:\tlearn: 1626.1475938\ttotal: 42.3s\tremaining: 1m 43s\n",
      "291:\tlearn: 1626.0021815\ttotal: 42.5s\tremaining: 1m 42s\n",
      "292:\tlearn: 1625.4912025\ttotal: 42.6s\tremaining: 1m 42s\n",
      "293:\tlearn: 1625.1867986\ttotal: 42.7s\tremaining: 1m 42s\n",
      "294:\tlearn: 1624.8773545\ttotal: 42.9s\tremaining: 1m 42s\n",
      "295:\tlearn: 1624.6448198\ttotal: 43s\tremaining: 1m 42s\n",
      "296:\tlearn: 1624.1953803\ttotal: 43.2s\tremaining: 1m 42s\n",
      "297:\tlearn: 1624.0255051\ttotal: 43.3s\tremaining: 1m 42s\n",
      "298:\tlearn: 1623.7138094\ttotal: 43.5s\tremaining: 1m 41s\n",
      "299:\tlearn: 1623.3461612\ttotal: 43.6s\tremaining: 1m 41s\n",
      "300:\tlearn: 1623.1972803\ttotal: 43.8s\tremaining: 1m 41s\n",
      "301:\tlearn: 1623.1201392\ttotal: 43.9s\tremaining: 1m 41s\n",
      "302:\tlearn: 1622.9054051\ttotal: 44s\tremaining: 1m 41s\n",
      "303:\tlearn: 1622.6171588\ttotal: 44.1s\tremaining: 1m 41s\n",
      "304:\tlearn: 1622.2208245\ttotal: 44.2s\tremaining: 1m 40s\n",
      "305:\tlearn: 1622.0173220\ttotal: 44.4s\tremaining: 1m 40s\n",
      "306:\tlearn: 1621.6348466\ttotal: 44.6s\tremaining: 1m 40s\n",
      "307:\tlearn: 1621.3252950\ttotal: 44.7s\tremaining: 1m 40s\n",
      "308:\tlearn: 1621.2100363\ttotal: 44.9s\tremaining: 1m 40s\n",
      "309:\tlearn: 1620.9011329\ttotal: 45s\tremaining: 1m 40s\n",
      "310:\tlearn: 1620.3798768\ttotal: 45.1s\tremaining: 1m 39s\n",
      "311:\tlearn: 1620.0790055\ttotal: 45.3s\tremaining: 1m 39s\n",
      "312:\tlearn: 1619.8005460\ttotal: 45.4s\tremaining: 1m 39s\n",
      "313:\tlearn: 1619.6068231\ttotal: 45.5s\tremaining: 1m 39s\n",
      "314:\tlearn: 1619.2702082\ttotal: 45.7s\tremaining: 1m 39s\n",
      "315:\tlearn: 1618.8615590\ttotal: 45.8s\tremaining: 1m 39s\n",
      "316:\tlearn: 1618.4245616\ttotal: 45.9s\tremaining: 1m 38s\n",
      "317:\tlearn: 1617.9583297\ttotal: 46.1s\tremaining: 1m 38s\n",
      "318:\tlearn: 1617.5864904\ttotal: 46.2s\tremaining: 1m 38s\n",
      "319:\tlearn: 1617.1850981\ttotal: 46.3s\tremaining: 1m 38s\n",
      "320:\tlearn: 1616.9271206\ttotal: 46.5s\tremaining: 1m 38s\n",
      "321:\tlearn: 1616.7764748\ttotal: 46.6s\tremaining: 1m 38s\n",
      "322:\tlearn: 1616.6633440\ttotal: 46.7s\tremaining: 1m 37s\n",
      "323:\tlearn: 1616.4636348\ttotal: 46.8s\tremaining: 1m 37s\n",
      "324:\tlearn: 1616.0661230\ttotal: 46.9s\tremaining: 1m 37s\n",
      "325:\tlearn: 1615.8863353\ttotal: 47s\tremaining: 1m 37s\n",
      "326:\tlearn: 1615.6672405\ttotal: 47.2s\tremaining: 1m 37s\n",
      "327:\tlearn: 1615.4006337\ttotal: 47.3s\tremaining: 1m 36s\n",
      "328:\tlearn: 1615.0200260\ttotal: 47.4s\tremaining: 1m 36s\n",
      "329:\tlearn: 1614.7095860\ttotal: 47.5s\tremaining: 1m 36s\n",
      "330:\tlearn: 1614.4981070\ttotal: 47.7s\tremaining: 1m 36s\n",
      "331:\tlearn: 1614.2412325\ttotal: 47.8s\tremaining: 1m 36s\n",
      "332:\tlearn: 1613.9250370\ttotal: 48s\tremaining: 1m 36s\n",
      "333:\tlearn: 1613.5869008\ttotal: 48.2s\tremaining: 1m 36s\n",
      "334:\tlearn: 1613.1811206\ttotal: 48.3s\tremaining: 1m 35s\n",
      "335:\tlearn: 1612.9534347\ttotal: 48.4s\tremaining: 1m 35s\n",
      "336:\tlearn: 1612.8116954\ttotal: 48.5s\tremaining: 1m 35s\n",
      "337:\tlearn: 1612.5100978\ttotal: 48.7s\tremaining: 1m 35s\n",
      "338:\tlearn: 1612.0379008\ttotal: 48.8s\tremaining: 1m 35s\n",
      "339:\tlearn: 1611.8589343\ttotal: 48.9s\tremaining: 1m 35s\n",
      "340:\tlearn: 1611.7300789\ttotal: 49s\tremaining: 1m 34s\n",
      "341:\tlearn: 1611.4551167\ttotal: 49.2s\tremaining: 1m 34s\n",
      "342:\tlearn: 1610.8811880\ttotal: 49.3s\tremaining: 1m 34s\n",
      "343:\tlearn: 1610.6718456\ttotal: 49.5s\tremaining: 1m 34s\n",
      "344:\tlearn: 1610.4981359\ttotal: 49.6s\tremaining: 1m 34s\n",
      "345:\tlearn: 1610.2271359\ttotal: 49.8s\tremaining: 1m 34s\n",
      "346:\tlearn: 1610.0059691\ttotal: 49.9s\tremaining: 1m 33s\n",
      "347:\tlearn: 1609.9615134\ttotal: 50s\tremaining: 1m 33s\n",
      "348:\tlearn: 1609.4904467\ttotal: 50.2s\tremaining: 1m 33s\n",
      "349:\tlearn: 1609.3465248\ttotal: 50.4s\tremaining: 1m 33s\n",
      "350:\tlearn: 1609.1732044\ttotal: 50.5s\tremaining: 1m 33s\n",
      "351:\tlearn: 1608.6771851\ttotal: 50.7s\tremaining: 1m 33s\n",
      "352:\tlearn: 1608.4250793\ttotal: 50.8s\tremaining: 1m 33s\n",
      "353:\tlearn: 1608.1335754\ttotal: 51s\tremaining: 1m 33s\n",
      "354:\tlearn: 1607.9839963\ttotal: 51.1s\tremaining: 1m 32s\n",
      "355:\tlearn: 1607.6886449\ttotal: 51.3s\tremaining: 1m 32s\n",
      "356:\tlearn: 1607.3045489\ttotal: 51.4s\tremaining: 1m 32s\n",
      "357:\tlearn: 1607.1327817\ttotal: 51.6s\tremaining: 1m 32s\n",
      "358:\tlearn: 1606.9079774\ttotal: 51.7s\tremaining: 1m 32s\n",
      "359:\tlearn: 1606.7313599\ttotal: 51.8s\tremaining: 1m 32s\n",
      "360:\tlearn: 1606.3871126\ttotal: 52s\tremaining: 1m 32s\n",
      "361:\tlearn: 1606.1308498\ttotal: 52.1s\tremaining: 1m 31s\n",
      "362:\tlearn: 1605.8625010\ttotal: 52.2s\tremaining: 1m 31s\n",
      "363:\tlearn: 1605.4831453\ttotal: 52.4s\tremaining: 1m 31s\n",
      "364:\tlearn: 1605.2885450\ttotal: 52.5s\tremaining: 1m 31s\n",
      "365:\tlearn: 1605.1532806\ttotal: 52.7s\tremaining: 1m 31s\n",
      "366:\tlearn: 1604.8185072\ttotal: 52.8s\tremaining: 1m 31s\n",
      "367:\tlearn: 1604.5907305\ttotal: 52.9s\tremaining: 1m 30s\n",
      "368:\tlearn: 1604.3822653\ttotal: 53.1s\tremaining: 1m 30s\n",
      "369:\tlearn: 1604.3056367\ttotal: 53.2s\tremaining: 1m 30s\n",
      "370:\tlearn: 1604.1278377\ttotal: 53.3s\tremaining: 1m 30s\n",
      "371:\tlearn: 1604.0087005\ttotal: 53.5s\tremaining: 1m 30s\n",
      "372:\tlearn: 1603.6301191\ttotal: 53.6s\tremaining: 1m 30s\n",
      "373:\tlearn: 1602.8990297\ttotal: 53.7s\tremaining: 1m 29s\n",
      "374:\tlearn: 1602.3631926\ttotal: 53.9s\tremaining: 1m 29s\n",
      "375:\tlearn: 1602.2241081\ttotal: 54s\tremaining: 1m 29s\n",
      "376:\tlearn: 1601.9840306\ttotal: 54.1s\tremaining: 1m 29s\n",
      "377:\tlearn: 1601.6849455\ttotal: 54.3s\tremaining: 1m 29s\n",
      "378:\tlearn: 1601.2412250\ttotal: 54.4s\tremaining: 1m 29s\n",
      "379:\tlearn: 1600.7735066\ttotal: 54.5s\tremaining: 1m 28s\n",
      "380:\tlearn: 1600.6992126\ttotal: 54.6s\tremaining: 1m 28s\n",
      "381:\tlearn: 1600.4865642\ttotal: 54.8s\tremaining: 1m 28s\n",
      "382:\tlearn: 1600.0906650\ttotal: 54.9s\tremaining: 1m 28s\n",
      "383:\tlearn: 1599.9278574\ttotal: 55s\tremaining: 1m 28s\n",
      "384:\tlearn: 1599.7346411\ttotal: 55.2s\tremaining: 1m 28s\n",
      "385:\tlearn: 1599.3545690\ttotal: 55.3s\tremaining: 1m 28s\n",
      "386:\tlearn: 1599.1467690\ttotal: 55.5s\tremaining: 1m 27s\n",
      "387:\tlearn: 1598.8562713\ttotal: 55.6s\tremaining: 1m 27s\n",
      "388:\tlearn: 1598.6109185\ttotal: 55.8s\tremaining: 1m 27s\n",
      "389:\tlearn: 1598.4541287\ttotal: 55.9s\tremaining: 1m 27s\n",
      "390:\tlearn: 1598.2586429\ttotal: 56s\tremaining: 1m 27s\n",
      "391:\tlearn: 1598.1141217\ttotal: 56.1s\tremaining: 1m 27s\n",
      "392:\tlearn: 1598.0197957\ttotal: 56.3s\tremaining: 1m 26s\n",
      "393:\tlearn: 1597.8428996\ttotal: 56.4s\tremaining: 1m 26s\n",
      "394:\tlearn: 1597.7541291\ttotal: 56.6s\tremaining: 1m 26s\n",
      "395:\tlearn: 1597.6279759\ttotal: 56.7s\tremaining: 1m 26s\n",
      "396:\tlearn: 1597.4166377\ttotal: 56.8s\tremaining: 1m 26s\n",
      "397:\tlearn: 1597.1840880\ttotal: 56.9s\tremaining: 1m 26s\n",
      "398:\tlearn: 1597.0215637\ttotal: 57.1s\tremaining: 1m 25s\n",
      "399:\tlearn: 1596.8606607\ttotal: 57.2s\tremaining: 1m 25s\n",
      "400:\tlearn: 1596.6425606\ttotal: 57.4s\tremaining: 1m 25s\n",
      "401:\tlearn: 1596.2477075\ttotal: 57.5s\tremaining: 1m 25s\n",
      "402:\tlearn: 1595.9903364\ttotal: 57.6s\tremaining: 1m 25s\n",
      "403:\tlearn: 1595.9015521\ttotal: 57.8s\tremaining: 1m 25s\n",
      "404:\tlearn: 1595.7563756\ttotal: 57.9s\tremaining: 1m 25s\n",
      "405:\tlearn: 1595.5604317\ttotal: 58s\tremaining: 1m 24s\n",
      "406:\tlearn: 1595.2851870\ttotal: 58.2s\tremaining: 1m 24s\n",
      "407:\tlearn: 1595.0405038\ttotal: 58.3s\tremaining: 1m 24s\n",
      "408:\tlearn: 1594.7943302\ttotal: 58.4s\tremaining: 1m 24s\n",
      "409:\tlearn: 1594.4678877\ttotal: 58.6s\tremaining: 1m 24s\n",
      "410:\tlearn: 1594.3195269\ttotal: 58.8s\tremaining: 1m 24s\n",
      "411:\tlearn: 1593.8124404\ttotal: 58.9s\tremaining: 1m 24s\n",
      "412:\tlearn: 1593.6278293\ttotal: 59s\tremaining: 1m 23s\n",
      "413:\tlearn: 1593.3495772\ttotal: 59.1s\tremaining: 1m 23s\n",
      "414:\tlearn: 1593.2151604\ttotal: 59.2s\tremaining: 1m 23s\n",
      "415:\tlearn: 1593.0264084\ttotal: 59.4s\tremaining: 1m 23s\n",
      "416:\tlearn: 1592.8370068\ttotal: 59.5s\tremaining: 1m 23s\n",
      "417:\tlearn: 1592.5870997\ttotal: 59.7s\tremaining: 1m 23s\n",
      "418:\tlearn: 1592.5057232\ttotal: 59.8s\tremaining: 1m 22s\n",
      "419:\tlearn: 1592.3897491\ttotal: 60s\tremaining: 1m 22s\n",
      "420:\tlearn: 1592.2573209\ttotal: 1m\tremaining: 1m 22s\n",
      "421:\tlearn: 1592.0739720\ttotal: 1m\tremaining: 1m 22s\n",
      "422:\tlearn: 1592.0081208\ttotal: 1m\tremaining: 1m 22s\n",
      "423:\tlearn: 1591.6996953\ttotal: 1m\tremaining: 1m 22s\n",
      "424:\tlearn: 1591.5090890\ttotal: 1m\tremaining: 1m 22s\n",
      "425:\tlearn: 1591.4027506\ttotal: 1m\tremaining: 1m 22s\n",
      "426:\tlearn: 1591.1575310\ttotal: 1m 1s\tremaining: 1m 21s\n",
      "427:\tlearn: 1590.8194488\ttotal: 1m 1s\tremaining: 1m 21s\n",
      "428:\tlearn: 1590.7078118\ttotal: 1m 1s\tremaining: 1m 21s\n",
      "429:\tlearn: 1590.7012669\ttotal: 1m 1s\tremaining: 1m 21s\n",
      "430:\tlearn: 1590.4768083\ttotal: 1m 1s\tremaining: 1m 21s\n",
      "431:\tlearn: 1590.3764007\ttotal: 1m 1s\tremaining: 1m 21s\n",
      "432:\tlearn: 1590.3641192\ttotal: 1m 1s\tremaining: 1m 21s\n",
      "433:\tlearn: 1590.3580537\ttotal: 1m 2s\tremaining: 1m 20s\n",
      "434:\tlearn: 1590.1784884\ttotal: 1m 2s\tremaining: 1m 20s\n",
      "435:\tlearn: 1590.0322516\ttotal: 1m 2s\tremaining: 1m 20s\n",
      "436:\tlearn: 1589.9731840\ttotal: 1m 2s\tremaining: 1m 20s\n",
      "437:\tlearn: 1589.8179971\ttotal: 1m 2s\tremaining: 1m 20s\n",
      "438:\tlearn: 1589.5906496\ttotal: 1m 2s\tremaining: 1m 20s\n",
      "439:\tlearn: 1589.3898549\ttotal: 1m 2s\tremaining: 1m 20s\n",
      "440:\tlearn: 1589.1648662\ttotal: 1m 2s\tremaining: 1m 19s\n",
      "441:\tlearn: 1588.8546947\ttotal: 1m 3s\tremaining: 1m 19s\n",
      "442:\tlearn: 1588.7064113\ttotal: 1m 3s\tremaining: 1m 19s\n",
      "443:\tlearn: 1588.4394823\ttotal: 1m 3s\tremaining: 1m 19s\n",
      "444:\tlearn: 1588.3236722\ttotal: 1m 3s\tremaining: 1m 19s\n",
      "445:\tlearn: 1588.0432750\ttotal: 1m 3s\tremaining: 1m 19s\n",
      "446:\tlearn: 1587.8495585\ttotal: 1m 3s\tremaining: 1m 19s\n",
      "447:\tlearn: 1587.7151440\ttotal: 1m 4s\tremaining: 1m 18s\n",
      "448:\tlearn: 1587.5548633\ttotal: 1m 4s\tremaining: 1m 18s\n",
      "449:\tlearn: 1587.5188661\ttotal: 1m 4s\tremaining: 1m 18s\n",
      "450:\tlearn: 1587.3960298\ttotal: 1m 4s\tremaining: 1m 18s\n",
      "451:\tlearn: 1587.1725941\ttotal: 1m 4s\tremaining: 1m 18s\n",
      "452:\tlearn: 1586.9658927\ttotal: 1m 4s\tremaining: 1m 18s\n",
      "453:\tlearn: 1586.8865037\ttotal: 1m 4s\tremaining: 1m 18s\n",
      "454:\tlearn: 1586.7104518\ttotal: 1m 5s\tremaining: 1m 18s\n",
      "455:\tlearn: 1586.6064298\ttotal: 1m 5s\tremaining: 1m 17s\n",
      "456:\tlearn: 1586.5928754\ttotal: 1m 5s\tremaining: 1m 17s\n",
      "457:\tlearn: 1586.5175059\ttotal: 1m 5s\tremaining: 1m 17s\n",
      "458:\tlearn: 1586.4383273\ttotal: 1m 5s\tremaining: 1m 17s\n",
      "459:\tlearn: 1586.3448428\ttotal: 1m 5s\tremaining: 1m 17s\n",
      "460:\tlearn: 1586.1339330\ttotal: 1m 5s\tremaining: 1m 17s\n",
      "461:\tlearn: 1585.9834779\ttotal: 1m 6s\tremaining: 1m 16s\n",
      "462:\tlearn: 1585.7259919\ttotal: 1m 6s\tremaining: 1m 16s\n",
      "463:\tlearn: 1585.3958685\ttotal: 1m 6s\tremaining: 1m 16s\n",
      "464:\tlearn: 1585.2782478\ttotal: 1m 6s\tremaining: 1m 16s\n",
      "465:\tlearn: 1585.0050095\ttotal: 1m 6s\tremaining: 1m 16s\n",
      "466:\tlearn: 1584.8283912\ttotal: 1m 6s\tremaining: 1m 16s\n",
      "467:\tlearn: 1584.4628619\ttotal: 1m 6s\tremaining: 1m 16s\n",
      "468:\tlearn: 1584.2368205\ttotal: 1m 7s\tremaining: 1m 16s\n",
      "469:\tlearn: 1584.1192399\ttotal: 1m 7s\tremaining: 1m 15s\n",
      "470:\tlearn: 1583.8674045\ttotal: 1m 7s\tremaining: 1m 15s\n",
      "471:\tlearn: 1583.7516395\ttotal: 1m 7s\tremaining: 1m 15s\n",
      "472:\tlearn: 1583.6031532\ttotal: 1m 7s\tremaining: 1m 15s\n",
      "473:\tlearn: 1583.2917488\ttotal: 1m 7s\tremaining: 1m 15s\n",
      "474:\tlearn: 1583.0794023\ttotal: 1m 8s\tremaining: 1m 15s\n",
      "475:\tlearn: 1582.9729776\ttotal: 1m 8s\tremaining: 1m 15s\n",
      "476:\tlearn: 1582.6375871\ttotal: 1m 8s\tremaining: 1m 14s\n",
      "477:\tlearn: 1582.5613160\ttotal: 1m 8s\tremaining: 1m 14s\n",
      "478:\tlearn: 1582.2214782\ttotal: 1m 8s\tremaining: 1m 14s\n",
      "479:\tlearn: 1582.0038925\ttotal: 1m 8s\tremaining: 1m 14s\n",
      "480:\tlearn: 1581.8336097\ttotal: 1m 9s\tremaining: 1m 14s\n",
      "481:\tlearn: 1581.6504178\ttotal: 1m 9s\tremaining: 1m 14s\n",
      "482:\tlearn: 1581.5633687\ttotal: 1m 9s\tremaining: 1m 14s\n",
      "483:\tlearn: 1581.3934820\ttotal: 1m 9s\tremaining: 1m 14s\n",
      "484:\tlearn: 1581.1236510\ttotal: 1m 9s\tremaining: 1m 13s\n",
      "485:\tlearn: 1580.9976755\ttotal: 1m 9s\tremaining: 1m 13s\n",
      "486:\tlearn: 1580.8033944\ttotal: 1m 9s\tremaining: 1m 13s\n",
      "487:\tlearn: 1580.6743391\ttotal: 1m 10s\tremaining: 1m 13s\n",
      "488:\tlearn: 1580.3357030\ttotal: 1m 10s\tremaining: 1m 13s\n",
      "489:\tlearn: 1580.0249397\ttotal: 1m 10s\tremaining: 1m 13s\n",
      "490:\tlearn: 1579.8534984\ttotal: 1m 10s\tremaining: 1m 13s\n",
      "491:\tlearn: 1579.7039631\ttotal: 1m 10s\tremaining: 1m 12s\n",
      "492:\tlearn: 1579.4642413\ttotal: 1m 10s\tremaining: 1m 12s\n",
      "493:\tlearn: 1579.3724645\ttotal: 1m 10s\tremaining: 1m 12s\n",
      "494:\tlearn: 1579.0555352\ttotal: 1m 11s\tremaining: 1m 12s\n",
      "495:\tlearn: 1578.9853328\ttotal: 1m 11s\tremaining: 1m 12s\n",
      "496:\tlearn: 1578.7967362\ttotal: 1m 11s\tremaining: 1m 12s\n",
      "497:\tlearn: 1578.7058899\ttotal: 1m 11s\tremaining: 1m 12s\n",
      "498:\tlearn: 1578.6150041\ttotal: 1m 11s\tremaining: 1m 11s\n",
      "499:\tlearn: 1578.4732740\ttotal: 1m 11s\tremaining: 1m 11s\n",
      "500:\tlearn: 1578.3081989\ttotal: 1m 11s\tremaining: 1m 11s\n",
      "501:\tlearn: 1578.1489363\ttotal: 1m 12s\tremaining: 1m 11s\n",
      "502:\tlearn: 1577.9924465\ttotal: 1m 12s\tremaining: 1m 11s\n",
      "503:\tlearn: 1577.8633687\ttotal: 1m 12s\tremaining: 1m 11s\n",
      "504:\tlearn: 1577.6967211\ttotal: 1m 12s\tremaining: 1m 10s\n",
      "505:\tlearn: 1577.4844719\ttotal: 1m 12s\tremaining: 1m 10s\n",
      "506:\tlearn: 1577.3583314\ttotal: 1m 12s\tremaining: 1m 10s\n",
      "507:\tlearn: 1577.2688755\ttotal: 1m 12s\tremaining: 1m 10s\n",
      "508:\tlearn: 1577.1782897\ttotal: 1m 12s\tremaining: 1m 10s\n",
      "509:\tlearn: 1576.9038694\ttotal: 1m 13s\tremaining: 1m 10s\n",
      "510:\tlearn: 1576.8267498\ttotal: 1m 13s\tremaining: 1m 10s\n",
      "511:\tlearn: 1576.4564470\ttotal: 1m 13s\tremaining: 1m 9s\n",
      "512:\tlearn: 1576.3351759\ttotal: 1m 13s\tremaining: 1m 9s\n",
      "513:\tlearn: 1576.2050049\ttotal: 1m 13s\tremaining: 1m 9s\n",
      "514:\tlearn: 1575.9731854\ttotal: 1m 13s\tremaining: 1m 9s\n",
      "515:\tlearn: 1575.8811982\ttotal: 1m 13s\tremaining: 1m 9s\n",
      "516:\tlearn: 1575.8369991\ttotal: 1m 14s\tremaining: 1m 9s\n",
      "517:\tlearn: 1575.6960620\ttotal: 1m 14s\tremaining: 1m 9s\n",
      "518:\tlearn: 1575.4605111\ttotal: 1m 14s\tremaining: 1m 8s\n",
      "519:\tlearn: 1575.2963734\ttotal: 1m 14s\tremaining: 1m 8s\n",
      "520:\tlearn: 1575.1145339\ttotal: 1m 14s\tremaining: 1m 8s\n",
      "521:\tlearn: 1574.9231772\ttotal: 1m 14s\tremaining: 1m 8s\n",
      "522:\tlearn: 1574.8326136\ttotal: 1m 15s\tremaining: 1m 8s\n",
      "523:\tlearn: 1574.7409346\ttotal: 1m 15s\tremaining: 1m 8s\n",
      "524:\tlearn: 1574.5731123\ttotal: 1m 15s\tremaining: 1m 8s\n",
      "525:\tlearn: 1574.3964511\ttotal: 1m 15s\tremaining: 1m 8s\n",
      "526:\tlearn: 1574.2201938\ttotal: 1m 15s\tremaining: 1m 7s\n",
      "527:\tlearn: 1574.0931880\ttotal: 1m 15s\tremaining: 1m 7s\n",
      "528:\tlearn: 1573.8497970\ttotal: 1m 15s\tremaining: 1m 7s\n",
      "529:\tlearn: 1573.6457690\ttotal: 1m 16s\tremaining: 1m 7s\n",
      "530:\tlearn: 1573.4393447\ttotal: 1m 16s\tremaining: 1m 7s\n",
      "531:\tlearn: 1573.2133720\ttotal: 1m 16s\tremaining: 1m 7s\n",
      "532:\tlearn: 1573.0477086\ttotal: 1m 16s\tremaining: 1m 6s\n",
      "533:\tlearn: 1572.9179274\ttotal: 1m 16s\tremaining: 1m 6s\n",
      "534:\tlearn: 1572.7498075\ttotal: 1m 16s\tremaining: 1m 6s\n",
      "535:\tlearn: 1572.6497979\ttotal: 1m 16s\tremaining: 1m 6s\n",
      "536:\tlearn: 1572.6399525\ttotal: 1m 17s\tremaining: 1m 6s\n",
      "537:\tlearn: 1572.5129863\ttotal: 1m 17s\tremaining: 1m 6s\n",
      "538:\tlearn: 1572.3226781\ttotal: 1m 17s\tremaining: 1m 6s\n",
      "539:\tlearn: 1572.2312033\ttotal: 1m 17s\tremaining: 1m 5s\n",
      "540:\tlearn: 1572.0513610\ttotal: 1m 17s\tremaining: 1m 5s\n",
      "541:\tlearn: 1571.8160448\ttotal: 1m 17s\tremaining: 1m 5s\n",
      "542:\tlearn: 1571.5192518\ttotal: 1m 17s\tremaining: 1m 5s\n",
      "543:\tlearn: 1571.3340464\ttotal: 1m 18s\tremaining: 1m 5s\n",
      "544:\tlearn: 1571.2142095\ttotal: 1m 18s\tremaining: 1m 5s\n",
      "545:\tlearn: 1571.0728554\ttotal: 1m 18s\tremaining: 1m 5s\n",
      "546:\tlearn: 1570.9117441\ttotal: 1m 18s\tremaining: 1m 4s\n",
      "547:\tlearn: 1570.8373447\ttotal: 1m 18s\tremaining: 1m 4s\n",
      "548:\tlearn: 1570.5835964\ttotal: 1m 18s\tremaining: 1m 4s\n",
      "549:\tlearn: 1570.5424342\ttotal: 1m 18s\tremaining: 1m 4s\n",
      "550:\tlearn: 1570.4012466\ttotal: 1m 18s\tremaining: 1m 4s\n",
      "551:\tlearn: 1570.1930748\ttotal: 1m 19s\tremaining: 1m 4s\n",
      "552:\tlearn: 1570.0653542\ttotal: 1m 19s\tremaining: 1m 4s\n",
      "553:\tlearn: 1569.8282377\ttotal: 1m 19s\tremaining: 1m 3s\n",
      "554:\tlearn: 1569.7773687\ttotal: 1m 19s\tremaining: 1m 3s\n",
      "555:\tlearn: 1569.6344163\ttotal: 1m 19s\tremaining: 1m 3s\n",
      "556:\tlearn: 1569.4648067\ttotal: 1m 19s\tremaining: 1m 3s\n",
      "557:\tlearn: 1569.2556677\ttotal: 1m 19s\tremaining: 1m 3s\n",
      "558:\tlearn: 1569.0928999\ttotal: 1m 20s\tremaining: 1m 3s\n",
      "559:\tlearn: 1569.0618065\ttotal: 1m 20s\tremaining: 1m 2s\n",
      "560:\tlearn: 1568.9536708\ttotal: 1m 20s\tremaining: 1m 2s\n",
      "561:\tlearn: 1568.8647992\ttotal: 1m 20s\tremaining: 1m 2s\n",
      "562:\tlearn: 1568.6648671\ttotal: 1m 20s\tremaining: 1m 2s\n",
      "563:\tlearn: 1568.4927755\ttotal: 1m 20s\tremaining: 1m 2s\n",
      "564:\tlearn: 1568.4279898\ttotal: 1m 20s\tremaining: 1m 2s\n",
      "565:\tlearn: 1568.4253042\ttotal: 1m 20s\tremaining: 1m 2s\n",
      "566:\tlearn: 1568.2223687\ttotal: 1m 21s\tremaining: 1m 1s\n",
      "567:\tlearn: 1568.0634145\ttotal: 1m 21s\tremaining: 1m 1s\n",
      "568:\tlearn: 1567.8045965\ttotal: 1m 21s\tremaining: 1m 1s\n",
      "569:\tlearn: 1567.6317364\ttotal: 1m 21s\tremaining: 1m 1s\n",
      "570:\tlearn: 1567.3802639\ttotal: 1m 21s\tremaining: 1m 1s\n",
      "571:\tlearn: 1567.3608392\ttotal: 1m 21s\tremaining: 1m 1s\n",
      "572:\tlearn: 1567.2745849\ttotal: 1m 21s\tremaining: 1m 1s\n",
      "573:\tlearn: 1567.1561751\ttotal: 1m 22s\tremaining: 1m\n",
      "574:\tlearn: 1567.0197434\ttotal: 1m 22s\tremaining: 1m\n",
      "575:\tlearn: 1566.8932719\ttotal: 1m 22s\tremaining: 1m\n",
      "576:\tlearn: 1566.5256244\ttotal: 1m 22s\tremaining: 1m\n",
      "577:\tlearn: 1566.1132940\ttotal: 1m 22s\tremaining: 1m\n",
      "578:\tlearn: 1565.7545187\ttotal: 1m 22s\tremaining: 1m\n",
      "579:\tlearn: 1565.5541680\ttotal: 1m 22s\tremaining: 1m\n",
      "580:\tlearn: 1565.3866702\ttotal: 1m 23s\tremaining: 59.9s\n",
      "581:\tlearn: 1565.2772031\ttotal: 1m 23s\tremaining: 59.8s\n",
      "582:\tlearn: 1565.1081401\ttotal: 1m 23s\tremaining: 59.7s\n",
      "583:\tlearn: 1564.9791835\ttotal: 1m 23s\tremaining: 59.5s\n",
      "584:\tlearn: 1564.7678353\ttotal: 1m 23s\tremaining: 59.4s\n",
      "585:\tlearn: 1564.5474669\ttotal: 1m 23s\tremaining: 59.2s\n",
      "586:\tlearn: 1564.4213267\ttotal: 1m 24s\tremaining: 59.1s\n",
      "587:\tlearn: 1564.3041858\ttotal: 1m 24s\tremaining: 59s\n",
      "588:\tlearn: 1564.2250488\ttotal: 1m 24s\tremaining: 58.8s\n",
      "589:\tlearn: 1564.0778190\ttotal: 1m 24s\tremaining: 58.7s\n",
      "590:\tlearn: 1563.9561011\ttotal: 1m 24s\tremaining: 58.5s\n",
      "591:\tlearn: 1563.6600970\ttotal: 1m 24s\tremaining: 58.4s\n",
      "592:\tlearn: 1563.3887321\ttotal: 1m 24s\tremaining: 58.2s\n",
      "593:\tlearn: 1563.1725079\ttotal: 1m 25s\tremaining: 58.1s\n",
      "594:\tlearn: 1563.1091108\ttotal: 1m 25s\tremaining: 57.9s\n",
      "595:\tlearn: 1562.9188093\ttotal: 1m 25s\tremaining: 57.8s\n",
      "596:\tlearn: 1562.8122629\ttotal: 1m 25s\tremaining: 57.7s\n",
      "597:\tlearn: 1562.6482871\ttotal: 1m 25s\tremaining: 57.5s\n",
      "598:\tlearn: 1562.5019981\ttotal: 1m 25s\tremaining: 57.4s\n",
      "599:\tlearn: 1562.2087624\ttotal: 1m 25s\tremaining: 57.3s\n",
      "600:\tlearn: 1562.1602619\ttotal: 1m 26s\tremaining: 57.1s\n",
      "601:\tlearn: 1562.0470720\ttotal: 1m 26s\tremaining: 57s\n",
      "602:\tlearn: 1562.0006543\ttotal: 1m 26s\tremaining: 56.8s\n",
      "603:\tlearn: 1561.8957687\ttotal: 1m 26s\tremaining: 56.7s\n",
      "604:\tlearn: 1561.6421955\ttotal: 1m 26s\tremaining: 56.6s\n",
      "605:\tlearn: 1561.5710447\ttotal: 1m 26s\tremaining: 56.4s\n",
      "606:\tlearn: 1561.4929121\ttotal: 1m 26s\tremaining: 56.3s\n",
      "607:\tlearn: 1561.3995691\ttotal: 1m 27s\tremaining: 56.2s\n",
      "608:\tlearn: 1561.1078188\ttotal: 1m 27s\tremaining: 56s\n",
      "609:\tlearn: 1560.9871207\ttotal: 1m 27s\tremaining: 55.8s\n",
      "610:\tlearn: 1560.6006802\ttotal: 1m 27s\tremaining: 55.7s\n",
      "611:\tlearn: 1560.3383234\ttotal: 1m 27s\tremaining: 55.5s\n",
      "612:\tlearn: 1560.2384419\ttotal: 1m 27s\tremaining: 55.4s\n",
      "613:\tlearn: 1560.0151758\ttotal: 1m 27s\tremaining: 55.2s\n",
      "614:\tlearn: 1559.9181194\ttotal: 1m 28s\tremaining: 55.1s\n",
      "615:\tlearn: 1559.7990988\ttotal: 1m 28s\tremaining: 55s\n",
      "616:\tlearn: 1559.6489277\ttotal: 1m 28s\tremaining: 54.8s\n",
      "617:\tlearn: 1559.5649114\ttotal: 1m 28s\tremaining: 54.6s\n",
      "618:\tlearn: 1559.4579793\ttotal: 1m 28s\tremaining: 54.5s\n",
      "619:\tlearn: 1559.3799714\ttotal: 1m 28s\tremaining: 54.3s\n",
      "620:\tlearn: 1559.2640712\ttotal: 1m 28s\tremaining: 54.2s\n",
      "621:\tlearn: 1559.1840297\ttotal: 1m 28s\tremaining: 54.1s\n",
      "622:\tlearn: 1559.1316288\ttotal: 1m 29s\tremaining: 53.9s\n",
      "623:\tlearn: 1558.7163986\ttotal: 1m 29s\tremaining: 53.8s\n",
      "624:\tlearn: 1558.5420925\ttotal: 1m 29s\tremaining: 53.6s\n",
      "625:\tlearn: 1558.3831266\ttotal: 1m 29s\tremaining: 53.5s\n",
      "626:\tlearn: 1558.0447381\ttotal: 1m 29s\tremaining: 53.4s\n",
      "627:\tlearn: 1557.9175682\ttotal: 1m 29s\tremaining: 53.3s\n",
      "628:\tlearn: 1557.8699426\ttotal: 1m 30s\tremaining: 53.1s\n",
      "629:\tlearn: 1557.8372893\ttotal: 1m 30s\tremaining: 53s\n",
      "630:\tlearn: 1557.7786373\ttotal: 1m 30s\tremaining: 52.8s\n",
      "631:\tlearn: 1557.5752211\ttotal: 1m 30s\tremaining: 52.7s\n",
      "632:\tlearn: 1557.4418544\ttotal: 1m 30s\tremaining: 52.5s\n",
      "633:\tlearn: 1557.2496180\ttotal: 1m 30s\tremaining: 52.4s\n",
      "634:\tlearn: 1557.0490678\ttotal: 1m 30s\tremaining: 52.3s\n",
      "635:\tlearn: 1556.9761194\ttotal: 1m 31s\tremaining: 52.1s\n",
      "636:\tlearn: 1556.7472186\ttotal: 1m 31s\tremaining: 51.9s\n",
      "637:\tlearn: 1556.6725102\ttotal: 1m 31s\tremaining: 51.8s\n",
      "638:\tlearn: 1556.6585335\ttotal: 1m 31s\tremaining: 51.6s\n",
      "639:\tlearn: 1556.5899308\ttotal: 1m 31s\tremaining: 51.5s\n",
      "640:\tlearn: 1556.5179544\ttotal: 1m 31s\tremaining: 51.4s\n",
      "641:\tlearn: 1556.4498632\ttotal: 1m 31s\tremaining: 51.2s\n",
      "642:\tlearn: 1556.4322046\ttotal: 1m 32s\tremaining: 51.1s\n",
      "643:\tlearn: 1556.3755173\ttotal: 1m 32s\tremaining: 50.9s\n",
      "644:\tlearn: 1556.2661036\ttotal: 1m 32s\tremaining: 50.8s\n",
      "645:\tlearn: 1556.1787455\ttotal: 1m 32s\tremaining: 50.6s\n",
      "646:\tlearn: 1556.0541349\ttotal: 1m 32s\tremaining: 50.5s\n",
      "647:\tlearn: 1555.9901943\ttotal: 1m 32s\tremaining: 50.3s\n",
      "648:\tlearn: 1555.8505155\ttotal: 1m 32s\tremaining: 50.2s\n",
      "649:\tlearn: 1555.6445974\ttotal: 1m 32s\tremaining: 50s\n",
      "650:\tlearn: 1555.5736001\ttotal: 1m 33s\tremaining: 49.9s\n",
      "651:\tlearn: 1555.3702616\ttotal: 1m 33s\tremaining: 49.8s\n",
      "652:\tlearn: 1555.3366729\ttotal: 1m 33s\tremaining: 49.7s\n",
      "653:\tlearn: 1555.2308695\ttotal: 1m 33s\tremaining: 49.5s\n",
      "654:\tlearn: 1555.1081645\ttotal: 1m 33s\tremaining: 49.4s\n",
      "655:\tlearn: 1554.7484585\ttotal: 1m 33s\tremaining: 49.2s\n",
      "656:\tlearn: 1554.6542847\ttotal: 1m 34s\tremaining: 49.1s\n",
      "657:\tlearn: 1554.5255885\ttotal: 1m 34s\tremaining: 49s\n",
      "658:\tlearn: 1554.4707914\ttotal: 1m 34s\tremaining: 48.8s\n",
      "659:\tlearn: 1554.4005840\ttotal: 1m 34s\tremaining: 48.7s\n",
      "660:\tlearn: 1554.1116795\ttotal: 1m 34s\tremaining: 48.5s\n",
      "661:\tlearn: 1554.0830634\ttotal: 1m 34s\tremaining: 48.4s\n",
      "662:\tlearn: 1553.9152781\ttotal: 1m 34s\tremaining: 48.3s\n",
      "663:\tlearn: 1553.7966911\ttotal: 1m 35s\tremaining: 48.1s\n",
      "664:\tlearn: 1553.6181918\ttotal: 1m 35s\tremaining: 48s\n",
      "665:\tlearn: 1553.4773641\ttotal: 1m 35s\tremaining: 47.9s\n",
      "666:\tlearn: 1553.3776319\ttotal: 1m 35s\tremaining: 47.7s\n",
      "667:\tlearn: 1553.0737230\ttotal: 1m 35s\tremaining: 47.6s\n",
      "668:\tlearn: 1552.9965124\ttotal: 1m 35s\tremaining: 47.4s\n",
      "669:\tlearn: 1552.8407352\ttotal: 1m 36s\tremaining: 47.3s\n",
      "670:\tlearn: 1552.6817270\ttotal: 1m 36s\tremaining: 47.2s\n",
      "671:\tlearn: 1552.5543042\ttotal: 1m 36s\tremaining: 47s\n",
      "672:\tlearn: 1552.4410219\ttotal: 1m 36s\tremaining: 46.9s\n",
      "673:\tlearn: 1552.3495962\ttotal: 1m 36s\tremaining: 46.8s\n",
      "674:\tlearn: 1552.2083214\ttotal: 1m 36s\tremaining: 46.6s\n",
      "675:\tlearn: 1552.1083813\ttotal: 1m 36s\tremaining: 46.5s\n",
      "676:\tlearn: 1552.0473001\ttotal: 1m 37s\tremaining: 46.3s\n",
      "677:\tlearn: 1551.9843679\ttotal: 1m 37s\tremaining: 46.2s\n",
      "678:\tlearn: 1551.9261150\ttotal: 1m 37s\tremaining: 46s\n",
      "679:\tlearn: 1551.7552326\ttotal: 1m 37s\tremaining: 45.9s\n",
      "680:\tlearn: 1551.6369881\ttotal: 1m 37s\tremaining: 45.7s\n",
      "681:\tlearn: 1551.5220067\ttotal: 1m 37s\tremaining: 45.6s\n",
      "682:\tlearn: 1551.4323122\ttotal: 1m 37s\tremaining: 45.4s\n",
      "683:\tlearn: 1551.1858360\ttotal: 1m 38s\tremaining: 45.3s\n",
      "684:\tlearn: 1551.0574923\ttotal: 1m 38s\tremaining: 45.2s\n",
      "685:\tlearn: 1550.9937756\ttotal: 1m 38s\tremaining: 45s\n",
      "686:\tlearn: 1550.8696760\ttotal: 1m 38s\tremaining: 44.8s\n",
      "687:\tlearn: 1550.8355079\ttotal: 1m 38s\tremaining: 44.7s\n",
      "688:\tlearn: 1550.8013941\ttotal: 1m 38s\tremaining: 44.5s\n",
      "689:\tlearn: 1550.3854250\ttotal: 1m 38s\tremaining: 44.4s\n",
      "690:\tlearn: 1550.3669227\ttotal: 1m 38s\tremaining: 44.2s\n",
      "691:\tlearn: 1550.2484751\ttotal: 1m 39s\tremaining: 44.1s\n",
      "692:\tlearn: 1550.1098273\ttotal: 1m 39s\tremaining: 43.9s\n",
      "693:\tlearn: 1550.0671470\ttotal: 1m 39s\tremaining: 43.8s\n",
      "694:\tlearn: 1549.9732510\ttotal: 1m 39s\tremaining: 43.7s\n",
      "695:\tlearn: 1549.8292586\ttotal: 1m 39s\tremaining: 43.5s\n",
      "696:\tlearn: 1549.7777106\ttotal: 1m 39s\tremaining: 43.4s\n",
      "697:\tlearn: 1549.4475931\ttotal: 1m 39s\tremaining: 43.2s\n",
      "698:\tlearn: 1549.3725281\ttotal: 1m 40s\tremaining: 43.1s\n",
      "699:\tlearn: 1549.2930531\ttotal: 1m 40s\tremaining: 42.9s\n",
      "700:\tlearn: 1549.0969576\ttotal: 1m 40s\tremaining: 42.8s\n",
      "701:\tlearn: 1548.9173396\ttotal: 1m 40s\tremaining: 42.6s\n",
      "702:\tlearn: 1548.6975354\ttotal: 1m 40s\tremaining: 42.5s\n",
      "703:\tlearn: 1548.5675714\ttotal: 1m 40s\tremaining: 42.4s\n",
      "704:\tlearn: 1548.5240714\ttotal: 1m 40s\tremaining: 42.2s\n",
      "705:\tlearn: 1548.4003533\ttotal: 1m 41s\tremaining: 42.1s\n",
      "706:\tlearn: 1548.3146219\ttotal: 1m 41s\tremaining: 42s\n",
      "707:\tlearn: 1548.0565481\ttotal: 1m 41s\tremaining: 41.9s\n",
      "708:\tlearn: 1547.9847313\ttotal: 1m 41s\tremaining: 41.7s\n",
      "709:\tlearn: 1547.9278945\ttotal: 1m 41s\tremaining: 41.6s\n",
      "710:\tlearn: 1547.7097996\ttotal: 1m 41s\tremaining: 41.4s\n",
      "711:\tlearn: 1547.5590374\ttotal: 1m 42s\tremaining: 41.3s\n",
      "712:\tlearn: 1547.5266391\ttotal: 1m 42s\tremaining: 41.1s\n",
      "713:\tlearn: 1547.4754659\ttotal: 1m 42s\tremaining: 41s\n",
      "714:\tlearn: 1547.4349793\ttotal: 1m 42s\tremaining: 40.9s\n",
      "715:\tlearn: 1547.3402727\ttotal: 1m 42s\tremaining: 40.7s\n",
      "716:\tlearn: 1547.1917646\ttotal: 1m 42s\tremaining: 40.6s\n",
      "717:\tlearn: 1547.1516919\ttotal: 1m 42s\tremaining: 40.4s\n",
      "718:\tlearn: 1546.9907288\ttotal: 1m 43s\tremaining: 40.3s\n",
      "719:\tlearn: 1546.8631503\ttotal: 1m 43s\tremaining: 40.1s\n",
      "720:\tlearn: 1546.7851884\ttotal: 1m 43s\tremaining: 40s\n",
      "721:\tlearn: 1546.6529547\ttotal: 1m 43s\tremaining: 39.8s\n",
      "722:\tlearn: 1546.5466132\ttotal: 1m 43s\tremaining: 39.7s\n",
      "723:\tlearn: 1546.3541880\ttotal: 1m 43s\tremaining: 39.6s\n",
      "724:\tlearn: 1546.0730655\ttotal: 1m 43s\tremaining: 39.4s\n",
      "725:\tlearn: 1545.9801741\ttotal: 1m 44s\tremaining: 39.3s\n",
      "726:\tlearn: 1545.8839981\ttotal: 1m 44s\tremaining: 39.1s\n",
      "727:\tlearn: 1545.8250319\ttotal: 1m 44s\tremaining: 39s\n",
      "728:\tlearn: 1545.7642786\ttotal: 1m 44s\tremaining: 38.8s\n",
      "729:\tlearn: 1545.6888343\ttotal: 1m 44s\tremaining: 38.7s\n",
      "730:\tlearn: 1545.4651956\ttotal: 1m 44s\tremaining: 38.5s\n",
      "731:\tlearn: 1545.3851452\ttotal: 1m 44s\tremaining: 38.4s\n",
      "732:\tlearn: 1545.2697582\ttotal: 1m 44s\tremaining: 38.2s\n",
      "733:\tlearn: 1545.2189788\ttotal: 1m 45s\tremaining: 38.1s\n",
      "734:\tlearn: 1545.0816323\ttotal: 1m 45s\tremaining: 37.9s\n",
      "735:\tlearn: 1544.8165330\ttotal: 1m 45s\tremaining: 37.8s\n",
      "736:\tlearn: 1544.7178216\ttotal: 1m 45s\tremaining: 37.7s\n",
      "737:\tlearn: 1544.6002478\ttotal: 1m 45s\tremaining: 37.5s\n",
      "738:\tlearn: 1544.4419035\ttotal: 1m 45s\tremaining: 37.4s\n",
      "739:\tlearn: 1544.3725866\ttotal: 1m 45s\tremaining: 37.2s\n",
      "740:\tlearn: 1544.3064550\ttotal: 1m 46s\tremaining: 37.1s\n",
      "741:\tlearn: 1544.1563672\ttotal: 1m 46s\tremaining: 37s\n",
      "742:\tlearn: 1544.0196571\ttotal: 1m 46s\tremaining: 36.8s\n",
      "743:\tlearn: 1543.9274674\ttotal: 1m 46s\tremaining: 36.7s\n",
      "744:\tlearn: 1543.8569361\ttotal: 1m 46s\tremaining: 36.5s\n",
      "745:\tlearn: 1543.7339740\ttotal: 1m 46s\tremaining: 36.4s\n",
      "746:\tlearn: 1543.5587112\ttotal: 1m 47s\tremaining: 36.3s\n",
      "747:\tlearn: 1543.4965526\ttotal: 1m 47s\tremaining: 36.1s\n",
      "748:\tlearn: 1543.3319538\ttotal: 1m 47s\tremaining: 36s\n",
      "749:\tlearn: 1543.1018102\ttotal: 1m 47s\tremaining: 35.8s\n",
      "750:\tlearn: 1543.0641728\ttotal: 1m 47s\tremaining: 35.7s\n",
      "751:\tlearn: 1542.9191601\ttotal: 1m 47s\tremaining: 35.5s\n",
      "752:\tlearn: 1542.8749785\ttotal: 1m 47s\tremaining: 35.4s\n",
      "753:\tlearn: 1542.8298950\ttotal: 1m 48s\tremaining: 35.2s\n",
      "754:\tlearn: 1542.6997158\ttotal: 1m 48s\tremaining: 35.1s\n",
      "755:\tlearn: 1542.4876890\ttotal: 1m 48s\tremaining: 35s\n",
      "756:\tlearn: 1542.4198647\ttotal: 1m 48s\tremaining: 34.8s\n",
      "757:\tlearn: 1542.2157653\ttotal: 1m 48s\tremaining: 34.7s\n",
      "758:\tlearn: 1542.1886952\ttotal: 1m 48s\tremaining: 34.5s\n",
      "759:\tlearn: 1542.1046165\ttotal: 1m 48s\tremaining: 34.4s\n",
      "760:\tlearn: 1541.9305249\ttotal: 1m 49s\tremaining: 34.2s\n",
      "761:\tlearn: 1541.8052966\ttotal: 1m 49s\tremaining: 34.1s\n",
      "762:\tlearn: 1541.7472260\ttotal: 1m 49s\tremaining: 33.9s\n",
      "763:\tlearn: 1541.4821845\ttotal: 1m 49s\tremaining: 33.8s\n",
      "764:\tlearn: 1541.3108543\ttotal: 1m 49s\tremaining: 33.7s\n",
      "765:\tlearn: 1541.1920226\ttotal: 1m 49s\tremaining: 33.5s\n",
      "766:\tlearn: 1541.0915833\ttotal: 1m 49s\tremaining: 33.4s\n",
      "767:\tlearn: 1540.9331126\ttotal: 1m 49s\tremaining: 33.2s\n",
      "768:\tlearn: 1540.8431215\ttotal: 1m 50s\tremaining: 33.1s\n",
      "769:\tlearn: 1540.5523429\ttotal: 1m 50s\tremaining: 32.9s\n",
      "770:\tlearn: 1540.4517787\ttotal: 1m 50s\tremaining: 32.8s\n",
      "771:\tlearn: 1540.3545852\ttotal: 1m 50s\tremaining: 32.6s\n",
      "772:\tlearn: 1540.2762797\ttotal: 1m 50s\tremaining: 32.5s\n",
      "773:\tlearn: 1540.2032329\ttotal: 1m 50s\tremaining: 32.4s\n",
      "774:\tlearn: 1540.1766981\ttotal: 1m 50s\tremaining: 32.2s\n",
      "775:\tlearn: 1539.8763176\ttotal: 1m 51s\tremaining: 32.1s\n",
      "776:\tlearn: 1539.8029224\ttotal: 1m 51s\tremaining: 31.9s\n",
      "777:\tlearn: 1539.7399062\ttotal: 1m 51s\tremaining: 31.8s\n",
      "778:\tlearn: 1539.6855716\ttotal: 1m 51s\tremaining: 31.7s\n",
      "779:\tlearn: 1539.6296383\ttotal: 1m 51s\tremaining: 31.5s\n",
      "780:\tlearn: 1539.5506765\ttotal: 1m 51s\tremaining: 31.4s\n",
      "781:\tlearn: 1539.4366354\ttotal: 1m 51s\tremaining: 31.2s\n",
      "782:\tlearn: 1539.3097792\ttotal: 1m 52s\tremaining: 31.1s\n",
      "783:\tlearn: 1539.2265578\ttotal: 1m 52s\tremaining: 30.9s\n",
      "784:\tlearn: 1539.1269051\ttotal: 1m 52s\tremaining: 30.8s\n",
      "785:\tlearn: 1539.0352554\ttotal: 1m 52s\tremaining: 30.7s\n",
      "786:\tlearn: 1538.9204178\ttotal: 1m 52s\tremaining: 30.5s\n",
      "787:\tlearn: 1538.8933787\ttotal: 1m 52s\tremaining: 30.4s\n",
      "788:\tlearn: 1538.8890156\ttotal: 1m 53s\tremaining: 30.2s\n",
      "789:\tlearn: 1538.8797695\ttotal: 1m 53s\tremaining: 30.1s\n",
      "790:\tlearn: 1538.8347124\ttotal: 1m 53s\tremaining: 30s\n",
      "791:\tlearn: 1538.7196676\ttotal: 1m 53s\tremaining: 29.8s\n",
      "792:\tlearn: 1538.6806255\ttotal: 1m 53s\tremaining: 29.7s\n",
      "793:\tlearn: 1538.6542523\ttotal: 1m 53s\tremaining: 29.5s\n",
      "794:\tlearn: 1538.4682863\ttotal: 1m 54s\tremaining: 29.4s\n",
      "795:\tlearn: 1538.3898103\ttotal: 1m 54s\tremaining: 29.3s\n",
      "796:\tlearn: 1538.0918057\ttotal: 1m 54s\tremaining: 29.1s\n",
      "797:\tlearn: 1537.9385496\ttotal: 1m 54s\tremaining: 29s\n",
      "798:\tlearn: 1537.7240248\ttotal: 1m 54s\tremaining: 28.8s\n",
      "799:\tlearn: 1537.6662182\ttotal: 1m 54s\tremaining: 28.7s\n",
      "800:\tlearn: 1537.5845559\ttotal: 1m 54s\tremaining: 28.5s\n",
      "801:\tlearn: 1537.5598320\ttotal: 1m 55s\tremaining: 28.4s\n",
      "802:\tlearn: 1537.4620872\ttotal: 1m 55s\tremaining: 28.3s\n",
      "803:\tlearn: 1537.3506687\ttotal: 1m 55s\tremaining: 28.1s\n",
      "804:\tlearn: 1537.2403918\ttotal: 1m 55s\tremaining: 28s\n",
      "805:\tlearn: 1537.0805786\ttotal: 1m 55s\tremaining: 27.8s\n",
      "806:\tlearn: 1537.0260393\ttotal: 1m 55s\tremaining: 27.7s\n",
      "807:\tlearn: 1536.7774338\ttotal: 1m 56s\tremaining: 27.6s\n",
      "808:\tlearn: 1536.7444148\ttotal: 1m 56s\tremaining: 27.4s\n",
      "809:\tlearn: 1536.6950804\ttotal: 1m 56s\tremaining: 27.3s\n",
      "810:\tlearn: 1536.6213736\ttotal: 1m 56s\tremaining: 27.1s\n",
      "811:\tlearn: 1536.3340239\ttotal: 1m 56s\tremaining: 27s\n",
      "812:\tlearn: 1536.2828501\ttotal: 1m 56s\tremaining: 26.9s\n",
      "813:\tlearn: 1536.1431000\ttotal: 1m 56s\tremaining: 26.7s\n",
      "814:\tlearn: 1536.0988962\ttotal: 1m 57s\tremaining: 26.6s\n",
      "815:\tlearn: 1535.9847315\ttotal: 1m 57s\tremaining: 26.4s\n",
      "816:\tlearn: 1535.9640947\ttotal: 1m 57s\tremaining: 26.3s\n",
      "817:\tlearn: 1535.9065357\ttotal: 1m 57s\tremaining: 26.1s\n",
      "818:\tlearn: 1535.8290439\ttotal: 1m 57s\tremaining: 26s\n",
      "819:\tlearn: 1535.7705373\ttotal: 1m 57s\tremaining: 25.9s\n",
      "820:\tlearn: 1535.5878429\ttotal: 1m 57s\tremaining: 25.7s\n",
      "821:\tlearn: 1535.4036955\ttotal: 1m 58s\tremaining: 25.6s\n",
      "822:\tlearn: 1535.1625944\ttotal: 1m 58s\tremaining: 25.4s\n",
      "823:\tlearn: 1535.0452871\ttotal: 1m 58s\tremaining: 25.3s\n",
      "824:\tlearn: 1534.9971443\ttotal: 1m 58s\tremaining: 25.1s\n",
      "825:\tlearn: 1534.8784543\ttotal: 1m 58s\tremaining: 25s\n",
      "826:\tlearn: 1534.7613877\ttotal: 1m 58s\tremaining: 24.9s\n",
      "827:\tlearn: 1534.6651334\ttotal: 1m 58s\tremaining: 24.7s\n",
      "828:\tlearn: 1534.6059600\ttotal: 1m 59s\tremaining: 24.6s\n",
      "829:\tlearn: 1534.5321742\ttotal: 1m 59s\tremaining: 24.4s\n",
      "830:\tlearn: 1534.4478378\ttotal: 1m 59s\tremaining: 24.3s\n",
      "831:\tlearn: 1534.2746911\ttotal: 1m 59s\tremaining: 24.1s\n",
      "832:\tlearn: 1534.1932860\ttotal: 1m 59s\tremaining: 24s\n",
      "833:\tlearn: 1534.1228574\ttotal: 1m 59s\tremaining: 23.9s\n",
      "834:\tlearn: 1534.0910469\ttotal: 1m 59s\tremaining: 23.7s\n",
      "835:\tlearn: 1534.0198648\ttotal: 2m\tremaining: 23.6s\n",
      "836:\tlearn: 1533.9810067\ttotal: 2m\tremaining: 23.4s\n",
      "837:\tlearn: 1533.7329307\ttotal: 2m\tremaining: 23.3s\n",
      "838:\tlearn: 1533.5810471\ttotal: 2m\tremaining: 23.1s\n",
      "839:\tlearn: 1533.5002939\ttotal: 2m\tremaining: 23s\n",
      "840:\tlearn: 1533.3959194\ttotal: 2m\tremaining: 22.9s\n",
      "841:\tlearn: 1533.3647507\ttotal: 2m 1s\tremaining: 22.7s\n",
      "842:\tlearn: 1533.2977405\ttotal: 2m 1s\tremaining: 22.6s\n",
      "843:\tlearn: 1533.1532773\ttotal: 2m 1s\tremaining: 22.4s\n",
      "844:\tlearn: 1533.0738599\ttotal: 2m 1s\tremaining: 22.3s\n",
      "845:\tlearn: 1532.9503865\ttotal: 2m 1s\tremaining: 22.1s\n",
      "846:\tlearn: 1532.8508459\ttotal: 2m 1s\tremaining: 22s\n",
      "847:\tlearn: 1532.8015202\ttotal: 2m 1s\tremaining: 21.9s\n",
      "848:\tlearn: 1532.7316613\ttotal: 2m 2s\tremaining: 21.7s\n",
      "849:\tlearn: 1532.6061694\ttotal: 2m 2s\tremaining: 21.6s\n",
      "850:\tlearn: 1532.4977424\ttotal: 2m 2s\tremaining: 21.4s\n",
      "851:\tlearn: 1532.3566571\ttotal: 2m 2s\tremaining: 21.3s\n",
      "852:\tlearn: 1532.2782275\ttotal: 2m 2s\tremaining: 21.1s\n",
      "853:\tlearn: 1532.1812686\ttotal: 2m 2s\tremaining: 21s\n",
      "854:\tlearn: 1532.0052090\ttotal: 2m 2s\tremaining: 20.8s\n",
      "855:\tlearn: 1531.7800026\ttotal: 2m 3s\tremaining: 20.7s\n",
      "856:\tlearn: 1531.6743739\ttotal: 2m 3s\tremaining: 20.6s\n",
      "857:\tlearn: 1531.6126052\ttotal: 2m 3s\tremaining: 20.4s\n",
      "858:\tlearn: 1531.5667300\ttotal: 2m 3s\tremaining: 20.3s\n",
      "859:\tlearn: 1531.4961397\ttotal: 2m 3s\tremaining: 20.1s\n",
      "860:\tlearn: 1531.3766309\ttotal: 2m 3s\tremaining: 20s\n",
      "861:\tlearn: 1531.2738284\ttotal: 2m 4s\tremaining: 19.9s\n",
      "862:\tlearn: 1531.1842215\ttotal: 2m 4s\tremaining: 19.7s\n",
      "863:\tlearn: 1531.1079080\ttotal: 2m 4s\tremaining: 19.6s\n",
      "864:\tlearn: 1531.0308752\ttotal: 2m 4s\tremaining: 19.4s\n",
      "865:\tlearn: 1530.9313964\ttotal: 2m 4s\tremaining: 19.3s\n",
      "866:\tlearn: 1530.9106755\ttotal: 2m 4s\tremaining: 19.2s\n",
      "867:\tlearn: 1530.8791366\ttotal: 2m 4s\tremaining: 19s\n",
      "868:\tlearn: 1530.8207373\ttotal: 2m 5s\tremaining: 18.9s\n",
      "869:\tlearn: 1530.6549781\ttotal: 2m 5s\tremaining: 18.7s\n",
      "870:\tlearn: 1530.5396967\ttotal: 2m 5s\tremaining: 18.6s\n",
      "871:\tlearn: 1530.4796014\ttotal: 2m 5s\tremaining: 18.4s\n",
      "872:\tlearn: 1530.4206387\ttotal: 2m 5s\tremaining: 18.3s\n",
      "873:\tlearn: 1530.3371768\ttotal: 2m 5s\tremaining: 18.1s\n",
      "874:\tlearn: 1530.2536686\ttotal: 2m 6s\tremaining: 18s\n",
      "875:\tlearn: 1530.2162208\ttotal: 2m 6s\tremaining: 17.9s\n",
      "876:\tlearn: 1530.1369960\ttotal: 2m 6s\tremaining: 17.7s\n",
      "877:\tlearn: 1530.0663760\ttotal: 2m 6s\tremaining: 17.6s\n",
      "878:\tlearn: 1529.9870994\ttotal: 2m 6s\tremaining: 17.4s\n",
      "879:\tlearn: 1529.8117754\ttotal: 2m 6s\tremaining: 17.3s\n",
      "880:\tlearn: 1529.7477374\ttotal: 2m 6s\tremaining: 17.1s\n",
      "881:\tlearn: 1529.6148530\ttotal: 2m 7s\tremaining: 17s\n",
      "882:\tlearn: 1529.5067001\ttotal: 2m 7s\tremaining: 16.9s\n",
      "883:\tlearn: 1529.4076720\ttotal: 2m 7s\tremaining: 16.7s\n",
      "884:\tlearn: 1529.3118365\ttotal: 2m 7s\tremaining: 16.6s\n",
      "885:\tlearn: 1529.2071057\ttotal: 2m 7s\tremaining: 16.4s\n",
      "886:\tlearn: 1529.0758326\ttotal: 2m 7s\tremaining: 16.3s\n",
      "887:\tlearn: 1528.9614515\ttotal: 2m 7s\tremaining: 16.1s\n",
      "888:\tlearn: 1528.8582751\ttotal: 2m 8s\tremaining: 16s\n",
      "889:\tlearn: 1528.7968361\ttotal: 2m 8s\tremaining: 15.8s\n",
      "890:\tlearn: 1528.7400687\ttotal: 2m 8s\tremaining: 15.7s\n",
      "891:\tlearn: 1528.7004082\ttotal: 2m 8s\tremaining: 15.6s\n",
      "892:\tlearn: 1528.6555084\ttotal: 2m 8s\tremaining: 15.4s\n",
      "893:\tlearn: 1528.5658986\ttotal: 2m 8s\tremaining: 15.3s\n",
      "894:\tlearn: 1528.4847113\ttotal: 2m 8s\tremaining: 15.1s\n",
      "895:\tlearn: 1528.4675014\ttotal: 2m 9s\tremaining: 15s\n",
      "896:\tlearn: 1528.3850063\ttotal: 2m 9s\tremaining: 14.8s\n",
      "897:\tlearn: 1528.3346411\ttotal: 2m 9s\tremaining: 14.7s\n",
      "898:\tlearn: 1528.2962332\ttotal: 2m 9s\tremaining: 14.6s\n",
      "899:\tlearn: 1528.2632183\ttotal: 2m 9s\tremaining: 14.4s\n",
      "900:\tlearn: 1528.1930985\ttotal: 2m 9s\tremaining: 14.3s\n",
      "901:\tlearn: 1528.0896272\ttotal: 2m 10s\tremaining: 14.1s\n",
      "902:\tlearn: 1528.0604795\ttotal: 2m 10s\tremaining: 14s\n",
      "903:\tlearn: 1527.8903883\ttotal: 2m 10s\tremaining: 13.8s\n",
      "904:\tlearn: 1527.7563559\ttotal: 2m 10s\tremaining: 13.7s\n",
      "905:\tlearn: 1527.7120682\ttotal: 2m 10s\tremaining: 13.6s\n",
      "906:\tlearn: 1527.6844319\ttotal: 2m 10s\tremaining: 13.4s\n",
      "907:\tlearn: 1527.6100157\ttotal: 2m 10s\tremaining: 13.3s\n",
      "908:\tlearn: 1527.5492456\ttotal: 2m 11s\tremaining: 13.1s\n",
      "909:\tlearn: 1527.4990224\ttotal: 2m 11s\tremaining: 13s\n",
      "910:\tlearn: 1527.4096062\ttotal: 2m 11s\tremaining: 12.8s\n",
      "911:\tlearn: 1527.3816697\ttotal: 2m 11s\tremaining: 12.7s\n",
      "912:\tlearn: 1527.2855532\ttotal: 2m 11s\tremaining: 12.5s\n",
      "913:\tlearn: 1527.2056040\ttotal: 2m 11s\tremaining: 12.4s\n",
      "914:\tlearn: 1527.1631886\ttotal: 2m 11s\tremaining: 12.3s\n",
      "915:\tlearn: 1527.0758331\ttotal: 2m 12s\tremaining: 12.1s\n",
      "916:\tlearn: 1527.0190820\ttotal: 2m 12s\tremaining: 12s\n",
      "917:\tlearn: 1526.9367696\ttotal: 2m 12s\tremaining: 11.8s\n",
      "918:\tlearn: 1526.8248290\ttotal: 2m 12s\tremaining: 11.7s\n",
      "919:\tlearn: 1526.7380821\ttotal: 2m 12s\tremaining: 11.5s\n",
      "920:\tlearn: 1526.5771364\ttotal: 2m 12s\tremaining: 11.4s\n",
      "921:\tlearn: 1526.3982252\ttotal: 2m 13s\tremaining: 11.3s\n",
      "922:\tlearn: 1526.3537639\ttotal: 2m 13s\tremaining: 11.1s\n",
      "923:\tlearn: 1526.2828119\ttotal: 2m 13s\tremaining: 11s\n",
      "924:\tlearn: 1526.1358450\ttotal: 2m 13s\tremaining: 10.8s\n",
      "925:\tlearn: 1526.0446883\ttotal: 2m 13s\tremaining: 10.7s\n",
      "926:\tlearn: 1525.8741465\ttotal: 2m 13s\tremaining: 10.5s\n",
      "927:\tlearn: 1525.6582139\ttotal: 2m 14s\tremaining: 10.4s\n",
      "928:\tlearn: 1525.6212722\ttotal: 2m 14s\tremaining: 10.3s\n",
      "929:\tlearn: 1525.5395477\ttotal: 2m 14s\tremaining: 10.1s\n",
      "930:\tlearn: 1525.4397638\ttotal: 2m 14s\tremaining: 9.96s\n",
      "931:\tlearn: 1525.4199604\ttotal: 2m 14s\tremaining: 9.82s\n",
      "932:\tlearn: 1525.3061400\ttotal: 2m 14s\tremaining: 9.68s\n",
      "933:\tlearn: 1525.2521301\ttotal: 2m 14s\tremaining: 9.53s\n",
      "934:\tlearn: 1525.1332854\ttotal: 2m 15s\tremaining: 9.39s\n",
      "935:\tlearn: 1525.0747285\ttotal: 2m 15s\tremaining: 9.25s\n",
      "936:\tlearn: 1524.9991668\ttotal: 2m 15s\tremaining: 9.1s\n",
      "937:\tlearn: 1524.9003434\ttotal: 2m 15s\tremaining: 8.96s\n",
      "938:\tlearn: 1524.7804642\ttotal: 2m 15s\tremaining: 8.81s\n",
      "939:\tlearn: 1524.6426532\ttotal: 2m 15s\tremaining: 8.67s\n",
      "940:\tlearn: 1524.4975806\ttotal: 2m 15s\tremaining: 8.52s\n",
      "941:\tlearn: 1524.3520116\ttotal: 2m 16s\tremaining: 8.38s\n",
      "942:\tlearn: 1524.2597796\ttotal: 2m 16s\tremaining: 8.24s\n",
      "943:\tlearn: 1524.2157900\ttotal: 2m 16s\tremaining: 8.09s\n",
      "944:\tlearn: 1524.1613755\ttotal: 2m 16s\tremaining: 7.95s\n",
      "945:\tlearn: 1524.1206715\ttotal: 2m 16s\tremaining: 7.81s\n",
      "946:\tlearn: 1524.0615437\ttotal: 2m 16s\tremaining: 7.66s\n",
      "947:\tlearn: 1524.0354889\ttotal: 2m 17s\tremaining: 7.52s\n",
      "948:\tlearn: 1523.9555149\ttotal: 2m 17s\tremaining: 7.37s\n",
      "949:\tlearn: 1523.6738369\ttotal: 2m 17s\tremaining: 7.22s\n",
      "950:\tlearn: 1523.5694551\ttotal: 2m 17s\tremaining: 7.08s\n",
      "951:\tlearn: 1523.5376514\ttotal: 2m 17s\tremaining: 6.93s\n",
      "952:\tlearn: 1523.5274361\ttotal: 2m 17s\tremaining: 6.79s\n",
      "953:\tlearn: 1523.4859428\ttotal: 2m 17s\tremaining: 6.65s\n",
      "954:\tlearn: 1523.3049291\ttotal: 2m 17s\tremaining: 6.5s\n",
      "955:\tlearn: 1523.2112570\ttotal: 2m 18s\tremaining: 6.36s\n",
      "956:\tlearn: 1523.0762525\ttotal: 2m 18s\tremaining: 6.21s\n",
      "957:\tlearn: 1522.9364448\ttotal: 2m 18s\tremaining: 6.07s\n",
      "958:\tlearn: 1522.8354695\ttotal: 2m 18s\tremaining: 5.93s\n",
      "959:\tlearn: 1522.7496460\ttotal: 2m 18s\tremaining: 5.78s\n",
      "960:\tlearn: 1522.7447859\ttotal: 2m 18s\tremaining: 5.64s\n",
      "961:\tlearn: 1522.6566394\ttotal: 2m 19s\tremaining: 5.5s\n",
      "962:\tlearn: 1522.5935882\ttotal: 2m 19s\tremaining: 5.35s\n",
      "963:\tlearn: 1522.5209632\ttotal: 2m 19s\tremaining: 5.21s\n",
      "964:\tlearn: 1522.4794839\ttotal: 2m 19s\tremaining: 5.06s\n",
      "965:\tlearn: 1522.3683825\ttotal: 2m 19s\tremaining: 4.92s\n",
      "966:\tlearn: 1522.2514787\ttotal: 2m 19s\tremaining: 4.78s\n",
      "967:\tlearn: 1522.1463751\ttotal: 2m 20s\tremaining: 4.63s\n",
      "968:\tlearn: 1521.9076330\ttotal: 2m 20s\tremaining: 4.49s\n",
      "969:\tlearn: 1521.8589473\ttotal: 2m 20s\tremaining: 4.34s\n",
      "970:\tlearn: 1521.7618414\ttotal: 2m 20s\tremaining: 4.2s\n",
      "971:\tlearn: 1521.6429960\ttotal: 2m 20s\tremaining: 4.05s\n",
      "972:\tlearn: 1521.6078540\ttotal: 2m 20s\tremaining: 3.91s\n",
      "973:\tlearn: 1521.5097999\ttotal: 2m 20s\tremaining: 3.76s\n",
      "974:\tlearn: 1521.4296358\ttotal: 2m 21s\tremaining: 3.62s\n",
      "975:\tlearn: 1521.2867527\ttotal: 2m 21s\tremaining: 3.47s\n",
      "976:\tlearn: 1521.1956906\ttotal: 2m 21s\tremaining: 3.33s\n",
      "977:\tlearn: 1520.9340222\ttotal: 2m 21s\tremaining: 3.18s\n",
      "978:\tlearn: 1520.8821666\ttotal: 2m 21s\tremaining: 3.04s\n",
      "979:\tlearn: 1520.8274024\ttotal: 2m 21s\tremaining: 2.89s\n",
      "980:\tlearn: 1520.6847602\ttotal: 2m 21s\tremaining: 2.75s\n",
      "981:\tlearn: 1520.5207560\ttotal: 2m 22s\tremaining: 2.6s\n",
      "982:\tlearn: 1520.4685718\ttotal: 2m 22s\tremaining: 2.46s\n",
      "983:\tlearn: 1520.3064412\ttotal: 2m 22s\tremaining: 2.32s\n",
      "984:\tlearn: 1520.1888872\ttotal: 2m 22s\tremaining: 2.17s\n",
      "985:\tlearn: 1520.1161621\ttotal: 2m 22s\tremaining: 2.03s\n",
      "986:\tlearn: 1520.1014343\ttotal: 2m 22s\tremaining: 1.88s\n",
      "987:\tlearn: 1520.0392101\ttotal: 2m 23s\tremaining: 1.74s\n",
      "988:\tlearn: 1519.9370707\ttotal: 2m 23s\tremaining: 1.59s\n",
      "989:\tlearn: 1519.8792207\ttotal: 2m 23s\tremaining: 1.45s\n",
      "990:\tlearn: 1519.8397184\ttotal: 2m 23s\tremaining: 1.3s\n",
      "991:\tlearn: 1519.7870308\ttotal: 2m 23s\tremaining: 1.16s\n",
      "992:\tlearn: 1519.6574136\ttotal: 2m 23s\tremaining: 1.01s\n",
      "993:\tlearn: 1519.5999150\ttotal: 2m 23s\tremaining: 869ms\n",
      "994:\tlearn: 1519.5959471\ttotal: 2m 24s\tremaining: 724ms\n",
      "995:\tlearn: 1519.5149166\ttotal: 2m 24s\tremaining: 579ms\n",
      "996:\tlearn: 1519.3935129\ttotal: 2m 24s\tremaining: 435ms\n",
      "997:\tlearn: 1519.3345333\ttotal: 2m 24s\tremaining: 290ms\n",
      "998:\tlearn: 1519.1770621\ttotal: 2m 24s\tremaining: 145ms\n",
      "999:\tlearn: 1519.1016389\ttotal: 2m 24s\tremaining: 0us\n"
     ]
    }
   ],
   "source": [
    "time1 = time.time()\n",
    "model.fit(features_train2, target_train2)\n",
    "time2 = time.time()\n",
    "CBfit = time2 - time1"
   ]
  },
  {
   "cell_type": "code",
   "execution_count": null,
   "metadata": {
    "id": "HXPnJuDWfH-F"
   },
   "outputs": [],
   "source": [
    "time1 = time.time()\n",
    "predictions = model.predict(features_test2)\n",
    "time2 = time.time()\n",
    "CBpred = time2 - time1"
   ]
  },
  {
   "cell_type": "code",
   "execution_count": null,
   "metadata": {
    "id": "WFsJlkxJfH-F"
   },
   "outputs": [],
   "source": [
    "CBscore = (mean_squared_error(target_test2, predictions))**0.5"
   ]
  },
  {
   "cell_type": "code",
   "execution_count": null,
   "metadata": {
    "colab": {
     "base_uri": "https://localhost:8080/"
    },
    "id": "sJvDFVIUfH-F",
    "outputId": "3c9a3a6a-3295-4c36-c09a-4e31302780c3"
   },
   "outputs": [
    {
     "data": {
      "text/plain": [
       "1574.228630318764"
      ]
     },
     "execution_count": 65,
     "metadata": {
      "tags": []
     },
     "output_type": "execute_result"
    }
   ],
   "source": [
    "CBscore"
   ]
  },
  {
   "cell_type": "code",
   "execution_count": null,
   "metadata": {
    "colab": {
     "base_uri": "https://localhost:8080/"
    },
    "id": "6MX3BukrfH-G",
    "outputId": "d16061a8-339e-4e3f-bf21-3e7cfcb9d3ed"
   },
   "outputs": [
    {
     "data": {
      "text/plain": [
       "146.62268829345703"
      ]
     },
     "execution_count": 66,
     "metadata": {
      "tags": []
     },
     "output_type": "execute_result"
    }
   ],
   "source": [
    "CBfit"
   ]
  },
  {
   "cell_type": "code",
   "execution_count": null,
   "metadata": {
    "colab": {
     "base_uri": "https://localhost:8080/"
    },
    "id": "Lt2CY2x2fH-G",
    "outputId": "626734f2-be10-4406-aa31-2d7db4dda6ab"
   },
   "outputs": [
    {
     "data": {
      "text/plain": [
       "0.5155496597290039"
      ]
     },
     "execution_count": 67,
     "metadata": {
      "tags": []
     },
     "output_type": "execute_result"
    }
   ],
   "source": [
    "CBpred"
   ]
  },
  {
   "cell_type": "code",
   "execution_count": null,
   "metadata": {
    "colab": {
     "base_uri": "https://localhost:8080/"
    },
    "id": "8DUtASjng-Z4",
    "outputId": "ddfb70ce-bb98-4cb8-c43a-43a3b9e78cfc"
   },
   "outputs": [
    {
     "name": "stdout",
     "output_type": "stream",
     "text": [
      "Fitting 5 folds for each of 10 candidates, totalling 50 fits\n",
      "[Parallel(n_jobs=-1)]: Using backend LokyBackend with 2 concurrent workers.\n",
      "[Parallel(n_jobs=-1)]: Done   1 tasks      | elapsed:  3.8min\n",
      "[Parallel(n_jobs=-1)]: Done   2 tasks      | elapsed:  3.8min\n",
      "[Parallel(n_jobs=-1)]: Done   3 tasks      | elapsed:  7.5min\n"
     ]
    },
    {
     "name": "stderr",
     "output_type": "stream",
     "text": [
      "/usr/local/lib/python3.7/dist-packages/joblib/externals/loky/process_executor.py:691: UserWarning: A worker stopped while some jobs were given to the executor. This can be caused by a too short worker timeout or by a memory leak.\n",
      "  \"timeout or by a memory leak.\", UserWarning\n"
     ]
    },
    {
     "name": "stdout",
     "output_type": "stream",
     "text": [
      "[Parallel(n_jobs=-1)]: Done   4 tasks      | elapsed:  7.5min\n",
      "[Parallel(n_jobs=-1)]: Done   5 tasks      | elapsed: 11.2min\n",
      "[Parallel(n_jobs=-1)]: Done   6 tasks      | elapsed: 11.9min\n",
      "[Parallel(n_jobs=-1)]: Done   7 tasks      | elapsed: 15.6min\n",
      "[Parallel(n_jobs=-1)]: Done   8 tasks      | elapsed: 16.2min\n",
      "[Parallel(n_jobs=-1)]: Done   9 tasks      | elapsed: 19.9min\n",
      "[Parallel(n_jobs=-1)]: Done  10 tasks      | elapsed: 20.5min\n",
      "[Parallel(n_jobs=-1)]: Done  11 tasks      | elapsed: 22.3min\n",
      "[Parallel(n_jobs=-1)]: Done  12 tasks      | elapsed: 23.0min\n",
      "[Parallel(n_jobs=-1)]: Done  13 tasks      | elapsed: 24.8min\n",
      "[Parallel(n_jobs=-1)]: Done  14 tasks      | elapsed: 25.4min\n",
      "[Parallel(n_jobs=-1)]: Done  15 tasks      | elapsed: 27.2min\n",
      "[Parallel(n_jobs=-1)]: Done  16 tasks      | elapsed: 29.0min\n",
      "[Parallel(n_jobs=-1)]: Done  17 tasks      | elapsed: 31.0min\n",
      "[Parallel(n_jobs=-1)]: Done  18 tasks      | elapsed: 32.8min\n",
      "[Parallel(n_jobs=-1)]: Done  19 tasks      | elapsed: 34.7min\n",
      "[Parallel(n_jobs=-1)]: Done  20 tasks      | elapsed: 36.4min\n",
      "[Parallel(n_jobs=-1)]: Done  21 tasks      | elapsed: 37.1min\n",
      "[Parallel(n_jobs=-1)]: Done  22 tasks      | elapsed: 38.8min\n",
      "[Parallel(n_jobs=-1)]: Done  23 tasks      | elapsed: 39.5min\n",
      "[Parallel(n_jobs=-1)]: Done  24 tasks      | elapsed: 41.3min\n",
      "[Parallel(n_jobs=-1)]: Done  25 tasks      | elapsed: 42.0min\n",
      "[Parallel(n_jobs=-1)]: Done  26 tasks      | elapsed: 44.3min\n",
      "[Parallel(n_jobs=-1)]: Done  27 tasks      | elapsed: 45.1min\n",
      "[Parallel(n_jobs=-1)]: Done  28 tasks      | elapsed: 47.4min\n",
      "[Parallel(n_jobs=-1)]: Done  29 tasks      | elapsed: 48.1min\n",
      "[Parallel(n_jobs=-1)]: Done  30 tasks      | elapsed: 50.5min\n",
      "[Parallel(n_jobs=-1)]: Done  31 tasks      | elapsed: 56.9min\n",
      "[Parallel(n_jobs=-1)]: Done  32 tasks      | elapsed: 59.3min\n",
      "[Parallel(n_jobs=-1)]: Done  33 tasks      | elapsed: 65.6min\n",
      "[Parallel(n_jobs=-1)]: Done  34 tasks      | elapsed: 68.1min\n",
      "[Parallel(n_jobs=-1)]: Done  35 tasks      | elapsed: 74.4min\n",
      "[Parallel(n_jobs=-1)]: Done  36 tasks      | elapsed: 79.1min\n",
      "[Parallel(n_jobs=-1)]: Done  37 tasks      | elapsed: 85.4min\n",
      "[Parallel(n_jobs=-1)]: Done  38 tasks      | elapsed: 90.0min\n",
      "[Parallel(n_jobs=-1)]: Done  39 tasks      | elapsed: 96.5min\n",
      "[Parallel(n_jobs=-1)]: Done  40 tasks      | elapsed: 101.1min\n",
      "[Parallel(n_jobs=-1)]: Done  41 tasks      | elapsed: 102.3min\n",
      "[Parallel(n_jobs=-1)]: Done  42 tasks      | elapsed: 106.9min\n",
      "[Parallel(n_jobs=-1)]: Done  43 tasks      | elapsed: 108.1min\n",
      "[Parallel(n_jobs=-1)]: Done  44 tasks      | elapsed: 112.6min\n",
      "[Parallel(n_jobs=-1)]: Done  45 tasks      | elapsed: 113.8min\n",
      "[Parallel(n_jobs=-1)]: Done  46 tasks      | elapsed: 118.3min\n",
      "[Parallel(n_jobs=-1)]: Done  47 tasks      | elapsed: 119.5min\n",
      "[Parallel(n_jobs=-1)]: Done  48 out of  50 | elapsed: 123.9min remaining:  5.2min\n",
      "[Parallel(n_jobs=-1)]: Done  50 out of  50 | elapsed: 127.9min remaining:    0.0s\n",
      "[Parallel(n_jobs=-1)]: Done  50 out of  50 | elapsed: 127.9min finished\n",
      "[21:36:53] WARNING: /workspace/src/objective/regression_obj.cu:152: reg:linear is now deprecated in favor of reg:squarederror.\n"
     ]
    },
    {
     "data": {
      "text/plain": [
       "RandomizedSearchCV(cv=5, error_score=nan,\n",
       "                   estimator=XGBRegressor(base_score=0.5, booster='gbtree',\n",
       "                                          colsample_bylevel=1,\n",
       "                                          colsample_bynode=1,\n",
       "                                          colsample_bytree=1, gamma=0,\n",
       "                                          importance_type='gain',\n",
       "                                          learning_rate=0.1, max_delta_step=0,\n",
       "                                          max_depth=3, min_child_weight=1,\n",
       "                                          missing=None, n_estimators=100,\n",
       "                                          n_jobs=1, nthread=None,\n",
       "                                          objective='reg:linear',\n",
       "                                          random_state=4, reg_alpha=0,\n",
       "                                          reg_lambda=1, scale_pos_weight=1,\n",
       "                                          seed=None, silent=None, subsample=1,\n",
       "                                          verbosity=1),\n",
       "                   iid='deprecated', n_iter=10, n_jobs=-1,\n",
       "                   param_distributions={'learning_rate': [0.05, 0.1, 0.15, 0.2,\n",
       "                                                          0.25, 0.3],\n",
       "                                        'max_depth': [3, 4, 5, 6, 8, 10, 12,\n",
       "                                                      15],\n",
       "                                        'min_child_weight': [1, 3, 5, 7]},\n",
       "                   pre_dispatch='2*n_jobs', random_state=4, refit=True,\n",
       "                   return_train_score=False, scoring='neg_mean_squared_error',\n",
       "                   verbose=1000)"
      ]
     },
     "execution_count": 68,
     "metadata": {
      "tags": []
     },
     "output_type": "execute_result"
    }
   ],
   "source": [
    "model = XGBRegressor(random_state = 4)\n",
    "grid = {\"learning_rate\"    : [0.05, 0.10, 0.15, 0.20, 0.25, 0.30 ] ,\n",
    "         \"max_depth\"        : [ 3, 4, 5, 6, 8, 10, 12, 15],\n",
    "         \"min_child_weight\" : [ 1, 3, 5, 7 ]}\n",
    "XGBrs = RandomizedSearchCV(model, param_distributions = grid, n_iter = 10, random_state = 4\n",
    "                                   , scoring = 'neg_mean_squared_error', n_jobs = - 1, cv = 5, verbose = 1000)\n",
    "XGBrs.fit(features_train, target_train)"
   ]
  },
  {
   "cell_type": "code",
   "execution_count": null,
   "metadata": {
    "colab": {
     "base_uri": "https://localhost:8080/"
    },
    "id": "Y4XvJeWRnM3e",
    "outputId": "f811cfc1-f83b-40d4-c42f-dea287a8bc03"
   },
   "outputs": [
    {
     "data": {
      "text/plain": [
       "{'learning_rate': 0.25, 'max_depth': 12, 'min_child_weight': 1}"
      ]
     },
     "execution_count": 69,
     "metadata": {
      "tags": []
     },
     "output_type": "execute_result"
    }
   ],
   "source": [
    "XGBrs.best_params_"
   ]
  },
  {
   "cell_type": "code",
   "execution_count": null,
   "metadata": {
    "colab": {
     "base_uri": "https://localhost:8080/"
    },
    "id": "GlYDPfAhnNEG",
    "outputId": "287640b4-da28-484b-ca1f-c447ba89482c"
   },
   "outputs": [
    {
     "data": {
      "text/plain": [
       "1550.9871579793576"
      ]
     },
     "execution_count": 70,
     "metadata": {
      "tags": []
     },
     "output_type": "execute_result"
    }
   ],
   "source": [
    "(abs(XGBrs.best_score_))**0.5"
   ]
  },
  {
   "cell_type": "code",
   "execution_count": null,
   "metadata": {
    "id": "gaOsjydvfH-H"
   },
   "outputs": [],
   "source": [
    "model = XGBRegressor(random_state = 4, min_child_weight = 1, max_depth = 12, learning_rate = 0.25)"
   ]
  },
  {
   "cell_type": "code",
   "execution_count": null,
   "metadata": {
    "colab": {
     "base_uri": "https://localhost:8080/"
    },
    "id": "-UJp3fwVfH-H",
    "outputId": "0fc136df-a15b-4658-c5a8-3a682f9c9d02",
    "scrolled": true
   },
   "outputs": [
    {
     "name": "stdout",
     "output_type": "stream",
     "text": [
      "[21:43:43] WARNING: /workspace/src/objective/regression_obj.cu:152: reg:linear is now deprecated in favor of reg:squarederror.\n"
     ]
    }
   ],
   "source": [
    "time1 = time.time()\n",
    "model.fit(features_train, target_train)\n",
    "time2 = time.time()\n",
    "XGBfit = time2 - time1"
   ]
  },
  {
   "cell_type": "code",
   "execution_count": null,
   "metadata": {
    "id": "NX2iCtwCfH-I"
   },
   "outputs": [],
   "source": [
    "time1 = time.time()\n",
    "predictions = model.predict(features_test)\n",
    "time2 = time.time()\n",
    "XGBpred = time2 - time1"
   ]
  },
  {
   "cell_type": "code",
   "execution_count": null,
   "metadata": {
    "id": "HYeORLXcfH-I"
   },
   "outputs": [],
   "source": [
    "XGBscore = (mean_squared_error(target_test, predictions))**0.5"
   ]
  },
  {
   "cell_type": "code",
   "execution_count": null,
   "metadata": {
    "colab": {
     "base_uri": "https://localhost:8080/"
    },
    "id": "5W7EDdZcfH-I",
    "outputId": "04209d80-f052-4ed9-964d-465e8283b13b"
   },
   "outputs": [
    {
     "data": {
      "text/plain": [
       "1525.621341808192"
      ]
     },
     "execution_count": 75,
     "metadata": {
      "tags": []
     },
     "output_type": "execute_result"
    }
   ],
   "source": [
    "XGBscore"
   ]
  },
  {
   "cell_type": "code",
   "execution_count": null,
   "metadata": {
    "colab": {
     "base_uri": "https://localhost:8080/"
    },
    "id": "xpLiF7hpfH-J",
    "outputId": "e8ad2467-15c1-46a1-970f-89521d55c0b1"
   },
   "outputs": [
    {
     "data": {
      "text/plain": [
       "(413.4758086204529, 1.1272900104522705)"
      ]
     },
     "execution_count": 76,
     "metadata": {
      "tags": []
     },
     "output_type": "execute_result"
    }
   ],
   "source": [
    "XGBfit, XGBpred"
   ]
  },
  {
   "cell_type": "markdown",
   "metadata": {
    "id": "Ffl9ZOvpfH-J"
   },
   "source": [
    "Рандомсерчем посчитал для некоторых моделей лучшие параметры с кросс-валидацей. Посчитал рмсе, время обучения и время предикта для всех моделей."
   ]
  },
  {
   "cell_type": "markdown",
   "metadata": {
    "id": "VTQ_iYmEfH-K"
   },
   "source": [
    "## Анализ моделей"
   ]
  },
  {
   "cell_type": "code",
   "execution_count": null,
   "metadata": {
    "id": "YPHpi5IzfH-K"
   },
   "outputs": [],
   "source": [
    "res = pd.DataFrame({'LR':[LRscore, LRfit, LRpred],\n",
    "                    'LGBM':[LGBscore, LGBfit, LGBpred],\n",
    "                    'CB':[CBscore, CBfit, CBpred],\n",
    "                    'XGB':[XGBscore, XGBfit, XGBpred]})"
   ]
  },
  {
   "cell_type": "code",
   "execution_count": null,
   "metadata": {
    "colab": {
     "base_uri": "https://localhost:8080/",
     "height": 142
    },
    "id": "XTXGobyWfH-K",
    "outputId": "d5ab7844-cd5c-4130-9b0f-54c5d23066b4"
   },
   "outputs": [
    {
     "data": {
      "text/html": [
       "<div>\n",
       "<style scoped>\n",
       "    .dataframe tbody tr th:only-of-type {\n",
       "        vertical-align: middle;\n",
       "    }\n",
       "\n",
       "    .dataframe tbody tr th {\n",
       "        vertical-align: top;\n",
       "    }\n",
       "\n",
       "    .dataframe thead th {\n",
       "        text-align: right;\n",
       "    }\n",
       "</style>\n",
       "<table border=\"1\" class=\"dataframe\">\n",
       "  <thead>\n",
       "    <tr style=\"text-align: right;\">\n",
       "      <th></th>\n",
       "      <th>LR</th>\n",
       "      <th>LGBM</th>\n",
       "      <th>CB</th>\n",
       "      <th>XGB</th>\n",
       "    </tr>\n",
       "  </thead>\n",
       "  <tbody>\n",
       "    <tr>\n",
       "      <th>0</th>\n",
       "      <td>2706.463551</td>\n",
       "      <td>3522.464575</td>\n",
       "      <td>1574.228630</td>\n",
       "      <td>1525.621342</td>\n",
       "    </tr>\n",
       "    <tr>\n",
       "      <th>1</th>\n",
       "      <td>5.622780</td>\n",
       "      <td>1.787525</td>\n",
       "      <td>146.622688</td>\n",
       "      <td>413.475809</td>\n",
       "    </tr>\n",
       "    <tr>\n",
       "      <th>2</th>\n",
       "      <td>0.128487</td>\n",
       "      <td>0.534815</td>\n",
       "      <td>0.515550</td>\n",
       "      <td>1.127290</td>\n",
       "    </tr>\n",
       "  </tbody>\n",
       "</table>\n",
       "</div>"
      ],
      "text/plain": [
       "            LR         LGBM           CB          XGB\n",
       "0  2706.463551  3522.464575  1574.228630  1525.621342\n",
       "1     5.622780     1.787525   146.622688   413.475809\n",
       "2     0.128487     0.534815     0.515550     1.127290"
      ]
     },
     "execution_count": 78,
     "metadata": {
      "tags": []
     },
     "output_type": "execute_result"
    }
   ],
   "source": [
    "res"
   ]
  },
  {
   "cell_type": "code",
   "execution_count": null,
   "metadata": {
    "id": "MzGOR5LRfH-K"
   },
   "outputs": [],
   "source": [
    "res.index = ['score','fit_time','pred_time']"
   ]
  },
  {
   "cell_type": "markdown",
   "metadata": {
    "id": "p4faCPOjfH-K"
   },
   "source": [
    "В итоге получаю:"
   ]
  },
  {
   "cell_type": "code",
   "execution_count": null,
   "metadata": {
    "colab": {
     "base_uri": "https://localhost:8080/",
     "height": 142
    },
    "id": "O6Pr02HkfH-K",
    "outputId": "2d6f1735-1cb3-4cad-8e4a-d60b472b2817"
   },
   "outputs": [
    {
     "data": {
      "text/html": [
       "<div>\n",
       "<style scoped>\n",
       "    .dataframe tbody tr th:only-of-type {\n",
       "        vertical-align: middle;\n",
       "    }\n",
       "\n",
       "    .dataframe tbody tr th {\n",
       "        vertical-align: top;\n",
       "    }\n",
       "\n",
       "    .dataframe thead th {\n",
       "        text-align: right;\n",
       "    }\n",
       "</style>\n",
       "<table border=\"1\" class=\"dataframe\">\n",
       "  <thead>\n",
       "    <tr style=\"text-align: right;\">\n",
       "      <th></th>\n",
       "      <th>LR</th>\n",
       "      <th>LGBM</th>\n",
       "      <th>CB</th>\n",
       "      <th>XGB</th>\n",
       "    </tr>\n",
       "  </thead>\n",
       "  <tbody>\n",
       "    <tr>\n",
       "      <th>score</th>\n",
       "      <td>2706.463551</td>\n",
       "      <td>3522.464575</td>\n",
       "      <td>1574.228630</td>\n",
       "      <td>1525.621342</td>\n",
       "    </tr>\n",
       "    <tr>\n",
       "      <th>fit_time</th>\n",
       "      <td>5.622780</td>\n",
       "      <td>1.787525</td>\n",
       "      <td>146.622688</td>\n",
       "      <td>413.475809</td>\n",
       "    </tr>\n",
       "    <tr>\n",
       "      <th>pred_time</th>\n",
       "      <td>0.128487</td>\n",
       "      <td>0.534815</td>\n",
       "      <td>0.515550</td>\n",
       "      <td>1.127290</td>\n",
       "    </tr>\n",
       "  </tbody>\n",
       "</table>\n",
       "</div>"
      ],
      "text/plain": [
       "                    LR         LGBM           CB          XGB\n",
       "score      2706.463551  3522.464575  1574.228630  1525.621342\n",
       "fit_time      5.622780     1.787525   146.622688   413.475809\n",
       "pred_time     0.128487     0.534815     0.515550     1.127290"
      ]
     },
     "execution_count": 80,
     "metadata": {
      "tags": []
     },
     "output_type": "execute_result"
    }
   ],
   "source": [
    "res"
   ]
  },
  {
   "cell_type": "markdown",
   "metadata": {
    "id": "PmDWeUOSfH-L"
   },
   "source": [
    "XGBoost выдал самое низкое значение рмсе, но при этом самое долгое время обучения."
   ]
  }
 ],
 "metadata": {
  "colab": {
   "collapsed_sections": [],
   "name": "studying-ml-4.ipynb",
   "provenance": []
  },
  "kernelspec": {
   "display_name": "Python 3",
   "language": "python",
   "name": "python3"
  },
  "language_info": {
   "codemirror_mode": {
    "name": "ipython",
    "version": 3
   },
   "file_extension": ".py",
   "mimetype": "text/x-python",
   "name": "python",
   "nbconvert_exporter": "python",
   "pygments_lexer": "ipython3",
   "version": "3.7.6"
  },
  "toc": {
   "base_numbering": 1,
   "nav_menu": {},
   "number_sections": true,
   "sideBar": true,
   "skip_h1_title": false,
   "title_cell": "Table of Contents",
   "title_sidebar": "Contents",
   "toc_cell": false,
   "toc_position": {},
   "toc_section_display": true,
   "toc_window_display": false
  }
 },
 "nbformat": 4,
 "nbformat_minor": 1
}
