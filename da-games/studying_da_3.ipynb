{
 "cells": [
  {
   "cell_type": "markdown",
   "metadata": {},
   "source": [
    "## Описание данных\n",
    "---\n",
    "-    `Name` — название игры\n",
    "-    `Platform` — платформа\n",
    "-    `Year_of_Release` — год выпуска\n",
    "-    `Genre` — жанр игры\n",
    "-    `NA_sales` — продажи в Северной Америке (миллионы проданных копий)\n",
    "-    `EU_sales` — продажи в Европе (миллионы проданных копий)\n",
    "-    `JP_sales` — продажи в Японии (миллионы проданных копий)\n",
    "-    `Other_sales` — продажи в других странах (миллионы проданных копий)\n",
    "-    `Critic_Score` — оценка критиков (максимум 100)\n",
    "-    `User_Score` — оценка пользователей (максимум 10)\n",
    "-    `Rating` — рейтинг от организации ESRB (англ. Entertainment Software Rating Board). Эта ассоциация определяет рейтинг компьютерных игр и присваивает им подходящую возрастную категорию."
   ]
  },
  {
   "cell_type": "code",
   "execution_count": null,
   "metadata": {
    "colab": {
     "base_uri": "https://localhost:8080/"
    },
    "id": "g5hAWefoSCe_",
    "outputId": "5abcc4ca-e3a7-4d63-cf47-db85b4e55b50"
   },
   "outputs": [
    {
     "name": "stdout",
     "output_type": "stream",
     "text": [
      "Mounted at /content/drive\n"
     ]
    }
   ],
   "source": [
    "from google.colab import drive\n",
    "drive.mount('/content/drive')"
   ]
  },
  {
   "cell_type": "markdown",
   "metadata": {
    "id": "RKRwcV1MFW_L"
   },
   "source": [
    "## Предобработка и обзор данных"
   ]
  },
  {
   "cell_type": "code",
   "execution_count": null,
   "metadata": {
    "id": "Rm5KXprkCRLw"
   },
   "outputs": [],
   "source": [
    "import pandas as pd\n",
    "import numpy as np\n",
    "import matplotlib.pyplot as plt\n",
    "import scipy.stats as st"
   ]
  },
  {
   "cell_type": "code",
   "execution_count": null,
   "metadata": {
    "id": "Twu8ZvwVCRLx"
   },
   "outputs": [],
   "source": [
    "df = pd.read_csv('/content/drive/MyDrive/Data/da-3-games.csv')"
   ]
  },
  {
   "cell_type": "code",
   "execution_count": null,
   "metadata": {
    "colab": {
     "base_uri": "https://localhost:8080/",
     "height": 204
    },
    "id": "0Qv8yOG9CRLx",
    "outputId": "15fced03-dc11-4028-9d1f-db3125ee05c2"
   },
   "outputs": [
    {
     "data": {
      "text/html": [
       "<div>\n",
       "<style scoped>\n",
       "    .dataframe tbody tr th:only-of-type {\n",
       "        vertical-align: middle;\n",
       "    }\n",
       "\n",
       "    .dataframe tbody tr th {\n",
       "        vertical-align: top;\n",
       "    }\n",
       "\n",
       "    .dataframe thead th {\n",
       "        text-align: right;\n",
       "    }\n",
       "</style>\n",
       "<table border=\"1\" class=\"dataframe\">\n",
       "  <thead>\n",
       "    <tr style=\"text-align: right;\">\n",
       "      <th></th>\n",
       "      <th>Name</th>\n",
       "      <th>Platform</th>\n",
       "      <th>Year_of_Release</th>\n",
       "      <th>Genre</th>\n",
       "      <th>NA_sales</th>\n",
       "      <th>EU_sales</th>\n",
       "      <th>JP_sales</th>\n",
       "      <th>Other_sales</th>\n",
       "      <th>Critic_Score</th>\n",
       "      <th>User_Score</th>\n",
       "      <th>Rating</th>\n",
       "    </tr>\n",
       "  </thead>\n",
       "  <tbody>\n",
       "    <tr>\n",
       "      <th>0</th>\n",
       "      <td>Wii Sports</td>\n",
       "      <td>Wii</td>\n",
       "      <td>2006.0</td>\n",
       "      <td>Sports</td>\n",
       "      <td>41.36</td>\n",
       "      <td>28.96</td>\n",
       "      <td>3.77</td>\n",
       "      <td>8.45</td>\n",
       "      <td>76.0</td>\n",
       "      <td>8</td>\n",
       "      <td>E</td>\n",
       "    </tr>\n",
       "    <tr>\n",
       "      <th>1</th>\n",
       "      <td>Super Mario Bros.</td>\n",
       "      <td>NES</td>\n",
       "      <td>1985.0</td>\n",
       "      <td>Platform</td>\n",
       "      <td>29.08</td>\n",
       "      <td>3.58</td>\n",
       "      <td>6.81</td>\n",
       "      <td>0.77</td>\n",
       "      <td>NaN</td>\n",
       "      <td>NaN</td>\n",
       "      <td>NaN</td>\n",
       "    </tr>\n",
       "    <tr>\n",
       "      <th>2</th>\n",
       "      <td>Mario Kart Wii</td>\n",
       "      <td>Wii</td>\n",
       "      <td>2008.0</td>\n",
       "      <td>Racing</td>\n",
       "      <td>15.68</td>\n",
       "      <td>12.76</td>\n",
       "      <td>3.79</td>\n",
       "      <td>3.29</td>\n",
       "      <td>82.0</td>\n",
       "      <td>8.3</td>\n",
       "      <td>E</td>\n",
       "    </tr>\n",
       "    <tr>\n",
       "      <th>3</th>\n",
       "      <td>Wii Sports Resort</td>\n",
       "      <td>Wii</td>\n",
       "      <td>2009.0</td>\n",
       "      <td>Sports</td>\n",
       "      <td>15.61</td>\n",
       "      <td>10.93</td>\n",
       "      <td>3.28</td>\n",
       "      <td>2.95</td>\n",
       "      <td>80.0</td>\n",
       "      <td>8</td>\n",
       "      <td>E</td>\n",
       "    </tr>\n",
       "    <tr>\n",
       "      <th>4</th>\n",
       "      <td>Pokemon Red/Pokemon Blue</td>\n",
       "      <td>GB</td>\n",
       "      <td>1996.0</td>\n",
       "      <td>Role-Playing</td>\n",
       "      <td>11.27</td>\n",
       "      <td>8.89</td>\n",
       "      <td>10.22</td>\n",
       "      <td>1.00</td>\n",
       "      <td>NaN</td>\n",
       "      <td>NaN</td>\n",
       "      <td>NaN</td>\n",
       "    </tr>\n",
       "  </tbody>\n",
       "</table>\n",
       "</div>"
      ],
      "text/plain": [
       "                       Name Platform  ...  User_Score Rating\n",
       "0                Wii Sports      Wii  ...           8      E\n",
       "1         Super Mario Bros.      NES  ...         NaN    NaN\n",
       "2            Mario Kart Wii      Wii  ...         8.3      E\n",
       "3         Wii Sports Resort      Wii  ...           8      E\n",
       "4  Pokemon Red/Pokemon Blue       GB  ...         NaN    NaN\n",
       "\n",
       "[5 rows x 11 columns]"
      ]
     },
     "execution_count": 4,
     "metadata": {
      "tags": []
     },
     "output_type": "execute_result"
    }
   ],
   "source": [
    "df.head()"
   ]
  },
  {
   "cell_type": "code",
   "execution_count": null,
   "metadata": {
    "colab": {
     "base_uri": "https://localhost:8080/"
    },
    "id": "rHpB62eqCRLy",
    "outputId": "1e150951-e5e4-4c21-c897-f182eb57781b"
   },
   "outputs": [
    {
     "data": {
      "text/plain": [
       "0"
      ]
     },
     "execution_count": 5,
     "metadata": {
      "tags": []
     },
     "output_type": "execute_result"
    }
   ],
   "source": [
    "df.duplicated().sum()"
   ]
  },
  {
   "cell_type": "code",
   "execution_count": null,
   "metadata": {
    "colab": {
     "base_uri": "https://localhost:8080/"
    },
    "id": "mAmsVWoGCRLy",
    "outputId": "edc193d4-a65c-4c68-e7ec-bfd52a763db5"
   },
   "outputs": [
    {
     "name": "stdout",
     "output_type": "stream",
     "text": [
      "<class 'pandas.core.frame.DataFrame'>\n",
      "RangeIndex: 16715 entries, 0 to 16714\n",
      "Data columns (total 11 columns):\n",
      " #   Column           Non-Null Count  Dtype  \n",
      "---  ------           --------------  -----  \n",
      " 0   Name             16713 non-null  object \n",
      " 1   Platform         16715 non-null  object \n",
      " 2   Year_of_Release  16446 non-null  float64\n",
      " 3   Genre            16713 non-null  object \n",
      " 4   NA_sales         16715 non-null  float64\n",
      " 5   EU_sales         16715 non-null  float64\n",
      " 6   JP_sales         16715 non-null  float64\n",
      " 7   Other_sales      16715 non-null  float64\n",
      " 8   Critic_Score     8137 non-null   float64\n",
      " 9   User_Score       10014 non-null  object \n",
      " 10  Rating           9949 non-null   object \n",
      "dtypes: float64(6), object(5)\n",
      "memory usage: 1.4+ MB\n"
     ]
    }
   ],
   "source": [
    "df.info()"
   ]
  },
  {
   "cell_type": "markdown",
   "metadata": {
    "id": "7rldV1w5CRLz"
   },
   "source": [
    "Год выпуска, название, жанр, оценки и рейтинг имеют пропуски. Заполнить их нельзя, потому что медианные или средние значения испортят статистику оценок, а жанр или рейтинг можно заполнить только вручную, с помощью поиска в интернете."
   ]
  },
  {
   "cell_type": "markdown",
   "metadata": {
    "id": "7P5povhbCRLz"
   },
   "source": [
    "Пока оставляю так, в дальнейшем для исследований буду использовать соответствующие данные без пропусков."
   ]
  },
  {
   "cell_type": "code",
   "execution_count": null,
   "metadata": {
    "id": "1nie8wDgCRLz"
   },
   "outputs": [],
   "source": [
    "df.columns = df.columns.str.lower()"
   ]
  },
  {
   "cell_type": "markdown",
   "metadata": {
    "id": "_i_WfzkgCRL0"
   },
   "source": [
    "Преобразую названия в столбцов в нижний регистр для удобства работы."
   ]
  },
  {
   "cell_type": "code",
   "execution_count": null,
   "metadata": {
    "colab": {
     "base_uri": "https://localhost:8080/",
     "height": 419
    },
    "id": "PMAB0SbeCRL0",
    "outputId": "316e50aa-3c4b-4e93-e5cd-46bbde8e96aa"
   },
   "outputs": [
    {
     "data": {
      "text/html": [
       "<div>\n",
       "<style scoped>\n",
       "    .dataframe tbody tr th:only-of-type {\n",
       "        vertical-align: middle;\n",
       "    }\n",
       "\n",
       "    .dataframe tbody tr th {\n",
       "        vertical-align: top;\n",
       "    }\n",
       "\n",
       "    .dataframe thead th {\n",
       "        text-align: right;\n",
       "    }\n",
       "</style>\n",
       "<table border=\"1\" class=\"dataframe\">\n",
       "  <thead>\n",
       "    <tr style=\"text-align: right;\">\n",
       "      <th></th>\n",
       "      <th>name</th>\n",
       "      <th>platform</th>\n",
       "      <th>year_of_release</th>\n",
       "      <th>genre</th>\n",
       "      <th>na_sales</th>\n",
       "      <th>eu_sales</th>\n",
       "      <th>jp_sales</th>\n",
       "      <th>other_sales</th>\n",
       "      <th>critic_score</th>\n",
       "      <th>user_score</th>\n",
       "      <th>rating</th>\n",
       "    </tr>\n",
       "  </thead>\n",
       "  <tbody>\n",
       "    <tr>\n",
       "      <th>119</th>\n",
       "      <td>Zumba Fitness</td>\n",
       "      <td>Wii</td>\n",
       "      <td>2010.0</td>\n",
       "      <td>Sports</td>\n",
       "      <td>3.45</td>\n",
       "      <td>2.59</td>\n",
       "      <td>0.0</td>\n",
       "      <td>0.66</td>\n",
       "      <td>NaN</td>\n",
       "      <td>tbd</td>\n",
       "      <td>E</td>\n",
       "    </tr>\n",
       "    <tr>\n",
       "      <th>301</th>\n",
       "      <td>Namco Museum: 50th Anniversary</td>\n",
       "      <td>PS2</td>\n",
       "      <td>2005.0</td>\n",
       "      <td>Misc</td>\n",
       "      <td>2.08</td>\n",
       "      <td>1.35</td>\n",
       "      <td>0.0</td>\n",
       "      <td>0.54</td>\n",
       "      <td>61.0</td>\n",
       "      <td>tbd</td>\n",
       "      <td>E10+</td>\n",
       "    </tr>\n",
       "    <tr>\n",
       "      <th>520</th>\n",
       "      <td>Zumba Fitness 2</td>\n",
       "      <td>Wii</td>\n",
       "      <td>2011.0</td>\n",
       "      <td>Sports</td>\n",
       "      <td>1.51</td>\n",
       "      <td>1.03</td>\n",
       "      <td>0.0</td>\n",
       "      <td>0.27</td>\n",
       "      <td>NaN</td>\n",
       "      <td>tbd</td>\n",
       "      <td>T</td>\n",
       "    </tr>\n",
       "    <tr>\n",
       "      <th>645</th>\n",
       "      <td>uDraw Studio</td>\n",
       "      <td>Wii</td>\n",
       "      <td>2010.0</td>\n",
       "      <td>Misc</td>\n",
       "      <td>1.65</td>\n",
       "      <td>0.57</td>\n",
       "      <td>0.0</td>\n",
       "      <td>0.20</td>\n",
       "      <td>71.0</td>\n",
       "      <td>tbd</td>\n",
       "      <td>E</td>\n",
       "    </tr>\n",
       "    <tr>\n",
       "      <th>657</th>\n",
       "      <td>Frogger's Adventures: Temple of the Frog</td>\n",
       "      <td>GBA</td>\n",
       "      <td>NaN</td>\n",
       "      <td>Adventure</td>\n",
       "      <td>2.15</td>\n",
       "      <td>0.18</td>\n",
       "      <td>0.0</td>\n",
       "      <td>0.07</td>\n",
       "      <td>73.0</td>\n",
       "      <td>tbd</td>\n",
       "      <td>E</td>\n",
       "    </tr>\n",
       "    <tr>\n",
       "      <th>...</th>\n",
       "      <td>...</td>\n",
       "      <td>...</td>\n",
       "      <td>...</td>\n",
       "      <td>...</td>\n",
       "      <td>...</td>\n",
       "      <td>...</td>\n",
       "      <td>...</td>\n",
       "      <td>...</td>\n",
       "      <td>...</td>\n",
       "      <td>...</td>\n",
       "      <td>...</td>\n",
       "    </tr>\n",
       "    <tr>\n",
       "      <th>16695</th>\n",
       "      <td>Planet Monsters</td>\n",
       "      <td>GBA</td>\n",
       "      <td>2001.0</td>\n",
       "      <td>Action</td>\n",
       "      <td>0.01</td>\n",
       "      <td>0.00</td>\n",
       "      <td>0.0</td>\n",
       "      <td>0.00</td>\n",
       "      <td>67.0</td>\n",
       "      <td>tbd</td>\n",
       "      <td>E</td>\n",
       "    </tr>\n",
       "    <tr>\n",
       "      <th>16697</th>\n",
       "      <td>Bust-A-Move 3000</td>\n",
       "      <td>GC</td>\n",
       "      <td>2003.0</td>\n",
       "      <td>Puzzle</td>\n",
       "      <td>0.01</td>\n",
       "      <td>0.00</td>\n",
       "      <td>0.0</td>\n",
       "      <td>0.00</td>\n",
       "      <td>53.0</td>\n",
       "      <td>tbd</td>\n",
       "      <td>E</td>\n",
       "    </tr>\n",
       "    <tr>\n",
       "      <th>16698</th>\n",
       "      <td>Mega Brain Boost</td>\n",
       "      <td>DS</td>\n",
       "      <td>2008.0</td>\n",
       "      <td>Puzzle</td>\n",
       "      <td>0.01</td>\n",
       "      <td>0.00</td>\n",
       "      <td>0.0</td>\n",
       "      <td>0.00</td>\n",
       "      <td>48.0</td>\n",
       "      <td>tbd</td>\n",
       "      <td>E</td>\n",
       "    </tr>\n",
       "    <tr>\n",
       "      <th>16704</th>\n",
       "      <td>Plushees</td>\n",
       "      <td>DS</td>\n",
       "      <td>2008.0</td>\n",
       "      <td>Simulation</td>\n",
       "      <td>0.01</td>\n",
       "      <td>0.00</td>\n",
       "      <td>0.0</td>\n",
       "      <td>0.00</td>\n",
       "      <td>NaN</td>\n",
       "      <td>tbd</td>\n",
       "      <td>E</td>\n",
       "    </tr>\n",
       "    <tr>\n",
       "      <th>16706</th>\n",
       "      <td>Men in Black II: Alien Escape</td>\n",
       "      <td>GC</td>\n",
       "      <td>2003.0</td>\n",
       "      <td>Shooter</td>\n",
       "      <td>0.01</td>\n",
       "      <td>0.00</td>\n",
       "      <td>0.0</td>\n",
       "      <td>0.00</td>\n",
       "      <td>NaN</td>\n",
       "      <td>tbd</td>\n",
       "      <td>T</td>\n",
       "    </tr>\n",
       "  </tbody>\n",
       "</table>\n",
       "<p>2424 rows × 11 columns</p>\n",
       "</div>"
      ],
      "text/plain": [
       "                                           name platform  ...  user_score rating\n",
       "119                               Zumba Fitness      Wii  ...         tbd      E\n",
       "301              Namco Museum: 50th Anniversary      PS2  ...         tbd   E10+\n",
       "520                             Zumba Fitness 2      Wii  ...         tbd      T\n",
       "645                                uDraw Studio      Wii  ...         tbd      E\n",
       "657    Frogger's Adventures: Temple of the Frog      GBA  ...         tbd      E\n",
       "...                                         ...      ...  ...         ...    ...\n",
       "16695                           Planet Monsters      GBA  ...         tbd      E\n",
       "16697                          Bust-A-Move 3000       GC  ...         tbd      E\n",
       "16698                          Mega Brain Boost       DS  ...         tbd      E\n",
       "16704                                  Plushees       DS  ...         tbd      E\n",
       "16706             Men in Black II: Alien Escape       GC  ...         tbd      T\n",
       "\n",
       "[2424 rows x 11 columns]"
      ]
     },
     "execution_count": 8,
     "metadata": {
      "tags": []
     },
     "output_type": "execute_result"
    }
   ],
   "source": [
    "df[df['user_score'] == 'tbd']"
   ]
  },
  {
   "cell_type": "code",
   "execution_count": null,
   "metadata": {
    "colab": {
     "base_uri": "https://localhost:8080/",
     "height": 49
    },
    "id": "wHOnj4rjCRL0",
    "outputId": "7aef9c89-50bc-46e0-f09b-18f31fdb0e2a"
   },
   "outputs": [
    {
     "data": {
      "text/html": [
       "<div>\n",
       "<style scoped>\n",
       "    .dataframe tbody tr th:only-of-type {\n",
       "        vertical-align: middle;\n",
       "    }\n",
       "\n",
       "    .dataframe tbody tr th {\n",
       "        vertical-align: top;\n",
       "    }\n",
       "\n",
       "    .dataframe thead th {\n",
       "        text-align: right;\n",
       "    }\n",
       "</style>\n",
       "<table border=\"1\" class=\"dataframe\">\n",
       "  <thead>\n",
       "    <tr style=\"text-align: right;\">\n",
       "      <th></th>\n",
       "      <th>name</th>\n",
       "      <th>platform</th>\n",
       "      <th>year_of_release</th>\n",
       "      <th>genre</th>\n",
       "      <th>na_sales</th>\n",
       "      <th>eu_sales</th>\n",
       "      <th>jp_sales</th>\n",
       "      <th>other_sales</th>\n",
       "      <th>critic_score</th>\n",
       "      <th>user_score</th>\n",
       "      <th>rating</th>\n",
       "    </tr>\n",
       "  </thead>\n",
       "  <tbody>\n",
       "  </tbody>\n",
       "</table>\n",
       "</div>"
      ],
      "text/plain": [
       "Empty DataFrame\n",
       "Columns: [name, platform, year_of_release, genre, na_sales, eu_sales, jp_sales, other_sales, critic_score, user_score, rating]\n",
       "Index: []"
      ]
     },
     "execution_count": 9,
     "metadata": {
      "tags": []
     },
     "output_type": "execute_result"
    }
   ],
   "source": [
    "df[df['user_score'] == 0]"
   ]
  },
  {
   "cell_type": "markdown",
   "metadata": {
    "id": "47VxynzFCRL1"
   },
   "source": [
    "Проверяю, что нулевых значений нет, чтобы заменить tbd на 0 для удобства дальнейшей обработки."
   ]
  },
  {
   "cell_type": "code",
   "execution_count": null,
   "metadata": {
    "id": "nwNW7mrRCRL1"
   },
   "outputs": [],
   "source": [
    "df['user_score'] = df['user_score'].replace('tbd', 0)"
   ]
  },
  {
   "cell_type": "code",
   "execution_count": null,
   "metadata": {
    "id": "qZbrclenCRL1"
   },
   "outputs": [],
   "source": [
    "df['sum_sales'] = df['na_sales'] + df['eu_sales'] + df['other_sales'] + df['jp_sales']"
   ]
  },
  {
   "cell_type": "markdown",
   "metadata": {
    "id": "OicsCvG2Ffab"
   },
   "source": [
    "## Анализ данных"
   ]
  },
  {
   "cell_type": "markdown",
   "metadata": {
    "id": "a7eoNTM0CRL1"
   },
   "source": [
    "Считаю суммарные продажи путем складывания продаж со всех регионов."
   ]
  },
  {
   "cell_type": "code",
   "execution_count": null,
   "metadata": {
    "colab": {
     "base_uri": "https://localhost:8080/",
     "height": 404
    },
    "id": "GIqa_ZM_CRL2",
    "outputId": "dae74430-d2df-463f-bedc-efea26d75014"
   },
   "outputs": [
    {
     "data": {
      "image/png": "[encoded data removed]",
      "text/plain": [
       "<Figure size 864x432 with 1 Axes>"
      ]
     },
     "metadata": {
      "needs_background": "light",
      "tags": []
     },
     "output_type": "display_data"
    }
   ],
   "source": [
    "plot = df['year_of_release'].plot(kind = 'hist', grid = True, bins = 20, xticks = range(1980, 2016, 2),\n",
    "                                 figsize = (12,6), title = 'Количество выпускаемых игр по годам')\n",
    "plot.set_xlabel('Год')\n",
    "plot.set_ylabel('Количество')\n",
    "plt.show()"
   ]
  },
  {
   "cell_type": "markdown",
   "metadata": {
    "id": "7tX3jOoqCRL2"
   },
   "source": [
    "Довольно большой рост в выпуске игр после 1998 года."
   ]
  },
  {
   "cell_type": "code",
   "execution_count": null,
   "metadata": {
    "colab": {
     "base_uri": "https://localhost:8080/"
    },
    "id": "z4j_LUv7CRL2",
    "outputId": "2b8e6024-9164-4a1a-913e-42932a18a4cc"
   },
   "outputs": [
    {
     "data": {
      "text/plain": [
       "platform\n",
       "GB      2.606735\n",
       "NES     2.561735\n",
       "GEN     1.061034\n",
       "SNES    0.836987\n",
       "PS4     0.801378\n",
       "X360    0.769746\n",
       "2600    0.729173\n",
       "PS3     0.705973\n",
       "Wii     0.687508\n",
       "N64     0.685517\n",
       "XOne    0.645020\n",
       "PS      0.610576\n",
       "PS2     0.581106\n",
       "WiiU    0.559116\n",
       "3DS     0.498077\n",
       "GBA     0.386679\n",
       "DS      0.374765\n",
       "GC      0.357788\n",
       "XB      0.312791\n",
       "SCD     0.310000\n",
       "DC      0.306731\n",
       "PC      0.266448\n",
       "PSP     0.243218\n",
       "WS      0.236667\n",
       "SAT     0.194162\n",
       "PSV     0.125744\n",
       "NG      0.120000\n",
       "TG16    0.080000\n",
       "GG      0.040000\n",
       "3DO     0.033333\n",
       "PCFX    0.030000\n",
       "Name: sum_sales, dtype: float64"
      ]
     },
     "execution_count": 13,
     "metadata": {
      "tags": []
     },
     "output_type": "execute_result"
    }
   ],
   "source": [
    "df.groupby('platform')['sum_sales'].mean().sort_values(ascending = False)"
   ]
  },
  {
   "cell_type": "code",
   "execution_count": null,
   "metadata": {
    "colab": {
     "base_uri": "https://localhost:8080/"
    },
    "id": "wNQDNDsCCRL3",
    "outputId": "18fe3e98-4d5d-4457-f5cb-26f46eb851a8"
   },
   "outputs": [
    {
     "data": {
      "text/plain": [
       "platform\n",
       "PS2     1255.77\n",
       "X360     971.42\n",
       "PS3      939.65\n",
       "Wii      907.51\n",
       "DS       806.12\n",
       "PS       730.86\n",
       "GBA      317.85\n",
       "PS4      314.14\n",
       "PSP      294.05\n",
       "PC       259.52\n",
       "3DS      259.00\n",
       "XB       257.74\n",
       "GB       255.46\n",
       "NES      251.05\n",
       "N64      218.68\n",
       "SNES     200.04\n",
       "GC       198.93\n",
       "XOne     159.32\n",
       "2600      96.98\n",
       "WiiU      82.19\n",
       "PSV       54.07\n",
       "SAT       33.59\n",
       "GEN       30.77\n",
       "DC        15.95\n",
       "SCD        1.86\n",
       "NG         1.44\n",
       "WS         1.42\n",
       "TG16       0.16\n",
       "3DO        0.10\n",
       "GG         0.04\n",
       "PCFX       0.03\n",
       "Name: sum_sales, dtype: float64"
      ]
     },
     "execution_count": 14,
     "metadata": {
      "tags": []
     },
     "output_type": "execute_result"
    }
   ],
   "source": [
    "df.groupby('platform')['sum_sales'].sum().sort_values(ascending = False)"
   ]
  },
  {
   "cell_type": "markdown",
   "metadata": {
    "id": "SK0xSrTeCRL3"
   },
   "source": [
    "Самой популярной игровой платформой по средним продажам является GB, а по суммарным продажам - PS2."
   ]
  },
  {
   "cell_type": "code",
   "execution_count": null,
   "metadata": {
    "colab": {
     "base_uri": "https://localhost:8080/",
     "height": 282
    },
    "id": "3wi-XYIoCRL3",
    "outputId": "28dbba44-6738-4be1-bc94-b4703b195d1a"
   },
   "outputs": [
    {
     "data": {
      "text/plain": [
       "<matplotlib.axes._subplots.AxesSubplot at 0x7fc207cf1c50>"
      ]
     },
     "execution_count": 15,
     "metadata": {
      "tags": []
     },
     "output_type": "execute_result"
    },
    {
     "data": {
      "image/png": "[encoded data removed]",
      "text/plain": [
       "<Figure size 432x288 with 1 Axes>"
      ]
     },
     "metadata": {
      "needs_background": "light",
      "tags": []
     },
     "output_type": "display_data"
    }
   ],
   "source": [
    "df[df['platform'] == 'PS2']['year_of_release'].hist()"
   ]
  },
  {
   "cell_type": "markdown",
   "metadata": {
    "id": "Aq08t8ABCRL4"
   },
   "source": [
    "Которая прожила до 2011 года."
   ]
  },
  {
   "cell_type": "code",
   "execution_count": null,
   "metadata": {
    "colab": {
     "base_uri": "https://localhost:8080/",
     "height": 282
    },
    "id": "gShgU6GACRL4",
    "outputId": "1586c6cb-ecd3-42a3-f4af-c45547716a95"
   },
   "outputs": [
    {
     "data": {
      "text/plain": [
       "<matplotlib.axes._subplots.AxesSubplot at 0x7fc2081ce7d0>"
      ]
     },
     "execution_count": 16,
     "metadata": {
      "tags": []
     },
     "output_type": "execute_result"
    },
    {
     "data": {
      "image/png": "[encoded data removed]",
      "text/plain": [
       "<Figure size 432x288 with 1 Axes>"
      ]
     },
     "metadata": {
      "needs_background": "light",
      "tags": []
     },
     "output_type": "display_data"
    }
   ],
   "source": [
    "df[df['platform'] == 'X360']['year_of_release'].hist()"
   ]
  },
  {
   "cell_type": "code",
   "execution_count": null,
   "metadata": {
    "colab": {
     "base_uri": "https://localhost:8080/",
     "height": 282
    },
    "id": "fBRpHVE4CRL4",
    "outputId": "9f2a9605-2fbd-4c08-c0a0-55255b589418"
   },
   "outputs": [
    {
     "data": {
      "text/plain": [
       "<matplotlib.axes._subplots.AxesSubplot at 0x7fc207cdaf10>"
      ]
     },
     "execution_count": 17,
     "metadata": {
      "tags": []
     },
     "output_type": "execute_result"
    },
    {
     "data": {
      "image/png": "[encoded data removed]",
      "text/plain": [
       "<Figure size 432x288 with 1 Axes>"
      ]
     },
     "metadata": {
      "needs_background": "light",
      "tags": []
     },
     "output_type": "display_data"
    }
   ],
   "source": [
    "df[df['platform'] == 'DS']['year_of_release'].plot(kind = 'hist', grid = True)"
   ]
  },
  {
   "cell_type": "code",
   "execution_count": null,
   "metadata": {
    "colab": {
     "base_uri": "https://localhost:8080/",
     "height": 282
    },
    "id": "tILhO-EwCRL4",
    "outputId": "311b79cc-6316-47a1-fbcf-8458a7bcb331"
   },
   "outputs": [
    {
     "data": {
      "text/plain": [
       "<matplotlib.axes._subplots.AxesSubplot at 0x7fc207b34a10>"
      ]
     },
     "execution_count": 18,
     "metadata": {
      "tags": []
     },
     "output_type": "execute_result"
    },
    {
     "data": {
      "image/png": "[encoded data removed]",
      "text/plain": [
       "<Figure size 432x288 with 1 Axes>"
      ]
     },
     "metadata": {
      "needs_background": "light",
      "tags": []
     },
     "output_type": "display_data"
    }
   ],
   "source": [
    "df[df['platform'] == 'PS3']['year_of_release'].hist()"
   ]
  },
  {
   "cell_type": "code",
   "execution_count": null,
   "metadata": {
    "colab": {
     "base_uri": "https://localhost:8080/",
     "height": 282
    },
    "id": "wRUYPJR8CRL5",
    "outputId": "a9bc6356-6fcc-4341-9569-7c431a43d7d2"
   },
   "outputs": [
    {
     "data": {
      "text/plain": [
       "<matplotlib.axes._subplots.AxesSubplot at 0x7fc207bcab50>"
      ]
     },
     "execution_count": 19,
     "metadata": {
      "tags": []
     },
     "output_type": "execute_result"
    },
    {
     "data": {
      "image/png": "[encoded data removed]",
      "text/plain": [
       "<Figure size 432x288 with 1 Axes>"
      ]
     },
     "metadata": {
      "needs_background": "light",
      "tags": []
     },
     "output_type": "display_data"
    }
   ],
   "source": [
    "df[df['platform'] == 'Wii']['year_of_release'].hist()"
   ]
  },
  {
   "cell_type": "markdown",
   "metadata": {
    "id": "m27blDHKCRL5"
   },
   "source": [
    "Для пяти самых популярных платформ (в свое время) жизненный цикл равен примерно 10 лет.\n",
    "При этом видим пик продаж примерно по середине жизненного цикла."
   ]
  },
  {
   "cell_type": "code",
   "execution_count": null,
   "metadata": {
    "id": "7CWYYsGGCRL5"
   },
   "outputs": [],
   "source": [
    "df = df[df['year_of_release'] > 2007].copy()"
   ]
  },
  {
   "cell_type": "markdown",
   "metadata": {
    "id": "90Qhx0BaCRL5"
   },
   "source": [
    "Далее буду работать со срезом, начиная с 2007 года, что укладывается в примерный жизненный цикл платформы (2017-10)."
   ]
  },
  {
   "cell_type": "code",
   "execution_count": null,
   "metadata": {
    "colab": {
     "base_uri": "https://localhost:8080/"
    },
    "id": "kEtBeAEPCRL6",
    "outputId": "ca12e6e7-9aa9-4da9-e586-ac291536139c"
   },
   "outputs": [
    {
     "name": "stdout",
     "output_type": "stream",
     "text": [
      "<class 'pandas.core.frame.DataFrame'>\n",
      "Int64Index: 8130 entries, 2 to 16714\n",
      "Data columns (total 12 columns):\n",
      " #   Column           Non-Null Count  Dtype  \n",
      "---  ------           --------------  -----  \n",
      " 0   name             8130 non-null   object \n",
      " 1   platform         8130 non-null   object \n",
      " 2   year_of_release  8130 non-null   float64\n",
      " 3   genre            8130 non-null   object \n",
      " 4   na_sales         8130 non-null   float64\n",
      " 5   eu_sales         8130 non-null   float64\n",
      " 6   jp_sales         8130 non-null   float64\n",
      " 7   other_sales      8130 non-null   float64\n",
      " 8   critic_score     3678 non-null   float64\n",
      " 9   user_score       5185 non-null   object \n",
      " 10  rating           5105 non-null   object \n",
      " 11  sum_sales        8130 non-null   float64\n",
      "dtypes: float64(7), object(5)\n",
      "memory usage: 825.7+ KB\n"
     ]
    }
   ],
   "source": [
    "df.info()"
   ]
  },
  {
   "cell_type": "code",
   "execution_count": null,
   "metadata": {
    "id": "QNlNlKLyCRL6"
   },
   "outputs": [],
   "source": [
    "df['year_of_release'] = df['year_of_release'].astype('int64', errors = 'ignore')"
   ]
  },
  {
   "cell_type": "markdown",
   "metadata": {
    "id": "W9EXYn2VCRL6"
   },
   "source": [
    "Преобразовываю год выпуска в инт, так как он не может быть не целым числом."
   ]
  },
  {
   "cell_type": "code",
   "execution_count": null,
   "metadata": {
    "colab": {
     "base_uri": "https://localhost:8080/",
     "height": 204
    },
    "id": "eumtdCnDCRL7",
    "outputId": "12abd521-cc83-4da4-894d-0d93a91b858e"
   },
   "outputs": [
    {
     "data": {
      "text/html": [
       "<div>\n",
       "<style scoped>\n",
       "    .dataframe tbody tr th:only-of-type {\n",
       "        vertical-align: middle;\n",
       "    }\n",
       "\n",
       "    .dataframe tbody tr th {\n",
       "        vertical-align: top;\n",
       "    }\n",
       "\n",
       "    .dataframe thead th {\n",
       "        text-align: right;\n",
       "    }\n",
       "</style>\n",
       "<table border=\"1\" class=\"dataframe\">\n",
       "  <thead>\n",
       "    <tr style=\"text-align: right;\">\n",
       "      <th></th>\n",
       "      <th>name</th>\n",
       "      <th>platform</th>\n",
       "      <th>year_of_release</th>\n",
       "      <th>genre</th>\n",
       "      <th>na_sales</th>\n",
       "      <th>eu_sales</th>\n",
       "      <th>jp_sales</th>\n",
       "      <th>other_sales</th>\n",
       "      <th>critic_score</th>\n",
       "      <th>user_score</th>\n",
       "      <th>rating</th>\n",
       "      <th>sum_sales</th>\n",
       "    </tr>\n",
       "  </thead>\n",
       "  <tbody>\n",
       "    <tr>\n",
       "      <th>2</th>\n",
       "      <td>Mario Kart Wii</td>\n",
       "      <td>Wii</td>\n",
       "      <td>2008</td>\n",
       "      <td>Racing</td>\n",
       "      <td>15.68</td>\n",
       "      <td>12.76</td>\n",
       "      <td>3.79</td>\n",
       "      <td>3.29</td>\n",
       "      <td>82.0</td>\n",
       "      <td>8.3</td>\n",
       "      <td>E</td>\n",
       "      <td>35.52</td>\n",
       "    </tr>\n",
       "    <tr>\n",
       "      <th>3</th>\n",
       "      <td>Wii Sports Resort</td>\n",
       "      <td>Wii</td>\n",
       "      <td>2009</td>\n",
       "      <td>Sports</td>\n",
       "      <td>15.61</td>\n",
       "      <td>10.93</td>\n",
       "      <td>3.28</td>\n",
       "      <td>2.95</td>\n",
       "      <td>80.0</td>\n",
       "      <td>8</td>\n",
       "      <td>E</td>\n",
       "      <td>32.77</td>\n",
       "    </tr>\n",
       "    <tr>\n",
       "      <th>8</th>\n",
       "      <td>New Super Mario Bros. Wii</td>\n",
       "      <td>Wii</td>\n",
       "      <td>2009</td>\n",
       "      <td>Platform</td>\n",
       "      <td>14.44</td>\n",
       "      <td>6.94</td>\n",
       "      <td>4.70</td>\n",
       "      <td>2.24</td>\n",
       "      <td>87.0</td>\n",
       "      <td>8.4</td>\n",
       "      <td>E</td>\n",
       "      <td>28.32</td>\n",
       "    </tr>\n",
       "    <tr>\n",
       "      <th>14</th>\n",
       "      <td>Kinect Adventures!</td>\n",
       "      <td>X360</td>\n",
       "      <td>2010</td>\n",
       "      <td>Misc</td>\n",
       "      <td>15.00</td>\n",
       "      <td>4.89</td>\n",
       "      <td>0.24</td>\n",
       "      <td>1.69</td>\n",
       "      <td>61.0</td>\n",
       "      <td>6.3</td>\n",
       "      <td>E</td>\n",
       "      <td>21.82</td>\n",
       "    </tr>\n",
       "    <tr>\n",
       "      <th>15</th>\n",
       "      <td>Wii Fit Plus</td>\n",
       "      <td>Wii</td>\n",
       "      <td>2009</td>\n",
       "      <td>Sports</td>\n",
       "      <td>9.01</td>\n",
       "      <td>8.49</td>\n",
       "      <td>2.53</td>\n",
       "      <td>1.77</td>\n",
       "      <td>80.0</td>\n",
       "      <td>7.4</td>\n",
       "      <td>E</td>\n",
       "      <td>21.80</td>\n",
       "    </tr>\n",
       "  </tbody>\n",
       "</table>\n",
       "</div>"
      ],
      "text/plain": [
       "                         name platform  ...  rating sum_sales\n",
       "2              Mario Kart Wii      Wii  ...       E     35.52\n",
       "3           Wii Sports Resort      Wii  ...       E     32.77\n",
       "8   New Super Mario Bros. Wii      Wii  ...       E     28.32\n",
       "14         Kinect Adventures!     X360  ...       E     21.82\n",
       "15               Wii Fit Plus      Wii  ...       E     21.80\n",
       "\n",
       "[5 rows x 12 columns]"
      ]
     },
     "execution_count": 23,
     "metadata": {
      "tags": []
     },
     "output_type": "execute_result"
    }
   ],
   "source": [
    "df.head()"
   ]
  },
  {
   "cell_type": "code",
   "execution_count": null,
   "metadata": {
    "id": "lOReW18OCRL7"
   },
   "outputs": [],
   "source": [
    "df_pivot = df.pivot_table(index = 'platform', values = 'sum_sales').sort_values(by = 'sum_sales',ascending = False)"
   ]
  },
  {
   "cell_type": "code",
   "execution_count": null,
   "metadata": {
    "colab": {
     "base_uri": "https://localhost:8080/",
     "height": 514
    },
    "id": "jeSJzKj7CRL7",
    "outputId": "eb0b0589-992f-4c2e-c700-af9adc6984ad"
   },
   "outputs": [
    {
     "data": {
      "text/html": [
       "<div>\n",
       "<style scoped>\n",
       "    .dataframe tbody tr th:only-of-type {\n",
       "        vertical-align: middle;\n",
       "    }\n",
       "\n",
       "    .dataframe tbody tr th {\n",
       "        vertical-align: top;\n",
       "    }\n",
       "\n",
       "    .dataframe thead th {\n",
       "        text-align: right;\n",
       "    }\n",
       "</style>\n",
       "<table border=\"1\" class=\"dataframe\">\n",
       "  <thead>\n",
       "    <tr style=\"text-align: right;\">\n",
       "      <th></th>\n",
       "      <th>sum_sales</th>\n",
       "    </tr>\n",
       "    <tr>\n",
       "      <th>platform</th>\n",
       "      <th></th>\n",
       "    </tr>\n",
       "  </thead>\n",
       "  <tbody>\n",
       "    <tr>\n",
       "      <th>X360</th>\n",
       "      <td>0.807575</td>\n",
       "    </tr>\n",
       "    <tr>\n",
       "      <th>PS4</th>\n",
       "      <td>0.801378</td>\n",
       "    </tr>\n",
       "    <tr>\n",
       "      <th>PS3</th>\n",
       "      <td>0.704113</td>\n",
       "    </tr>\n",
       "    <tr>\n",
       "      <th>XOne</th>\n",
       "      <td>0.645020</td>\n",
       "    </tr>\n",
       "    <tr>\n",
       "      <th>Wii</th>\n",
       "      <td>0.568836</td>\n",
       "    </tr>\n",
       "    <tr>\n",
       "      <th>WiiU</th>\n",
       "      <td>0.559116</td>\n",
       "    </tr>\n",
       "    <tr>\n",
       "      <th>3DS</th>\n",
       "      <td>0.503535</td>\n",
       "    </tr>\n",
       "    <tr>\n",
       "      <th>DS</th>\n",
       "      <td>0.277175</td>\n",
       "    </tr>\n",
       "    <tr>\n",
       "      <th>PS2</th>\n",
       "      <td>0.260211</td>\n",
       "    </tr>\n",
       "    <tr>\n",
       "      <th>PC</th>\n",
       "      <td>0.228535</td>\n",
       "    </tr>\n",
       "    <tr>\n",
       "      <th>XB</th>\n",
       "      <td>0.180000</td>\n",
       "    </tr>\n",
       "    <tr>\n",
       "      <th>PSP</th>\n",
       "      <td>0.179212</td>\n",
       "    </tr>\n",
       "    <tr>\n",
       "      <th>PSV</th>\n",
       "      <td>0.125431</td>\n",
       "    </tr>\n",
       "    <tr>\n",
       "      <th>DC</th>\n",
       "      <td>0.040000</td>\n",
       "    </tr>\n",
       "  </tbody>\n",
       "</table>\n",
       "</div>"
      ],
      "text/plain": [
       "          sum_sales\n",
       "platform           \n",
       "X360       0.807575\n",
       "PS4        0.801378\n",
       "PS3        0.704113\n",
       "XOne       0.645020\n",
       "Wii        0.568836\n",
       "WiiU       0.559116\n",
       "3DS        0.503535\n",
       "DS         0.277175\n",
       "PS2        0.260211\n",
       "PC         0.228535\n",
       "XB         0.180000\n",
       "PSP        0.179212\n",
       "PSV        0.125431\n",
       "DC         0.040000"
      ]
     },
     "execution_count": 25,
     "metadata": {
      "tags": []
     },
     "output_type": "execute_result"
    }
   ],
   "source": [
    "df_pivot"
   ]
  },
  {
   "cell_type": "markdown",
   "metadata": {
    "id": "EoH37gAqCRL7"
   },
   "source": [
    "По суммарной прибыли лидирует иксбокс 360, за ним ПС4, хбокс ван еще не успел догнать. Далее пострю графики по распределению продаж по годам, чтобы исключить \"угасающие платформы\"."
   ]
  },
  {
   "cell_type": "code",
   "execution_count": null,
   "metadata": {
    "colab": {
     "base_uri": "https://localhost:8080/",
     "height": 1000
    },
    "id": "aZRmaBrMCRL7",
    "outputId": "0745d2e0-341a-4065-a8de-5071697c7bcc"
   },
   "outputs": [
    {
     "data": {
      "image/png": "[encoded data removed]",
      "text/plain": [
       "<Figure size 432x288 with 1 Axes>"
      ]
     },
     "metadata": {
      "needs_background": "light",
      "tags": []
     },
     "output_type": "display_data"
    },
    {
     "data": {
      "image/png": "[encoded data removed]",
      "text/plain": [
       "<Figure size 432x288 with 1 Axes>"
      ]
     },
     "metadata": {
      "needs_background": "light",
      "tags": []
     },
     "output_type": "display_data"
    },
    {
     "data": {
      "image/png": "[encoded data removed]",
      "text/plain": [
       "<Figure size 432x288 with 1 Axes>"
      ]
     },
     "metadata": {
      "needs_background": "light",
      "tags": []
     },
     "output_type": "display_data"
    },
    {
     "data": {
      "image/png": "[encoded data removed]",
      "text/plain": [
       "<Figure size 432x288 with 1 Axes>"
      ]
     },
     "metadata": {
      "needs_background": "light",
      "tags": []
     },
     "output_type": "display_data"
    },
    {
     "data": {
      "image/png": "[encoded data removed]",
      "text/plain": [
       "<Figure size 432x288 with 1 Axes>"
      ]
     },
     "metadata": {
      "needs_background": "light",
      "tags": []
     },
     "output_type": "display_data"
    },
    {
     "data": {
      "image/png": "[encoded data removed]",
      "text/plain": [
       "<Figure size 432x288 with 1 Axes>"
      ]
     },
     "metadata": {
      "needs_background": "light",
      "tags": []
     },
     "output_type": "display_data"
    },
    {
     "data": {
      "image/png": "[encoded data removed]",
      "text/plain": [
       "<Figure size 432x288 with 1 Axes>"
      ]
     },
     "metadata": {
      "needs_background": "light",
      "tags": []
     },
     "output_type": "display_data"
    },
    {
     "data": {
      "image/png": "[encoded data removed]",
      "text/plain": [
       "<Figure size 432x288 with 1 Axes>"
      ]
     },
     "metadata": {
      "needs_background": "light",
      "tags": []
     },
     "output_type": "display_data"
    },
    {
     "data": {
      "image/png": "[encoded data removed]",
      "text/plain": [
       "<Figure size 432x288 with 1 Axes>"
      ]
     },
     "metadata": {
      "needs_background": "light",
      "tags": []
     },
     "output_type": "display_data"
    },
    {
     "data": {
      "image/png": "[encoded data removed]",
      "text/plain": [
       "<Figure size 432x288 with 1 Axes>"
      ]
     },
     "metadata": {
      "needs_background": "light",
      "tags": []
     },
     "output_type": "display_data"
    },
    {
     "data": {
      "image/png": "[encoded data removed]",
      "text/plain": [
       "<Figure size 432x288 with 1 Axes>"
      ]
     },
     "metadata": {
      "needs_background": "light",
      "tags": []
     },
     "output_type": "display_data"
    },
    {
     "data": {
      "image/png": "[encoded data removed]",
      "text/plain": [
       "<Figure size 432x288 with 1 Axes>"
      ]
     },
     "metadata": {
      "needs_background": "light",
      "tags": []
     },
     "output_type": "display_data"
    },
    {
     "data": {
      "image/png": "[encoded data removed]",
      "text/plain": [
       "<Figure size 432x288 with 1 Axes>"
      ]
     },
     "metadata": {
      "needs_background": "light",
      "tags": []
     },
     "output_type": "display_data"
    },
    {
     "data": {
      "image/png": "[encoded data removed]",
      "text/plain": [
       "<Figure size 432x288 with 1 Axes>"
      ]
     },
     "metadata": {
      "needs_background": "light",
      "tags": []
     },
     "output_type": "display_data"
    }
   ],
   "source": [
    "for name, group_data in df.groupby('platform'):\n",
    "    group_data.plot(kind = 'hist', y = 'year_of_release', title = name, grid = True)"
   ]
  },
  {
   "cell_type": "markdown",
   "metadata": {
    "id": "MbLmQp7YCRL8"
   },
   "source": [
    "Можно исключить платформы: DC, GBA, GC, PS2, XB, DS, так как они уже не актуальны и далее работать с оставшимся срезом."
   ]
  },
  {
   "cell_type": "code",
   "execution_count": null,
   "metadata": {
    "id": "d0LTcuVDCRL8"
   },
   "outputs": [],
   "source": [
    "filt = ['DC', 'GBA', 'GC', 'PS2', 'XB', 'DS']"
   ]
  },
  {
   "cell_type": "code",
   "execution_count": null,
   "metadata": {
    "id": "HvuNeHitCRL8"
   },
   "outputs": [],
   "source": [
    "df = df.query('platform not in @filt')"
   ]
  },
  {
   "cell_type": "code",
   "execution_count": null,
   "metadata": {
    "id": "J4vrnhmXCRL9"
   },
   "outputs": [],
   "source": [
    "df = df.reset_index(drop = True)"
   ]
  },
  {
   "cell_type": "code",
   "execution_count": null,
   "metadata": {
    "colab": {
     "base_uri": "https://localhost:8080/",
     "height": 204
    },
    "id": "Y3NBFtSpCRL9",
    "outputId": "061561d3-63d3-4ef0-e987-dcb71b04d598"
   },
   "outputs": [
    {
     "data": {
      "text/html": [
       "<div>\n",
       "<style scoped>\n",
       "    .dataframe tbody tr th:only-of-type {\n",
       "        vertical-align: middle;\n",
       "    }\n",
       "\n",
       "    .dataframe tbody tr th {\n",
       "        vertical-align: top;\n",
       "    }\n",
       "\n",
       "    .dataframe thead th {\n",
       "        text-align: right;\n",
       "    }\n",
       "</style>\n",
       "<table border=\"1\" class=\"dataframe\">\n",
       "  <thead>\n",
       "    <tr style=\"text-align: right;\">\n",
       "      <th></th>\n",
       "      <th>name</th>\n",
       "      <th>platform</th>\n",
       "      <th>year_of_release</th>\n",
       "      <th>genre</th>\n",
       "      <th>na_sales</th>\n",
       "      <th>eu_sales</th>\n",
       "      <th>jp_sales</th>\n",
       "      <th>other_sales</th>\n",
       "      <th>critic_score</th>\n",
       "      <th>user_score</th>\n",
       "      <th>rating</th>\n",
       "      <th>sum_sales</th>\n",
       "    </tr>\n",
       "  </thead>\n",
       "  <tbody>\n",
       "    <tr>\n",
       "      <th>0</th>\n",
       "      <td>Mario Kart Wii</td>\n",
       "      <td>Wii</td>\n",
       "      <td>2008</td>\n",
       "      <td>Racing</td>\n",
       "      <td>15.68</td>\n",
       "      <td>12.76</td>\n",
       "      <td>3.79</td>\n",
       "      <td>3.29</td>\n",
       "      <td>82.0</td>\n",
       "      <td>8.3</td>\n",
       "      <td>E</td>\n",
       "      <td>35.52</td>\n",
       "    </tr>\n",
       "    <tr>\n",
       "      <th>1</th>\n",
       "      <td>Wii Sports Resort</td>\n",
       "      <td>Wii</td>\n",
       "      <td>2009</td>\n",
       "      <td>Sports</td>\n",
       "      <td>15.61</td>\n",
       "      <td>10.93</td>\n",
       "      <td>3.28</td>\n",
       "      <td>2.95</td>\n",
       "      <td>80.0</td>\n",
       "      <td>8</td>\n",
       "      <td>E</td>\n",
       "      <td>32.77</td>\n",
       "    </tr>\n",
       "    <tr>\n",
       "      <th>2</th>\n",
       "      <td>New Super Mario Bros. Wii</td>\n",
       "      <td>Wii</td>\n",
       "      <td>2009</td>\n",
       "      <td>Platform</td>\n",
       "      <td>14.44</td>\n",
       "      <td>6.94</td>\n",
       "      <td>4.70</td>\n",
       "      <td>2.24</td>\n",
       "      <td>87.0</td>\n",
       "      <td>8.4</td>\n",
       "      <td>E</td>\n",
       "      <td>28.32</td>\n",
       "    </tr>\n",
       "    <tr>\n",
       "      <th>3</th>\n",
       "      <td>Kinect Adventures!</td>\n",
       "      <td>X360</td>\n",
       "      <td>2010</td>\n",
       "      <td>Misc</td>\n",
       "      <td>15.00</td>\n",
       "      <td>4.89</td>\n",
       "      <td>0.24</td>\n",
       "      <td>1.69</td>\n",
       "      <td>61.0</td>\n",
       "      <td>6.3</td>\n",
       "      <td>E</td>\n",
       "      <td>21.82</td>\n",
       "    </tr>\n",
       "    <tr>\n",
       "      <th>4</th>\n",
       "      <td>Wii Fit Plus</td>\n",
       "      <td>Wii</td>\n",
       "      <td>2009</td>\n",
       "      <td>Sports</td>\n",
       "      <td>9.01</td>\n",
       "      <td>8.49</td>\n",
       "      <td>2.53</td>\n",
       "      <td>1.77</td>\n",
       "      <td>80.0</td>\n",
       "      <td>7.4</td>\n",
       "      <td>E</td>\n",
       "      <td>21.80</td>\n",
       "    </tr>\n",
       "  </tbody>\n",
       "</table>\n",
       "</div>"
      ],
      "text/plain": [
       "                        name platform  ...  rating sum_sales\n",
       "0             Mario Kart Wii      Wii  ...       E     35.52\n",
       "1          Wii Sports Resort      Wii  ...       E     32.77\n",
       "2  New Super Mario Bros. Wii      Wii  ...       E     28.32\n",
       "3         Kinect Adventures!     X360  ...       E     21.82\n",
       "4               Wii Fit Plus      Wii  ...       E     21.80\n",
       "\n",
       "[5 rows x 12 columns]"
      ]
     },
     "execution_count": 30,
     "metadata": {
      "tags": []
     },
     "output_type": "execute_result"
    }
   ],
   "source": [
    "df.head()"
   ]
  },
  {
   "cell_type": "code",
   "execution_count": null,
   "metadata": {
    "colab": {
     "base_uri": "https://localhost:8080/",
     "height": 390
    },
    "id": "wmnXdtfdCRL9",
    "outputId": "e23dfaed-ca76-4eba-f6ab-995cce320394"
   },
   "outputs": [
    {
     "data": {
      "text/html": [
       "<div>\n",
       "<style scoped>\n",
       "    .dataframe tbody tr th:only-of-type {\n",
       "        vertical-align: middle;\n",
       "    }\n",
       "\n",
       "    .dataframe tbody tr th {\n",
       "        vertical-align: top;\n",
       "    }\n",
       "\n",
       "    .dataframe thead th {\n",
       "        text-align: right;\n",
       "    }\n",
       "</style>\n",
       "<table border=\"1\" class=\"dataframe\">\n",
       "  <thead>\n",
       "    <tr style=\"text-align: right;\">\n",
       "      <th></th>\n",
       "      <th>sum_sales</th>\n",
       "    </tr>\n",
       "    <tr>\n",
       "      <th>platform</th>\n",
       "      <th></th>\n",
       "    </tr>\n",
       "  </thead>\n",
       "  <tbody>\n",
       "    <tr>\n",
       "      <th>X360</th>\n",
       "      <td>0.807575</td>\n",
       "    </tr>\n",
       "    <tr>\n",
       "      <th>PS4</th>\n",
       "      <td>0.801378</td>\n",
       "    </tr>\n",
       "    <tr>\n",
       "      <th>PS3</th>\n",
       "      <td>0.704113</td>\n",
       "    </tr>\n",
       "    <tr>\n",
       "      <th>XOne</th>\n",
       "      <td>0.645020</td>\n",
       "    </tr>\n",
       "    <tr>\n",
       "      <th>Wii</th>\n",
       "      <td>0.568836</td>\n",
       "    </tr>\n",
       "    <tr>\n",
       "      <th>WiiU</th>\n",
       "      <td>0.559116</td>\n",
       "    </tr>\n",
       "    <tr>\n",
       "      <th>3DS</th>\n",
       "      <td>0.503535</td>\n",
       "    </tr>\n",
       "    <tr>\n",
       "      <th>PC</th>\n",
       "      <td>0.228535</td>\n",
       "    </tr>\n",
       "    <tr>\n",
       "      <th>PSP</th>\n",
       "      <td>0.179212</td>\n",
       "    </tr>\n",
       "    <tr>\n",
       "      <th>PSV</th>\n",
       "      <td>0.125431</td>\n",
       "    </tr>\n",
       "  </tbody>\n",
       "</table>\n",
       "</div>"
      ],
      "text/plain": [
       "          sum_sales\n",
       "platform           \n",
       "X360       0.807575\n",
       "PS4        0.801378\n",
       "PS3        0.704113\n",
       "XOne       0.645020\n",
       "Wii        0.568836\n",
       "WiiU       0.559116\n",
       "3DS        0.503535\n",
       "PC         0.228535\n",
       "PSP        0.179212\n",
       "PSV        0.125431"
      ]
     },
     "execution_count": 31,
     "metadata": {
      "tags": []
     },
     "output_type": "execute_result"
    }
   ],
   "source": [
    "df.pivot_table(index = 'platform', values = 'sum_sales').sort_values(by = 'sum_sales',ascending = False)"
   ]
  },
  {
   "cell_type": "code",
   "execution_count": null,
   "metadata": {
    "colab": {
     "base_uri": "https://localhost:8080/",
     "height": 594
    },
    "id": "09Qpsg7eCRL-",
    "outputId": "fa73ccc1-da83-46e5-8872-98c5d1c31dd1"
   },
   "outputs": [
    {
     "name": "stderr",
     "output_type": "stream",
     "text": [
      "/usr/local/lib/python3.7/dist-packages/numpy/core/_asarray.py:83: VisibleDeprecationWarning: Creating an ndarray from ragged nested sequences (which is a list-or-tuple of lists-or-tuples-or ndarrays with different lengths or shapes) is deprecated. If you meant to do this, you must specify 'dtype=object' when creating the ndarray\n",
      "  return array(a, dtype, copy=False, order=order)\n"
     ]
    },
    {
     "data": {
      "image/png": "[encoded data removed]",
      "text/plain": [
       "<Figure size 1008x576 with 1 Axes>"
      ]
     },
     "metadata": {
      "needs_background": "light",
      "tags": []
     },
     "output_type": "display_data"
    }
   ],
   "source": [
    "plot = df.boxplot('sum_sales', by = 'platform', figsize = (14,8))\n",
    "plot.set_ylim(0,2)\n",
    "plt.show()"
   ]
  },
  {
   "cell_type": "markdown",
   "metadata": {
    "id": "P_D-OL5jCRL-"
   },
   "source": [
    "По суммарным продажам лидирует х360 и пс3, пс4, х1 и вию догоняют. ПК почти в самом низу, что удивительно."
   ]
  },
  {
   "cell_type": "code",
   "execution_count": null,
   "metadata": {
    "colab": {
     "base_uri": "https://localhost:8080/",
     "height": 297
    },
    "id": "j9Z7fYImCRL-",
    "outputId": "8e857290-df08-4bef-8f78-a6bbdc3493c0"
   },
   "outputs": [
    {
     "data": {
      "text/plain": [
       "<matplotlib.axes._subplots.AxesSubplot at 0x7fc207256610>"
      ]
     },
     "execution_count": 33,
     "metadata": {
      "tags": []
     },
     "output_type": "execute_result"
    },
    {
     "data": {
      "image/png": "[encoded data removed]",
      "text/plain": [
       "<Figure size 432x288 with 1 Axes>"
      ]
     },
     "metadata": {
      "needs_background": "light",
      "tags": []
     },
     "output_type": "display_data"
    }
   ],
   "source": [
    "df[df['platform'] == 'X360'].plot(kind = 'scatter', y = 'sum_sales', x = 'critic_score', alpha = 0.5)"
   ]
  },
  {
   "cell_type": "code",
   "execution_count": null,
   "metadata": {
    "colab": {
     "base_uri": "https://localhost:8080/"
    },
    "id": "-4WnBbSDCRL-",
    "outputId": "fe681434-4a9f-4c8d-9dca-e3c866b46449"
   },
   "outputs": [
    {
     "data": {
      "text/plain": [
       "0.3886526625814236"
      ]
     },
     "execution_count": 34,
     "metadata": {
      "tags": []
     },
     "output_type": "execute_result"
    }
   ],
   "source": [
    "df[df['platform'] == 'X360']['sum_sales'].corr(df['critic_score'])"
   ]
  },
  {
   "cell_type": "code",
   "execution_count": null,
   "metadata": {
    "id": "nn86djAdCRL_"
   },
   "outputs": [],
   "source": [
    "sample = df.dropna(subset = ['user_score']).copy()"
   ]
  },
  {
   "cell_type": "code",
   "execution_count": null,
   "metadata": {
    "id": "kZvZ98K1CRL_"
   },
   "outputs": [],
   "source": [
    "sample['user_score'] = sample['user_score'].astype('float')"
   ]
  },
  {
   "cell_type": "code",
   "execution_count": null,
   "metadata": {
    "colab": {
     "base_uri": "https://localhost:8080/",
     "height": 296
    },
    "id": "Dxc5Lf_8CRMA",
    "outputId": "4e1efff7-9b67-4762-a623-9164a6c8a3d1"
   },
   "outputs": [
    {
     "data": {
      "text/plain": [
       "<matplotlib.axes._subplots.AxesSubplot at 0x7fc207024210>"
      ]
     },
     "execution_count": 37,
     "metadata": {
      "tags": []
     },
     "output_type": "execute_result"
    },
    {
     "data": {
      "image/png": "[encoded data removed]",
      "text/plain": [
       "<Figure size 432x288 with 1 Axes>"
      ]
     },
     "metadata": {
      "needs_background": "light",
      "tags": []
     },
     "output_type": "display_data"
    }
   ],
   "source": [
    "sample[sample['platform'] == 'X360'].plot(kind = 'scatter', y = 'sum_sales', x = 'user_score', alpha = 0.5)"
   ]
  },
  {
   "cell_type": "code",
   "execution_count": null,
   "metadata": {
    "colab": {
     "base_uri": "https://localhost:8080/"
    },
    "id": "vVgJLy2tCRMA",
    "outputId": "062ca1f9-d65b-4826-d011-e783aa0f5ba4"
   },
   "outputs": [
    {
     "data": {
      "text/plain": [
       "0.1658649994457136"
      ]
     },
     "execution_count": 38,
     "metadata": {
      "tags": []
     },
     "output_type": "execute_result"
    }
   ],
   "source": [
    "sample[sample['platform'] == 'X360']['sum_sales'].corr(sample['user_score'])"
   ]
  },
  {
   "cell_type": "markdown",
   "metadata": {
    "id": "M76ERy1mCRMA"
   },
   "source": [
    "В обоих случаях заметно слабое влияние оценок на продажи. Заметно скорее то, что большинство игр имеют оценки в диапазоне 60-90 (критиков) и 6-9 (юзеров)."
   ]
  },
  {
   "cell_type": "markdown",
   "metadata": {
    "id": "BlZ8IkscCRMA"
   },
   "source": [
    "Далее сравню полученные результаты с остальными платформами."
   ]
  },
  {
   "cell_type": "code",
   "execution_count": null,
   "metadata": {
    "colab": {
     "base_uri": "https://localhost:8080/",
     "height": 297
    },
    "id": "owx3HQBsCRMB",
    "outputId": "ae9b1144-bcd8-4bc1-81c5-0042fb2d897d"
   },
   "outputs": [
    {
     "data": {
      "text/plain": [
       "<matplotlib.axes._subplots.AxesSubplot at 0x7fc206fcaed0>"
      ]
     },
     "execution_count": 39,
     "metadata": {
      "tags": []
     },
     "output_type": "execute_result"
    },
    {
     "data": {
      "image/png": "[encoded data removed]",
      "text/plain": [
       "<Figure size 432x288 with 1 Axes>"
      ]
     },
     "metadata": {
      "needs_background": "light",
      "tags": []
     },
     "output_type": "display_data"
    }
   ],
   "source": [
    "df[df['platform'] != 'X360'].plot(kind = 'scatter', y = 'sum_sales', x = 'critic_score', alpha = 0.5)"
   ]
  },
  {
   "cell_type": "code",
   "execution_count": null,
   "metadata": {
    "colab": {
     "base_uri": "https://localhost:8080/"
    },
    "id": "sxCHYxqqCRMB",
    "outputId": "0085bd2d-7441-4c88-b012-f71a97a598dc"
   },
   "outputs": [
    {
     "data": {
      "text/plain": [
       "0.2664017938165241"
      ]
     },
     "execution_count": 40,
     "metadata": {
      "tags": []
     },
     "output_type": "execute_result"
    }
   ],
   "source": [
    "df[df['platform'] != 'X360']['sum_sales'].corr(df['critic_score'])"
   ]
  },
  {
   "cell_type": "code",
   "execution_count": null,
   "metadata": {
    "colab": {
     "base_uri": "https://localhost:8080/",
     "height": 296
    },
    "id": "p-qdz3hGCRMB",
    "outputId": "945d1776-9d89-4c63-cb9c-1c0e4e7ee2cd"
   },
   "outputs": [
    {
     "data": {
      "text/plain": [
       "<matplotlib.axes._subplots.AxesSubplot at 0x7fc2074af050>"
      ]
     },
     "execution_count": 41,
     "metadata": {
      "tags": []
     },
     "output_type": "execute_result"
    },
    {
     "data": {
      "image/png": "[encoded data removed]",
      "text/plain": [
       "<Figure size 432x288 with 1 Axes>"
      ]
     },
     "metadata": {
      "needs_background": "light",
      "tags": []
     },
     "output_type": "display_data"
    }
   ],
   "source": [
    "sample[sample['platform'] != 'X360'].plot(kind = 'scatter', y = 'sum_sales', x = 'user_score', alpha = 0.5)"
   ]
  },
  {
   "cell_type": "code",
   "execution_count": null,
   "metadata": {
    "colab": {
     "base_uri": "https://localhost:8080/"
    },
    "id": "su7MEHNUCRMC",
    "outputId": "4f59b35b-fca5-4ddd-b22a-841c1b410ec0"
   },
   "outputs": [
    {
     "data": {
      "text/plain": [
       "0.1658649994457136"
      ]
     },
     "execution_count": 42,
     "metadata": {
      "tags": []
     },
     "output_type": "execute_result"
    }
   ],
   "source": [
    "sample[sample['platform'] == 'X360']['sum_sales'].corr(sample['user_score'])"
   ]
  },
  {
   "cell_type": "markdown",
   "metadata": {
    "id": "AtPi5VL7CRMC"
   },
   "source": [
    "С остальными платформами такая же ситуация."
   ]
  },
  {
   "cell_type": "code",
   "execution_count": null,
   "metadata": {
    "colab": {
     "base_uri": "https://localhost:8080/"
    },
    "id": "muJ2O62lCRMC",
    "outputId": "246d38be-3e04-4757-9429-e8a72796065c"
   },
   "outputs": [
    {
     "data": {
      "text/plain": [
       "array(['Racing', 'Sports', 'Platform', 'Misc', 'Action', 'Shooter',\n",
       "       'Role-Playing', 'Fighting', 'Simulation', 'Strategy', 'Adventure',\n",
       "       'Puzzle'], dtype=object)"
      ]
     },
     "execution_count": 43,
     "metadata": {
      "tags": []
     },
     "output_type": "execute_result"
    }
   ],
   "source": [
    "df['genre'].unique()"
   ]
  },
  {
   "cell_type": "code",
   "execution_count": null,
   "metadata": {
    "colab": {
     "base_uri": "https://localhost:8080/",
     "height": 334
    },
    "id": "Y4Dkt8v-CRMC",
    "outputId": "15f23345-e9d2-4247-e8e8-63b08b856465"
   },
   "outputs": [
    {
     "data": {
      "text/plain": [
       "<matplotlib.axes._subplots.AxesSubplot at 0x7fc20730edd0>"
      ]
     },
     "execution_count": 44,
     "metadata": {
      "tags": []
     },
     "output_type": "execute_result"
    },
    {
     "data": {
      "image/png": "[encoded data removed]",
      "text/plain": [
       "<Figure size 432x288 with 1 Axes>"
      ]
     },
     "metadata": {
      "needs_background": "light",
      "tags": []
     },
     "output_type": "display_data"
    }
   ],
   "source": [
    "df['genre'].value_counts(normalize = True).plot(kind = 'bar')"
   ]
  },
  {
   "cell_type": "markdown",
   "metadata": {
    "id": "-JYAhVbLCRMD"
   },
   "source": [
    "Основные жанры это:\n",
    " - 25% от всех игр экшен\n",
    " - спорт - 12,5% \n",
    " - разное и рпг - 10%\n",
    " - остальное меньше 10%"
   ]
  },
  {
   "cell_type": "code",
   "execution_count": null,
   "metadata": {
    "id": "slW6LlI0CRMD"
   },
   "outputs": [],
   "source": [
    "genres_pivot = df.pivot_table(index = 'genre', values = 'sum_sales', aggfunc = ['sum', 'mean', 'median'])"
   ]
  },
  {
   "cell_type": "code",
   "execution_count": null,
   "metadata": {
    "id": "hwAOtLckCRMD"
   },
   "outputs": [],
   "source": [
    "genres_pivot = genres_pivot.reset_index()"
   ]
  },
  {
   "cell_type": "code",
   "execution_count": null,
   "metadata": {
    "id": "2vVtp7PeCRME"
   },
   "outputs": [],
   "source": [
    "genres_pivot.columns = ['genre', 'sum_sales', 'mean_sales', 'median_sales']"
   ]
  },
  {
   "cell_type": "code",
   "execution_count": null,
   "metadata": {
    "colab": {
     "base_uri": "https://localhost:8080/",
     "height": 421
    },
    "id": "rRobPmjYCRME",
    "outputId": "b3173e34-0f40-4d99-87b6-5a842a8512b1"
   },
   "outputs": [
    {
     "data": {
      "text/html": [
       "<div>\n",
       "<style scoped>\n",
       "    .dataframe tbody tr th:only-of-type {\n",
       "        vertical-align: middle;\n",
       "    }\n",
       "\n",
       "    .dataframe tbody tr th {\n",
       "        vertical-align: top;\n",
       "    }\n",
       "\n",
       "    .dataframe thead th {\n",
       "        text-align: right;\n",
       "    }\n",
       "</style>\n",
       "<table border=\"1\" class=\"dataframe\">\n",
       "  <thead>\n",
       "    <tr style=\"text-align: right;\">\n",
       "      <th></th>\n",
       "      <th>genre</th>\n",
       "      <th>sum_sales</th>\n",
       "      <th>mean_sales</th>\n",
       "      <th>median_sales</th>\n",
       "    </tr>\n",
       "  </thead>\n",
       "  <tbody>\n",
       "    <tr>\n",
       "      <th>8</th>\n",
       "      <td>Shooter</td>\n",
       "      <td>600.81</td>\n",
       "      <td>1.092382</td>\n",
       "      <td>0.355</td>\n",
       "    </tr>\n",
       "    <tr>\n",
       "      <th>4</th>\n",
       "      <td>Platform</td>\n",
       "      <td>174.62</td>\n",
       "      <td>0.914241</td>\n",
       "      <td>0.250</td>\n",
       "    </tr>\n",
       "    <tr>\n",
       "      <th>10</th>\n",
       "      <td>Sports</td>\n",
       "      <td>514.07</td>\n",
       "      <td>0.642587</td>\n",
       "      <td>0.230</td>\n",
       "    </tr>\n",
       "    <tr>\n",
       "      <th>6</th>\n",
       "      <td>Racing</td>\n",
       "      <td>214.14</td>\n",
       "      <td>0.617118</td>\n",
       "      <td>0.180</td>\n",
       "    </tr>\n",
       "    <tr>\n",
       "      <th>7</th>\n",
       "      <td>Role-Playing</td>\n",
       "      <td>340.45</td>\n",
       "      <td>0.527012</td>\n",
       "      <td>0.160</td>\n",
       "    </tr>\n",
       "    <tr>\n",
       "      <th>2</th>\n",
       "      <td>Fighting</td>\n",
       "      <td>140.68</td>\n",
       "      <td>0.521037</td>\n",
       "      <td>0.200</td>\n",
       "    </tr>\n",
       "    <tr>\n",
       "      <th>0</th>\n",
       "      <td>Action</td>\n",
       "      <td>856.39</td>\n",
       "      <td>0.499353</td>\n",
       "      <td>0.170</td>\n",
       "    </tr>\n",
       "    <tr>\n",
       "      <th>3</th>\n",
       "      <td>Misc</td>\n",
       "      <td>321.71</td>\n",
       "      <td>0.473103</td>\n",
       "      <td>0.170</td>\n",
       "    </tr>\n",
       "    <tr>\n",
       "      <th>9</th>\n",
       "      <td>Simulation</td>\n",
       "      <td>97.69</td>\n",
       "      <td>0.393911</td>\n",
       "      <td>0.130</td>\n",
       "    </tr>\n",
       "    <tr>\n",
       "      <th>11</th>\n",
       "      <td>Strategy</td>\n",
       "      <td>48.97</td>\n",
       "      <td>0.211991</td>\n",
       "      <td>0.080</td>\n",
       "    </tr>\n",
       "    <tr>\n",
       "      <th>5</th>\n",
       "      <td>Puzzle</td>\n",
       "      <td>20.58</td>\n",
       "      <td>0.196000</td>\n",
       "      <td>0.070</td>\n",
       "    </tr>\n",
       "    <tr>\n",
       "      <th>1</th>\n",
       "      <td>Adventure</td>\n",
       "      <td>69.24</td>\n",
       "      <td>0.113322</td>\n",
       "      <td>0.040</td>\n",
       "    </tr>\n",
       "  </tbody>\n",
       "</table>\n",
       "</div>"
      ],
      "text/plain": [
       "           genre  sum_sales  mean_sales  median_sales\n",
       "8        Shooter     600.81    1.092382         0.355\n",
       "4       Platform     174.62    0.914241         0.250\n",
       "10        Sports     514.07    0.642587         0.230\n",
       "6         Racing     214.14    0.617118         0.180\n",
       "7   Role-Playing     340.45    0.527012         0.160\n",
       "2       Fighting     140.68    0.521037         0.200\n",
       "0         Action     856.39    0.499353         0.170\n",
       "3           Misc     321.71    0.473103         0.170\n",
       "9     Simulation      97.69    0.393911         0.130\n",
       "11      Strategy      48.97    0.211991         0.080\n",
       "5         Puzzle      20.58    0.196000         0.070\n",
       "1      Adventure      69.24    0.113322         0.040"
      ]
     },
     "execution_count": 48,
     "metadata": {
      "tags": []
     },
     "output_type": "execute_result"
    }
   ],
   "source": [
    "genres_pivot.sort_values('mean_sales', ascending = False)"
   ]
  },
  {
   "cell_type": "code",
   "execution_count": null,
   "metadata": {
    "colab": {
     "base_uri": "https://localhost:8080/",
     "height": 421
    },
    "id": "OUkRHZzYCRME",
    "outputId": "b82ab1c6-e597-4b88-8c82-ce7495f9b9f0"
   },
   "outputs": [
    {
     "data": {
      "text/html": [
       "<div>\n",
       "<style scoped>\n",
       "    .dataframe tbody tr th:only-of-type {\n",
       "        vertical-align: middle;\n",
       "    }\n",
       "\n",
       "    .dataframe tbody tr th {\n",
       "        vertical-align: top;\n",
       "    }\n",
       "\n",
       "    .dataframe thead th {\n",
       "        text-align: right;\n",
       "    }\n",
       "</style>\n",
       "<table border=\"1\" class=\"dataframe\">\n",
       "  <thead>\n",
       "    <tr style=\"text-align: right;\">\n",
       "      <th></th>\n",
       "      <th>genre</th>\n",
       "      <th>sum_sales</th>\n",
       "      <th>mean_sales</th>\n",
       "      <th>median_sales</th>\n",
       "    </tr>\n",
       "  </thead>\n",
       "  <tbody>\n",
       "    <tr>\n",
       "      <th>0</th>\n",
       "      <td>Action</td>\n",
       "      <td>856.39</td>\n",
       "      <td>0.499353</td>\n",
       "      <td>0.170</td>\n",
       "    </tr>\n",
       "    <tr>\n",
       "      <th>8</th>\n",
       "      <td>Shooter</td>\n",
       "      <td>600.81</td>\n",
       "      <td>1.092382</td>\n",
       "      <td>0.355</td>\n",
       "    </tr>\n",
       "    <tr>\n",
       "      <th>10</th>\n",
       "      <td>Sports</td>\n",
       "      <td>514.07</td>\n",
       "      <td>0.642587</td>\n",
       "      <td>0.230</td>\n",
       "    </tr>\n",
       "    <tr>\n",
       "      <th>7</th>\n",
       "      <td>Role-Playing</td>\n",
       "      <td>340.45</td>\n",
       "      <td>0.527012</td>\n",
       "      <td>0.160</td>\n",
       "    </tr>\n",
       "    <tr>\n",
       "      <th>3</th>\n",
       "      <td>Misc</td>\n",
       "      <td>321.71</td>\n",
       "      <td>0.473103</td>\n",
       "      <td>0.170</td>\n",
       "    </tr>\n",
       "    <tr>\n",
       "      <th>6</th>\n",
       "      <td>Racing</td>\n",
       "      <td>214.14</td>\n",
       "      <td>0.617118</td>\n",
       "      <td>0.180</td>\n",
       "    </tr>\n",
       "    <tr>\n",
       "      <th>4</th>\n",
       "      <td>Platform</td>\n",
       "      <td>174.62</td>\n",
       "      <td>0.914241</td>\n",
       "      <td>0.250</td>\n",
       "    </tr>\n",
       "    <tr>\n",
       "      <th>2</th>\n",
       "      <td>Fighting</td>\n",
       "      <td>140.68</td>\n",
       "      <td>0.521037</td>\n",
       "      <td>0.200</td>\n",
       "    </tr>\n",
       "    <tr>\n",
       "      <th>9</th>\n",
       "      <td>Simulation</td>\n",
       "      <td>97.69</td>\n",
       "      <td>0.393911</td>\n",
       "      <td>0.130</td>\n",
       "    </tr>\n",
       "    <tr>\n",
       "      <th>1</th>\n",
       "      <td>Adventure</td>\n",
       "      <td>69.24</td>\n",
       "      <td>0.113322</td>\n",
       "      <td>0.040</td>\n",
       "    </tr>\n",
       "    <tr>\n",
       "      <th>11</th>\n",
       "      <td>Strategy</td>\n",
       "      <td>48.97</td>\n",
       "      <td>0.211991</td>\n",
       "      <td>0.080</td>\n",
       "    </tr>\n",
       "    <tr>\n",
       "      <th>5</th>\n",
       "      <td>Puzzle</td>\n",
       "      <td>20.58</td>\n",
       "      <td>0.196000</td>\n",
       "      <td>0.070</td>\n",
       "    </tr>\n",
       "  </tbody>\n",
       "</table>\n",
       "</div>"
      ],
      "text/plain": [
       "           genre  sum_sales  mean_sales  median_sales\n",
       "0         Action     856.39    0.499353         0.170\n",
       "8        Shooter     600.81    1.092382         0.355\n",
       "10        Sports     514.07    0.642587         0.230\n",
       "7   Role-Playing     340.45    0.527012         0.160\n",
       "3           Misc     321.71    0.473103         0.170\n",
       "6         Racing     214.14    0.617118         0.180\n",
       "4       Platform     174.62    0.914241         0.250\n",
       "2       Fighting     140.68    0.521037         0.200\n",
       "9     Simulation      97.69    0.393911         0.130\n",
       "1      Adventure      69.24    0.113322         0.040\n",
       "11      Strategy      48.97    0.211991         0.080\n",
       "5         Puzzle      20.58    0.196000         0.070"
      ]
     },
     "execution_count": 49,
     "metadata": {
      "tags": []
     },
     "output_type": "execute_result"
    }
   ],
   "source": [
    "genres_pivot.sort_values('sum_sales', ascending = False)"
   ]
  },
  {
   "cell_type": "markdown",
   "metadata": {
    "id": "YXTQRgpUCRMF"
   },
   "source": [
    "Суммарные продажи самые большие у экшенов и шутеров, при этом средние продажи самые большие у шутеров (хотя зачастую эти жанры относятся к одной и той же игре)."
   ]
  },
  {
   "cell_type": "markdown",
   "metadata": {
    "id": "VX_Ed_KUCRMF"
   },
   "source": [
    "На последнем месте паззлы, стратегии и адвенчуры, что не удивительно (не самые популярные жанры)."
   ]
  },
  {
   "cell_type": "code",
   "execution_count": null,
   "metadata": {
    "id": "eEzD1S_sCRMF"
   },
   "outputs": [],
   "source": [
    "platform_pivot = df.pivot_table(index = 'platform', values = ['eu_sales', 'na_sales', 'jp_sales', 'sum_sales'],\n",
    "                               aggfunc = 'sum').reset_index().sort_values('sum_sales', ascending = False).head(\n",
    "    5).reset_index(drop = True)                                "
   ]
  },
  {
   "cell_type": "markdown",
   "metadata": {
    "id": "goumoRGCCRMG"
   },
   "source": [
    "Делаю сводник топ-5 платформ по общим продажам."
   ]
  },
  {
   "cell_type": "code",
   "execution_count": null,
   "metadata": {
    "id": "SSJeN_peCRMG"
   },
   "outputs": [],
   "source": [
    "platform_pivot['eu_sales'] = platform_pivot['eu_sales'] / platform_pivot['sum_sales']\n",
    "platform_pivot['jp_sales'] = platform_pivot['jp_sales'] / platform_pivot['sum_sales']\n",
    "platform_pivot['na_sales'] = platform_pivot['na_sales'] / platform_pivot['sum_sales']"
   ]
  },
  {
   "cell_type": "markdown",
   "metadata": {
    "id": "Dk2RNN7kCRMG"
   },
   "source": [
    "Считаю долю продаж по каждому региону."
   ]
  },
  {
   "cell_type": "code",
   "execution_count": null,
   "metadata": {
    "colab": {
     "base_uri": "https://localhost:8080/",
     "height": 204
    },
    "id": "F_PVoNQnCRMG",
    "outputId": "18cd5fc3-483d-4806-9932-d4e4fbeeb4fb"
   },
   "outputs": [
    {
     "data": {
      "text/html": [
       "<div>\n",
       "<style scoped>\n",
       "    .dataframe tbody tr th:only-of-type {\n",
       "        vertical-align: middle;\n",
       "    }\n",
       "\n",
       "    .dataframe tbody tr th {\n",
       "        vertical-align: top;\n",
       "    }\n",
       "\n",
       "    .dataframe thead th {\n",
       "        text-align: right;\n",
       "    }\n",
       "</style>\n",
       "<table border=\"1\" class=\"dataframe\">\n",
       "  <thead>\n",
       "    <tr style=\"text-align: right;\">\n",
       "      <th></th>\n",
       "      <th>platform</th>\n",
       "      <th>eu_sales</th>\n",
       "      <th>jp_sales</th>\n",
       "      <th>na_sales</th>\n",
       "      <th>sum_sales</th>\n",
       "    </tr>\n",
       "  </thead>\n",
       "  <tbody>\n",
       "    <tr>\n",
       "      <th>0</th>\n",
       "      <td>PS3</td>\n",
       "      <td>0.350852</td>\n",
       "      <td>0.088522</td>\n",
       "      <td>0.417026</td>\n",
       "      <td>837.19</td>\n",
       "    </tr>\n",
       "    <tr>\n",
       "      <th>1</th>\n",
       "      <td>X360</td>\n",
       "      <td>0.291429</td>\n",
       "      <td>0.011539</td>\n",
       "      <td>0.608827</td>\n",
       "      <td>805.96</td>\n",
       "    </tr>\n",
       "    <tr>\n",
       "      <th>2</th>\n",
       "      <td>Wii</td>\n",
       "      <td>0.283970</td>\n",
       "      <td>0.078186</td>\n",
       "      <td>0.553621</td>\n",
       "      <td>601.26</td>\n",
       "    </tr>\n",
       "    <tr>\n",
       "      <th>3</th>\n",
       "      <td>PS4</td>\n",
       "      <td>0.449131</td>\n",
       "      <td>0.050805</td>\n",
       "      <td>0.346151</td>\n",
       "      <td>314.14</td>\n",
       "    </tr>\n",
       "    <tr>\n",
       "      <th>4</th>\n",
       "      <td>3DS</td>\n",
       "      <td>0.237656</td>\n",
       "      <td>0.390287</td>\n",
       "      <td>0.320585</td>\n",
       "      <td>257.81</td>\n",
       "    </tr>\n",
       "  </tbody>\n",
       "</table>\n",
       "</div>"
      ],
      "text/plain": [
       "  platform  eu_sales  jp_sales  na_sales  sum_sales\n",
       "0      PS3  0.350852  0.088522  0.417026     837.19\n",
       "1     X360  0.291429  0.011539  0.608827     805.96\n",
       "2      Wii  0.283970  0.078186  0.553621     601.26\n",
       "3      PS4  0.449131  0.050805  0.346151     314.14\n",
       "4      3DS  0.237656  0.390287  0.320585     257.81"
      ]
     },
     "execution_count": 52,
     "metadata": {
      "tags": []
     },
     "output_type": "execute_result"
    }
   ],
   "source": [
    "platform_pivot"
   ]
  },
  {
   "cell_type": "markdown",
   "metadata": {
    "id": "pob4f2w7CRMG"
   },
   "source": [
    "Получаю следующее распределение продаж:\n",
    "- хбокс360 лидер Америка - 60%;\n",
    "- пс3 лидер Америка - 41%;\n",
    "- ви лидер Америка - 55%;\n",
    "- пс4 лидер Европа - 44%;\n",
    "- 3дс лидер Япония - 45%;"
   ]
  },
  {
   "cell_type": "code",
   "execution_count": null,
   "metadata": {
    "id": "FufGuzXbCRMH"
   },
   "outputs": [],
   "source": [
    "genre_pivot = df.pivot_table(index = 'genre', values = ['eu_sales', 'na_sales', 'jp_sales', 'sum_sales'],\n",
    "                               aggfunc = 'sum').reset_index().sort_values('sum_sales', ascending = False).head(\n",
    "    5).reset_index(drop = True)"
   ]
  },
  {
   "cell_type": "markdown",
   "metadata": {
    "id": "iZK-dxmECRMH"
   },
   "source": [
    "Делаю сводник топ-5 жанров по регионам."
   ]
  },
  {
   "cell_type": "code",
   "execution_count": null,
   "metadata": {
    "colab": {
     "base_uri": "https://localhost:8080/",
     "height": 204
    },
    "id": "t5OWA7fDCRMH",
    "outputId": "90fe945f-1740-4bef-d7a4-2a773dd91ebe"
   },
   "outputs": [
    {
     "data": {
      "text/html": [
       "<div>\n",
       "<style scoped>\n",
       "    .dataframe tbody tr th:only-of-type {\n",
       "        vertical-align: middle;\n",
       "    }\n",
       "\n",
       "    .dataframe tbody tr th {\n",
       "        vertical-align: top;\n",
       "    }\n",
       "\n",
       "    .dataframe thead th {\n",
       "        text-align: right;\n",
       "    }\n",
       "</style>\n",
       "<table border=\"1\" class=\"dataframe\">\n",
       "  <thead>\n",
       "    <tr style=\"text-align: right;\">\n",
       "      <th></th>\n",
       "      <th>genre</th>\n",
       "      <th>eu_sales</th>\n",
       "      <th>jp_sales</th>\n",
       "      <th>na_sales</th>\n",
       "      <th>sum_sales</th>\n",
       "    </tr>\n",
       "  </thead>\n",
       "  <tbody>\n",
       "    <tr>\n",
       "      <th>0</th>\n",
       "      <td>Action</td>\n",
       "      <td>290.56</td>\n",
       "      <td>80.02</td>\n",
       "      <td>386.67</td>\n",
       "      <td>856.39</td>\n",
       "    </tr>\n",
       "    <tr>\n",
       "      <th>1</th>\n",
       "      <td>Shooter</td>\n",
       "      <td>207.48</td>\n",
       "      <td>15.81</td>\n",
       "      <td>306.58</td>\n",
       "      <td>600.81</td>\n",
       "    </tr>\n",
       "    <tr>\n",
       "      <th>2</th>\n",
       "      <td>Sports</td>\n",
       "      <td>174.63</td>\n",
       "      <td>25.30</td>\n",
       "      <td>257.26</td>\n",
       "      <td>514.07</td>\n",
       "    </tr>\n",
       "    <tr>\n",
       "      <th>3</th>\n",
       "      <td>Role-Playing</td>\n",
       "      <td>83.15</td>\n",
       "      <td>101.87</td>\n",
       "      <td>126.39</td>\n",
       "      <td>340.45</td>\n",
       "    </tr>\n",
       "    <tr>\n",
       "      <th>4</th>\n",
       "      <td>Misc</td>\n",
       "      <td>90.26</td>\n",
       "      <td>24.90</td>\n",
       "      <td>177.09</td>\n",
       "      <td>321.71</td>\n",
       "    </tr>\n",
       "  </tbody>\n",
       "</table>\n",
       "</div>"
      ],
      "text/plain": [
       "          genre  eu_sales  jp_sales  na_sales  sum_sales\n",
       "0        Action    290.56     80.02    386.67     856.39\n",
       "1       Shooter    207.48     15.81    306.58     600.81\n",
       "2        Sports    174.63     25.30    257.26     514.07\n",
       "3  Role-Playing     83.15    101.87    126.39     340.45\n",
       "4          Misc     90.26     24.90    177.09     321.71"
      ]
     },
     "execution_count": 54,
     "metadata": {
      "tags": []
     },
     "output_type": "execute_result"
    }
   ],
   "source": [
    "genre_pivot"
   ]
  },
  {
   "cell_type": "code",
   "execution_count": null,
   "metadata": {
    "colab": {
     "base_uri": "https://localhost:8080/",
     "height": 204
    },
    "id": "2bERPcfWCRMH",
    "outputId": "c718e219-c1bd-4a43-c0ab-93a8c3a88dc3"
   },
   "outputs": [
    {
     "data": {
      "text/html": [
       "<div>\n",
       "<style scoped>\n",
       "    .dataframe tbody tr th:only-of-type {\n",
       "        vertical-align: middle;\n",
       "    }\n",
       "\n",
       "    .dataframe tbody tr th {\n",
       "        vertical-align: top;\n",
       "    }\n",
       "\n",
       "    .dataframe thead th {\n",
       "        text-align: right;\n",
       "    }\n",
       "</style>\n",
       "<table border=\"1\" class=\"dataframe\">\n",
       "  <thead>\n",
       "    <tr style=\"text-align: right;\">\n",
       "      <th></th>\n",
       "      <th>genre</th>\n",
       "      <th>eu_sales</th>\n",
       "    </tr>\n",
       "  </thead>\n",
       "  <tbody>\n",
       "    <tr>\n",
       "      <th>0</th>\n",
       "      <td>Action</td>\n",
       "      <td>290.56</td>\n",
       "    </tr>\n",
       "    <tr>\n",
       "      <th>1</th>\n",
       "      <td>Shooter</td>\n",
       "      <td>207.48</td>\n",
       "    </tr>\n",
       "    <tr>\n",
       "      <th>2</th>\n",
       "      <td>Sports</td>\n",
       "      <td>174.63</td>\n",
       "    </tr>\n",
       "    <tr>\n",
       "      <th>4</th>\n",
       "      <td>Misc</td>\n",
       "      <td>90.26</td>\n",
       "    </tr>\n",
       "    <tr>\n",
       "      <th>3</th>\n",
       "      <td>Role-Playing</td>\n",
       "      <td>83.15</td>\n",
       "    </tr>\n",
       "  </tbody>\n",
       "</table>\n",
       "</div>"
      ],
      "text/plain": [
       "          genre  eu_sales\n",
       "0        Action    290.56\n",
       "1       Shooter    207.48\n",
       "2        Sports    174.63\n",
       "4          Misc     90.26\n",
       "3  Role-Playing     83.15"
      ]
     },
     "execution_count": 55,
     "metadata": {
      "tags": []
     },
     "output_type": "execute_result"
    }
   ],
   "source": [
    "genre_pivot[['genre', 'eu_sales']].sort_values('eu_sales', ascending = False)"
   ]
  },
  {
   "cell_type": "markdown",
   "metadata": {
    "id": "orHwPot8CRMH"
   },
   "source": [
    "В Европе:\n",
    "1. Экшн\n",
    "2. Шутер\n",
    "3. Спорт\n",
    "4. Разное\n",
    "5. РПГ"
   ]
  },
  {
   "cell_type": "code",
   "execution_count": null,
   "metadata": {
    "colab": {
     "base_uri": "https://localhost:8080/",
     "height": 204
    },
    "id": "LRO7eGj9CRMI",
    "outputId": "0166636c-9f36-4320-e38c-ace859a2ab27"
   },
   "outputs": [
    {
     "data": {
      "text/html": [
       "<div>\n",
       "<style scoped>\n",
       "    .dataframe tbody tr th:only-of-type {\n",
       "        vertical-align: middle;\n",
       "    }\n",
       "\n",
       "    .dataframe tbody tr th {\n",
       "        vertical-align: top;\n",
       "    }\n",
       "\n",
       "    .dataframe thead th {\n",
       "        text-align: right;\n",
       "    }\n",
       "</style>\n",
       "<table border=\"1\" class=\"dataframe\">\n",
       "  <thead>\n",
       "    <tr style=\"text-align: right;\">\n",
       "      <th></th>\n",
       "      <th>genre</th>\n",
       "      <th>jp_sales</th>\n",
       "    </tr>\n",
       "  </thead>\n",
       "  <tbody>\n",
       "    <tr>\n",
       "      <th>3</th>\n",
       "      <td>Role-Playing</td>\n",
       "      <td>101.87</td>\n",
       "    </tr>\n",
       "    <tr>\n",
       "      <th>0</th>\n",
       "      <td>Action</td>\n",
       "      <td>80.02</td>\n",
       "    </tr>\n",
       "    <tr>\n",
       "      <th>2</th>\n",
       "      <td>Sports</td>\n",
       "      <td>25.30</td>\n",
       "    </tr>\n",
       "    <tr>\n",
       "      <th>4</th>\n",
       "      <td>Misc</td>\n",
       "      <td>24.90</td>\n",
       "    </tr>\n",
       "    <tr>\n",
       "      <th>1</th>\n",
       "      <td>Shooter</td>\n",
       "      <td>15.81</td>\n",
       "    </tr>\n",
       "  </tbody>\n",
       "</table>\n",
       "</div>"
      ],
      "text/plain": [
       "          genre  jp_sales\n",
       "3  Role-Playing    101.87\n",
       "0        Action     80.02\n",
       "2        Sports     25.30\n",
       "4          Misc     24.90\n",
       "1       Shooter     15.81"
      ]
     },
     "execution_count": 56,
     "metadata": {
      "tags": []
     },
     "output_type": "execute_result"
    }
   ],
   "source": [
    "genre_pivot[['genre', 'jp_sales']].sort_values('jp_sales', ascending = False)"
   ]
  },
  {
   "cell_type": "markdown",
   "metadata": {
    "id": "yCx7in09CRMI"
   },
   "source": [
    "В Японии:\n",
    "1. РПГ\n",
    "2. Экшн\n",
    "3. Спорт\n",
    "4. Шутер\n",
    "5. Разное"
   ]
  },
  {
   "cell_type": "code",
   "execution_count": null,
   "metadata": {
    "colab": {
     "base_uri": "https://localhost:8080/",
     "height": 204
    },
    "id": "4SuTwgJ6CRMI",
    "outputId": "22a963b1-a8d4-4f78-e675-c9baaec4cfec"
   },
   "outputs": [
    {
     "data": {
      "text/html": [
       "<div>\n",
       "<style scoped>\n",
       "    .dataframe tbody tr th:only-of-type {\n",
       "        vertical-align: middle;\n",
       "    }\n",
       "\n",
       "    .dataframe tbody tr th {\n",
       "        vertical-align: top;\n",
       "    }\n",
       "\n",
       "    .dataframe thead th {\n",
       "        text-align: right;\n",
       "    }\n",
       "</style>\n",
       "<table border=\"1\" class=\"dataframe\">\n",
       "  <thead>\n",
       "    <tr style=\"text-align: right;\">\n",
       "      <th></th>\n",
       "      <th>genre</th>\n",
       "      <th>na_sales</th>\n",
       "    </tr>\n",
       "  </thead>\n",
       "  <tbody>\n",
       "    <tr>\n",
       "      <th>0</th>\n",
       "      <td>Action</td>\n",
       "      <td>386.67</td>\n",
       "    </tr>\n",
       "    <tr>\n",
       "      <th>1</th>\n",
       "      <td>Shooter</td>\n",
       "      <td>306.58</td>\n",
       "    </tr>\n",
       "    <tr>\n",
       "      <th>2</th>\n",
       "      <td>Sports</td>\n",
       "      <td>257.26</td>\n",
       "    </tr>\n",
       "    <tr>\n",
       "      <th>4</th>\n",
       "      <td>Misc</td>\n",
       "      <td>177.09</td>\n",
       "    </tr>\n",
       "    <tr>\n",
       "      <th>3</th>\n",
       "      <td>Role-Playing</td>\n",
       "      <td>126.39</td>\n",
       "    </tr>\n",
       "  </tbody>\n",
       "</table>\n",
       "</div>"
      ],
      "text/plain": [
       "          genre  na_sales\n",
       "0        Action    386.67\n",
       "1       Shooter    306.58\n",
       "2        Sports    257.26\n",
       "4          Misc    177.09\n",
       "3  Role-Playing    126.39"
      ]
     },
     "execution_count": 57,
     "metadata": {
      "tags": []
     },
     "output_type": "execute_result"
    }
   ],
   "source": [
    "genre_pivot[['genre', 'na_sales']].sort_values('na_sales', ascending = False)"
   ]
  },
  {
   "cell_type": "markdown",
   "metadata": {
    "id": "7iJT72gSCRMI"
   },
   "source": [
    "В Америке:\n",
    "1. Экшн\n",
    "2. Шутер\n",
    "3. Спорт\n",
    "4. Разное\n",
    "5. РПГ\n"
   ]
  },
  {
   "cell_type": "code",
   "execution_count": null,
   "metadata": {
    "colab": {
     "base_uri": "https://localhost:8080/"
    },
    "id": "oh-flsOYCRMI",
    "outputId": "c685bccb-3090-4b58-dee6-9fb9c7144c44"
   },
   "outputs": [
    {
     "data": {
      "text/plain": [
       "-0.03928004743887283"
      ]
     },
     "execution_count": 58,
     "metadata": {
      "tags": []
     },
     "output_type": "execute_result"
    }
   ],
   "source": [
    "df['na_sales'].corr(df['rating'], method = 'spearman')"
   ]
  },
  {
   "cell_type": "code",
   "execution_count": null,
   "metadata": {
    "colab": {
     "base_uri": "https://localhost:8080/"
    },
    "id": "q4CZybFlCRMJ",
    "outputId": "625d1130-0ff8-471b-b0d0-800989e07bbd"
   },
   "outputs": [
    {
     "data": {
      "text/plain": [
       "0.2048835890936614"
      ]
     },
     "execution_count": 59,
     "metadata": {
      "tags": []
     },
     "output_type": "execute_result"
    }
   ],
   "source": [
    "df['jp_sales'].corr(df['rating'], method = 'spearman')"
   ]
  },
  {
   "cell_type": "code",
   "execution_count": null,
   "metadata": {
    "colab": {
     "base_uri": "https://localhost:8080/"
    },
    "id": "kk9JrA0yCRMJ",
    "outputId": "4febcd6b-1cbc-4de1-f37e-66370b43c82e"
   },
   "outputs": [
    {
     "data": {
      "text/plain": [
       "0.06874778568729115"
      ]
     },
     "execution_count": 60,
     "metadata": {
      "tags": []
     },
     "output_type": "execute_result"
    }
   ],
   "source": [
    "df['eu_sales'].corr(df['rating'], method = 'spearman')"
   ]
  },
  {
   "cell_type": "markdown",
   "metadata": {
    "id": "f7CXdqIhCRMJ"
   },
   "source": [
    "Использую метод Спирмена для расчета корреляции, так как Пирсон не работает с НЕ числовыми значениями.\n",
    "Возрастные рейтинги не влияют на продажи во всех регионах."
   ]
  },
  {
   "cell_type": "markdown",
   "metadata": {
    "id": "b6vxRz3sFy8K"
   },
   "source": [
    "## Проверка гипотез"
   ]
  },
  {
   "cell_type": "markdown",
   "metadata": {
    "id": "jVYkhvk3CRMJ"
   },
   "source": [
    "Необходимо определить одинаковы ли средние пользовательские рейтинги платформ PC и Xbox One.\n",
    "Нулевая гипотеза должна иметь знак равенства, следуя из этого считаю:\n",
    "- нулевой гипотезой - Средние рейтинги равны;\n",
    "- альтернативной гипотезой - средний рейтинги различаются.\n",
    "Пороговым значением считаю 5%."
   ]
  },
  {
   "cell_type": "code",
   "execution_count": null,
   "metadata": {
    "id": "VHFsotEoCRMK"
   },
   "outputs": [],
   "source": [
    "df['user_score'] = pd.to_numeric(df['user_score'], errors = 'ignore').copy()"
   ]
  },
  {
   "cell_type": "markdown",
   "metadata": {
    "id": "nlt0XbAGCRMK"
   },
   "source": [
    "Преобразовываю столбец с пользовательским рейтингом в числовое значение."
   ]
  },
  {
   "cell_type": "code",
   "execution_count": null,
   "metadata": {
    "id": "gYZzSPGgCRMK"
   },
   "outputs": [],
   "source": [
    "df = df[df['user_score'] != 0]"
   ]
  },
  {
   "cell_type": "markdown",
   "metadata": {
    "id": "wuaYFzjWCRMK"
   },
   "source": [
    "При проверках гипотез не буду учитывать нулевые значения рейтинга, так как это на самом деле значения с неопределенным рейтингом."
   ]
  },
  {
   "cell_type": "code",
   "execution_count": null,
   "metadata": {
    "colab": {
     "base_uri": "https://localhost:8080/"
    },
    "id": "3KuZ58qwCRMK",
    "outputId": "14446837-0c3b-484a-a5dd-cb623e38e14e"
   },
   "outputs": [
    {
     "data": {
      "text/plain": [
       "6.717475728155345"
      ]
     },
     "execution_count": 63,
     "metadata": {
      "tags": []
     },
     "output_type": "execute_result"
    }
   ],
   "source": [
    "df[df['platform'] == 'PC']['user_score'].mean()"
   ]
  },
  {
   "cell_type": "code",
   "execution_count": null,
   "metadata": {
    "colab": {
     "base_uri": "https://localhost:8080/"
    },
    "id": "W-siC-BOCRML",
    "outputId": "c01f7896-d2f2-4460-92f6-ebbd3162da1e"
   },
   "outputs": [
    {
     "data": {
      "text/plain": [
       "6.52142857142857"
      ]
     },
     "execution_count": 64,
     "metadata": {
      "tags": []
     },
     "output_type": "execute_result"
    }
   ],
   "source": [
    "df[df['platform'] == 'XOne']['user_score'].mean()"
   ]
  },
  {
   "cell_type": "code",
   "execution_count": null,
   "metadata": {
    "colab": {
     "base_uri": "https://localhost:8080/"
    },
    "id": "qRUXcN7dCRML",
    "outputId": "dcdf7c6c-db2a-4768-ef14-94ccbb4d8bea"
   },
   "outputs": [
    {
     "data": {
      "text/plain": [
       "2.3624955611801606"
      ]
     },
     "execution_count": 65,
     "metadata": {
      "tags": []
     },
     "output_type": "execute_result"
    }
   ],
   "source": [
    "df[df['platform'] == 'PC']['user_score'].var()"
   ]
  },
  {
   "cell_type": "code",
   "execution_count": null,
   "metadata": {
    "colab": {
     "base_uri": "https://localhost:8080/"
    },
    "id": "eGhz29i6CRML",
    "outputId": "98b776f1-7c91-4cc1-af4a-2a99995fe5db"
   },
   "outputs": [
    {
     "data": {
      "text/plain": [
       "1.9069968429360702"
      ]
     },
     "execution_count": 66,
     "metadata": {
      "tags": []
     },
     "output_type": "execute_result"
    }
   ],
   "source": [
    "df[df['platform'] == 'XOne']['user_score'].var()"
   ]
  },
  {
   "cell_type": "markdown",
   "metadata": {
    "id": "oCKMZreWCRMM"
   },
   "source": [
    "Используем Т-тест для проверки равенства двух средних в выборках."
   ]
  },
  {
   "cell_type": "code",
   "execution_count": null,
   "metadata": {
    "colab": {
     "base_uri": "https://localhost:8080/"
    },
    "id": "rAH0qkhjCRMM",
    "outputId": "3a1b5d57-0699-4d63-c058-5346b306b2c6"
   },
   "outputs": [
    {
     "data": {
      "text/plain": [
       "0.11111296036737636"
      ]
     },
     "execution_count": 67,
     "metadata": {
      "tags": []
     },
     "output_type": "execute_result"
    }
   ],
   "source": [
    "results = st.ttest_ind(df[df['platform'] == 'XOne']['user_score'], df[df['platform'] == 'PC']['user_score'], \n",
    "                       equal_var = False, nan_policy = 'omit')\n",
    "results.pvalue"
   ]
  },
  {
   "cell_type": "markdown",
   "metadata": {
    "id": "rcjb6w1JCRMM"
   },
   "source": [
    "Не отвергаю нулевую гипотезу: средние значения различаются на 0.2, а с вероятностью 11% такой разброс можно встретить случайно."
   ]
  },
  {
   "cell_type": "markdown",
   "metadata": {
    "id": "QzJZIj82CRMM"
   },
   "source": [
    "Необходимо определить различны ли средние пользовательские игры жанров Экшн и Спорт.\n",
    "Нулевая гипотеза должна иметь знак равенства, исходя из этого считаю:\n",
    "- нулевой гипотезой - Средние рейтинги равны;\n",
    "- альтернативной гипотезой - средний рейтинги различаются.\n",
    "Пороговым значением считаю 5%."
   ]
  },
  {
   "cell_type": "code",
   "execution_count": null,
   "metadata": {
    "colab": {
     "base_uri": "https://localhost:8080/"
    },
    "id": "nGuMtLNkCRMN",
    "outputId": "4cf4f99f-19a0-4ed8-888e-cacbe3b5830d"
   },
   "outputs": [
    {
     "data": {
      "text/plain": [
       "6.138577586206903"
      ]
     },
     "execution_count": 68,
     "metadata": {
      "tags": []
     },
     "output_type": "execute_result"
    }
   ],
   "source": [
    "df[df['genre'] == 'Sports']['user_score'].mean()"
   ]
  },
  {
   "cell_type": "code",
   "execution_count": null,
   "metadata": {
    "colab": {
     "base_uri": "https://localhost:8080/"
    },
    "id": "GoUX7wqMCRMN",
    "outputId": "cb57a557-ccd4-48e6-ec9f-341e3bbb587a"
   },
   "outputs": [
    {
     "data": {
      "text/plain": [
       "2.9795668708572274"
      ]
     },
     "execution_count": 69,
     "metadata": {
      "tags": []
     },
     "output_type": "execute_result"
    }
   ],
   "source": [
    "df[df['genre'] == 'Sports']['user_score'].var()"
   ]
  },
  {
   "cell_type": "code",
   "execution_count": null,
   "metadata": {
    "colab": {
     "base_uri": "https://localhost:8080/"
    },
    "id": "JaSZLdsfCRMN",
    "outputId": "8665c0a3-148e-4a22-e633-e539db8fe180"
   },
   "outputs": [
    {
     "data": {
      "text/plain": [
       "6.869284294234608"
      ]
     },
     "execution_count": 70,
     "metadata": {
      "tags": []
     },
     "output_type": "execute_result"
    }
   ],
   "source": [
    "df[df['genre'] == 'Action']['user_score'].mean()"
   ]
  },
  {
   "cell_type": "code",
   "execution_count": null,
   "metadata": {
    "colab": {
     "base_uri": "https://localhost:8080/"
    },
    "id": "5R0LCKUhCRMN",
    "outputId": "1ae6c276-6745-48e2-ed46-373f2430cdea"
   },
   "outputs": [
    {
     "data": {
      "text/plain": [
       "1.756876502180939"
      ]
     },
     "execution_count": 71,
     "metadata": {
      "tags": []
     },
     "output_type": "execute_result"
    }
   ],
   "source": [
    "df[df['genre'] == 'Action']['user_score'].var()"
   ]
  },
  {
   "cell_type": "markdown",
   "metadata": {
    "id": "uEVUmumJCRMO"
   },
   "source": [
    "Использую Т-тест для проверки равенства двух средних в выборках."
   ]
  },
  {
   "cell_type": "code",
   "execution_count": null,
   "metadata": {
    "colab": {
     "base_uri": "https://localhost:8080/"
    },
    "id": "FcQoITSBCRMO",
    "outputId": "47e4b0a9-748c-43f5-92ef-fca2a5edd1fa"
   },
   "outputs": [
    {
     "data": {
      "text/plain": [
       "2.6060510502943962e-15"
      ]
     },
     "execution_count": 72,
     "metadata": {
      "tags": []
     },
     "output_type": "execute_result"
    }
   ],
   "source": [
    "results = st.ttest_ind(df[df['genre'] == 'Sports']['user_score'], df[df['genre'] == 'Action']['user_score']\n",
    "                       , equal_var = False, nan_policy = 'omit')\n",
    "results.pvalue"
   ]
  },
  {
   "cell_type": "markdown",
   "metadata": {
    "id": "Tpu9fLzbCRMP"
   },
   "source": [
    "p-значение очень маленькое (10 в минус 15 степени), отвергаю нулевую гипотезу."
   ]
  },
  {
   "cell_type": "markdown",
   "metadata": {
    "id": "KE6EroHhCRMP"
   },
   "source": [
    "## Вывод"
   ]
  },
  {
   "cell_type": "markdown",
   "metadata": {
    "id": "VJxvh5fqCRMP"
   },
   "source": [
    "В процессе исследования были выполнены следующие работы:"
   ]
  },
  {
   "cell_type": "markdown",
   "metadata": {
    "id": "CIxFeSF8CRMP"
   },
   "source": [
    "### Предобработка и обзор данных:"
   ]
  },
  {
   "cell_type": "markdown",
   "metadata": {
    "id": "dNdws6zwCRMP"
   },
   "source": [
    "- проведена проверка данных на дубликаты;\n",
    "- обнаружено очень много пропущенных значений в столбцах год выпуска, название, жанр, оценки и рейтинг;\n",
    "- пропуски не заполнялись, так как их было или невозможно заполнить, или заполнение могло повлият на результаты исследования;\n",
    "- данные были преобразованы в типы, нужные для дальнейшего исследования."
   ]
  },
  {
   "cell_type": "markdown",
   "metadata": {
    "id": "4rsOWZEBCRMP"
   },
   "source": [
    "### Анализ данных"
   ]
  },
  {
   "cell_type": "markdown",
   "metadata": {
    "id": "vITKMiu9FM9-"
   },
   "source": [
    "#### Общий анализ:"
   ]
  },
  {
   "cell_type": "markdown",
   "metadata": {
    "id": "CaTfnY3ACRMQ"
   },
   "source": [
    "- посчитаны суммарные продажи по каждой игре;\n",
    "- исследовано количество выпускаемых игр в разные годы, обнаружен большой рост после `1998` года;\n",
    "- обнаружена самая популярная игровая платформа (по суммарным продажам) - **PS2**;\n",
    "- обнаружено, что примерная продолжительность жизни игровой платформы - `10` лет;\n",
    "- определен актуальный период `10` лет, на основе примерной продолжительности жизни платформы;\n",
    "- исключены не актуальные платформы (угасающие): **DC**, **GBA**, **GC**, **PS2**, **XB**, **DS**;\n",
    "- построен \"ящик с усами\", обнаружено, что по медианным суммарным продажам лидирует **Х360** и **PS3**, а **PC** на одной из самых низких позиций;\n",
    "- построены диаграммы рассеяния по суммарным продажам относительно отзывов критиков для **Х360** и отдельно остальных платформ;\n",
    "- обнаружено отсутствие зависимости продаж от отзывов (имеем коэффициенты корреляции для **Х360**: `0.38` критики, `0.16` пользователи, для остальных платформ: `0.26` критики, `0.16` пользователи;\n",
    "- определено распределение жанров:  `25%` от всех игр **Action**, **Sports** - `12,5%`, **Misc** и **Role-Playing** - `10%`, остальные менее `10%`;\n",
    "- определена суммарная доходность с каждого жанра (в млн): Топ3: **Action** - `856`, **Shooter** - `600`, **Sports** `514`; Худшие3: **Adventure** - `69`, **Strategy** - `48`, **Puzzle** - `20`;"
   ]
  },
  {
   "cell_type": "markdown",
   "metadata": {
    "id": "H6CYL7r3CRMQ"
   },
   "source": [
    "#### Анализ регионов:\n",
    "Распределение продаж по регионам:\n",
    "- **Х360** лидер Америка - `60%`;\n",
    "- **PS3** лидер Америка - `41%`;\n",
    "- **Wii** лидер Америка - `55%`;\n",
    "- **PS4** лидер Европа - `44%`;\n",
    "- **3DS** лидер Япония - `45%`;"
   ]
  },
  {
   "cell_type": "markdown",
   "metadata": {
    "id": "5_P4aC7eCRMQ"
   },
   "source": [
    "Топ продаж по жанрам в Европе:\n",
    "1. **Action**\n",
    "2. **Shooter**\n",
    "3. **Sports**\n",
    "4. **Misc**\n",
    "5. **Role-Playing**"
   ]
  },
  {
   "cell_type": "markdown",
   "metadata": {
    "id": "MyociyYbCRMQ"
   },
   "source": [
    "Топ продаж по жанрам в Японии:\n",
    "1. **Role-Playing**\n",
    "2. **Action**\n",
    "3. **Sports**\n",
    "4. **Shooter**\n",
    "5. **Misc**"
   ]
  },
  {
   "cell_type": "markdown",
   "metadata": {
    "id": "EZpaY6FHCRMQ"
   },
   "source": [
    "Топ продаж по жанрам в Америке:\n",
    "1. **Action**\n",
    "2. **Shooter**\n",
    "3. **Sports**\n",
    "4. **Misc**\n",
    "5. **Role-Playing**"
   ]
  },
  {
   "cell_type": "markdown",
   "metadata": {
    "id": "eIF8eoFnCRMQ"
   },
   "source": [
    "Обнаружено отсутствие зависимости продаж от рейтинга ESRB.\n",
    "Коэффициенты корреляции: `0.03`, `0.20`, `0.06`."
   ]
  },
  {
   "cell_type": "markdown",
   "metadata": {
    "id": "W4VK94khCRMR"
   },
   "source": [
    "### Проверка гипотез."
   ]
  },
  {
   "cell_type": "markdown",
   "metadata": {
    "id": "r8uDEB8ICRMR"
   },
   "source": [
    "#### Средние пользовательские рейтинги платформ Xbox One и PC одинаковые."
   ]
  },
  {
   "cell_type": "markdown",
   "metadata": {
    "id": "g3dXk2OHCRMR"
   },
   "source": [
    "Сформулированы гипотезы:\n",
    "- нулевая - Средние рейтинги равны;\n",
    "- альтернативная - средние рейтинги различаются.\n",
    "\n",
    "Пороговым значением принято `5%`."
   ]
  },
  {
   "cell_type": "markdown",
   "metadata": {
    "id": "K6mS9h8iCRMR"
   },
   "source": [
    "Проведен Т-тест, обнаружено, что средние значения различаются на `0.2`, а с вероятностью такой или больший разброс можно встретить случайно, что свидетельствует о том, что нулевую гипотезу отвергнуть нельзя."
   ]
  },
  {
   "cell_type": "markdown",
   "metadata": {
    "id": "okpZVaE0CRMR"
   },
   "source": [
    "#### Средние пользовательские рейтинги жанров Action (англ. «действие», экшен-игры) и Sports (англ. «спортивные соревнования») разные."
   ]
  },
  {
   "cell_type": "markdown",
   "metadata": {
    "id": "HHWxgm4DCRMR"
   },
   "source": [
    "Сформулированы гипотезы:\n",
    "- нулевой гипотезой - Средние рейтинги равны;\n",
    "- альтернативной гипотезой - средний рейтинги различаются.\n",
    "\n",
    "Пороговым значением принято `5%`."
   ]
  },
  {
   "cell_type": "markdown",
   "metadata": {
    "id": "Q4spOoXNCRMS"
   },
   "source": [
    "Проведен Т-тест, обнаружено, что средние значения различаются на `0.7`, однако вероятность встретить такое различие случайно `10` в минус `15` степени, что очень мало. Нулевая гипотеза отвергнута."
   ]
  }
 ],
 "metadata": {
  "colab": {
   "collapsed_sections": [],
   "name": "studying-da-3.ipynb",
   "provenance": []
  },
  "kernelspec": {
   "display_name": "Python 3",
   "language": "python",
   "name": "python3"
  },
  "language_info": {
   "codemirror_mode": {
    "name": "ipython",
    "version": 3
   },
   "file_extension": ".py",
   "mimetype": "text/x-python",
   "name": "python",
   "nbconvert_exporter": "python",
   "pygments_lexer": "ipython3",
   "version": "3.7.6"
  }
 },
 "nbformat": 4,
 "nbformat_minor": 1
}
